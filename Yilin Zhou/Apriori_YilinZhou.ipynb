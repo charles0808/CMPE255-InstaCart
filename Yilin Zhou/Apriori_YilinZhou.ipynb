{
 "cells": [
  {
   "cell_type": "markdown",
   "metadata": {},
   "source": [
    "# apriori analysis"
   ]
  },
  {
   "cell_type": "markdown",
   "metadata": {},
   "source": [
    "### after clustering,it will generate k classes,each class will have a list of user_ids inside that class,next step is to apply basket anaysis on each classification,to get the rules of each class"
   ]
  },
  {
   "cell_type": "code",
   "execution_count": 1,
   "metadata": {},
   "outputs": [],
   "source": [
    "import pandas as pd\n",
    "import numpy as np\n",
    "\n",
    "aisle = pd.read_csv('../../DataSets/aisles.csv')\n",
    "department = pd.read_csv('../../DataSets/departments.csv')\n",
    "order_products_prior = pd.read_csv('../../DataSets/order_products__prior.csv')\n",
    "order_products_train = pd.read_csv('../../DataSets/order_products__train.csv')\n",
    "orders = pd.read_csv('../../DataSets/orders.csv')\n",
    "products = pd.read_csv('../../DataSets/products.csv')\n",
    "\n",
    "# fresh fruits:24\n",
    "# fresh vegetables:83\n",
    "# packaged vegetables fruits:122"
   ]
  },
  {
   "cell_type": "code",
   "execution_count": 2,
   "metadata": {},
   "outputs": [],
   "source": [
    "import time\n",
    "from mlxtend.preprocessing import TransactionEncoder\n",
    "from mlxtend.frequent_patterns import apriori, fpmax, fpgrowth\n",
    "from mlxtend.frequent_patterns import association_rules\n",
    "\n",
    "def Apriori(user_product_part1):\n",
    "    \n",
    "    user_product_dic={}\n",
    "    for item in user_product_part1.itertuples():\n",
    "        if(user_product_dic.get(item[2])):\n",
    "            user_product_dic[item[2]].append(item[3])\n",
    "        else:\n",
    "            user_product_dic[item[2]] = [] \n",
    "            user_product_dic[item[2]].append(item[3])\n",
    "    transaction = []\n",
    "    for item in user_product_dic:\n",
    "        transaction.append(user_product_dic[item])\n",
    "#     print('transaction',transaction)\n",
    "    te = TransactionEncoder()\n",
    "    te_ary = te.fit(transaction).transform(transaction)\n",
    "#     print('te_ary',te_ary)\n",
    "    df = pd.DataFrame(te_ary, columns=te.columns_)\n",
    "    \n",
    "    return df"
   ]
  },
  {
   "cell_type": "code",
   "execution_count": 3,
   "metadata": {},
   "outputs": [],
   "source": [
    "def transform_associationRule_to_product(association_rule):\n",
    "    \n",
    "    relationship_rule = association_rule[['antecedents','consequents']]\n",
    "    arr_relation=relationship_rule.values\n",
    "    final_rules = []\n",
    "    for item in arr_relation:\n",
    "        pre_product_Arr = []\n",
    "        after_product_Arr = []\n",
    "        pre = item[0]\n",
    "        after = item[1]\n",
    "        for pre_item in pre:\n",
    "            pre_product_Arr.append(products[products['product_id' ]== pre_item]['product_name'].values[0])\n",
    "        for after_item in after:\n",
    "            after_product_Arr.append(products[products['product_id' ]== after_item]['product_name'].values[0])\n",
    "        tup = (pre_product_Arr,after_product_Arr)\n",
    "        final_rules.append(tup)\n",
    "    return final_rules"
   ]
  },
  {
   "cell_type": "code",
   "execution_count": 4,
   "metadata": {},
   "outputs": [],
   "source": [
    "def transform_frequentItem_to_product(frequent_itemsets):\n",
    "    arr_relation=frequent_itemsets.values\n",
    "    final_arr = []\n",
    "    for item in arr_relation:\n",
    "        arr = []\n",
    "        for it in item[1]:\n",
    "            arr.append(products[products['product_id' ]== it]['product_name'].values[0])\n",
    "        final_arr.append(arr)\n",
    "    return final_arr"
   ]
  },
  {
   "cell_type": "code",
   "execution_count": null,
   "metadata": {},
   "outputs": [],
   "source": []
  },
  {
   "cell_type": "markdown",
   "metadata": {},
   "source": [
    "#  association items of all users (no any change)"
   ]
  },
  {
   "cell_type": "code",
   "execution_count": 5,
   "metadata": {},
   "outputs": [
    {
     "data": {
      "text/html": [
       "<div>\n",
       "<style scoped>\n",
       "    .dataframe tbody tr th:only-of-type {\n",
       "        vertical-align: middle;\n",
       "    }\n",
       "\n",
       "    .dataframe tbody tr th {\n",
       "        vertical-align: top;\n",
       "    }\n",
       "\n",
       "    .dataframe thead th {\n",
       "        text-align: right;\n",
       "    }\n",
       "</style>\n",
       "<table border=\"1\" class=\"dataframe\">\n",
       "  <thead>\n",
       "    <tr style=\"text-align: right;\">\n",
       "      <th></th>\n",
       "      <th>order_id</th>\n",
       "      <th>user_id</th>\n",
       "      <th>product_id</th>\n",
       "    </tr>\n",
       "  </thead>\n",
       "  <tbody>\n",
       "    <tr>\n",
       "      <th>0</th>\n",
       "      <td>2539329</td>\n",
       "      <td>1</td>\n",
       "      <td>196</td>\n",
       "    </tr>\n",
       "    <tr>\n",
       "      <th>1</th>\n",
       "      <td>2539329</td>\n",
       "      <td>1</td>\n",
       "      <td>14084</td>\n",
       "    </tr>\n",
       "    <tr>\n",
       "      <th>2</th>\n",
       "      <td>2539329</td>\n",
       "      <td>1</td>\n",
       "      <td>12427</td>\n",
       "    </tr>\n",
       "    <tr>\n",
       "      <th>3</th>\n",
       "      <td>2539329</td>\n",
       "      <td>1</td>\n",
       "      <td>26088</td>\n",
       "    </tr>\n",
       "    <tr>\n",
       "      <th>4</th>\n",
       "      <td>2539329</td>\n",
       "      <td>1</td>\n",
       "      <td>26405</td>\n",
       "    </tr>\n",
       "    <tr>\n",
       "      <th>...</th>\n",
       "      <td>...</td>\n",
       "      <td>...</td>\n",
       "      <td>...</td>\n",
       "    </tr>\n",
       "    <tr>\n",
       "      <th>33819101</th>\n",
       "      <td>272231</td>\n",
       "      <td>206209</td>\n",
       "      <td>40603</td>\n",
       "    </tr>\n",
       "    <tr>\n",
       "      <th>33819102</th>\n",
       "      <td>272231</td>\n",
       "      <td>206209</td>\n",
       "      <td>15655</td>\n",
       "    </tr>\n",
       "    <tr>\n",
       "      <th>33819103</th>\n",
       "      <td>272231</td>\n",
       "      <td>206209</td>\n",
       "      <td>42606</td>\n",
       "    </tr>\n",
       "    <tr>\n",
       "      <th>33819104</th>\n",
       "      <td>272231</td>\n",
       "      <td>206209</td>\n",
       "      <td>37966</td>\n",
       "    </tr>\n",
       "    <tr>\n",
       "      <th>33819105</th>\n",
       "      <td>272231</td>\n",
       "      <td>206209</td>\n",
       "      <td>39216</td>\n",
       "    </tr>\n",
       "  </tbody>\n",
       "</table>\n",
       "<p>33819106 rows × 3 columns</p>\n",
       "</div>"
      ],
      "text/plain": [
       "          order_id  user_id  product_id\n",
       "0          2539329        1         196\n",
       "1          2539329        1       14084\n",
       "2          2539329        1       12427\n",
       "3          2539329        1       26088\n",
       "4          2539329        1       26405\n",
       "...            ...      ...         ...\n",
       "33819101    272231   206209       40603\n",
       "33819102    272231   206209       15655\n",
       "33819103    272231   206209       42606\n",
       "33819104    272231   206209       37966\n",
       "33819105    272231   206209       39216\n",
       "\n",
       "[33819106 rows x 3 columns]"
      ]
     },
     "execution_count": 5,
     "metadata": {},
     "output_type": "execute_result"
    }
   ],
   "source": [
    "order_user_id = orders[['order_id','user_id']]\n",
    "\n",
    "order_products_id1 = order_products_train[['order_id','product_id']]\n",
    "order_products_id2 = order_products_prior[['order_id','product_id']]\n",
    "order_products_id = order_products_id1.append(order_products_id2, ignore_index=True)\n",
    "# order_products_id = order_products_id2\n",
    "order_products_id\n",
    "user_product_id=order_user_id.merge(order_products_id,left_on='order_id', right_on='order_id')\n",
    "user_product_id"
   ]
  },
  {
   "cell_type": "code",
   "execution_count": 6,
   "metadata": {},
   "outputs": [],
   "source": [
    "df = Apriori(user_product_id)\n",
    "frequent_itemsets_all = apriori(df, min_support=0.1, use_colnames=True)\n",
    "association_rule_all = association_rules(frequent_itemsets_all, metric=\"confidence\", min_threshold=0.1)"
   ]
  },
  {
   "cell_type": "code",
   "execution_count": 7,
   "metadata": {},
   "outputs": [
    {
     "data": {
      "text/plain": [
       "[(['Bag of Organic Bananas'], ['Organic Strawberries']),\n",
       " (['Organic Strawberries'], ['Bag of Organic Bananas']),\n",
       " (['Bag of Organic Bananas'], ['Organic Baby Spinach']),\n",
       " (['Organic Baby Spinach'], ['Bag of Organic Bananas']),\n",
       " (['Bag of Organic Bananas'], ['Banana']),\n",
       " (['Banana'], ['Bag of Organic Bananas']),\n",
       " (['Bag of Organic Bananas'], ['Organic Hass Avocado']),\n",
       " (['Organic Hass Avocado'], ['Bag of Organic Bananas']),\n",
       " (['Banana'], ['Strawberries']),\n",
       " (['Strawberries'], ['Banana']),\n",
       " (['Organic Strawberries'], ['Organic Baby Spinach']),\n",
       " (['Organic Baby Spinach'], ['Organic Strawberries']),\n",
       " (['Organic Strawberries'], ['Banana']),\n",
       " (['Banana'], ['Organic Strawberries']),\n",
       " (['Limes'], ['Organic Strawberries']),\n",
       " (['Organic Strawberries'], ['Limes']),\n",
       " (['Organic Strawberries'], ['Organic Blueberries']),\n",
       " (['Organic Blueberries'], ['Organic Strawberries']),\n",
       " (['Organic Hass Avocado'], ['Organic Strawberries']),\n",
       " (['Organic Strawberries'], ['Organic Hass Avocado']),\n",
       " (['Organic Strawberries'], ['Organic Avocado']),\n",
       " (['Organic Avocado'], ['Organic Strawberries']),\n",
       " (['Banana'], ['Organic Baby Spinach']),\n",
       " (['Organic Baby Spinach'], ['Banana']),\n",
       " (['Organic Garlic'], ['Organic Baby Spinach']),\n",
       " (['Organic Baby Spinach'], ['Organic Garlic']),\n",
       " (['Limes'], ['Organic Baby Spinach']),\n",
       " (['Organic Baby Spinach'], ['Limes']),\n",
       " (['Organic Hass Avocado'], ['Organic Baby Spinach']),\n",
       " (['Organic Baby Spinach'], ['Organic Hass Avocado']),\n",
       " (['Large Lemon'], ['Organic Baby Spinach']),\n",
       " (['Organic Baby Spinach'], ['Large Lemon']),\n",
       " (['Organic Avocado'], ['Organic Baby Spinach']),\n",
       " (['Organic Baby Spinach'], ['Organic Avocado']),\n",
       " (['Limes'], ['Banana']),\n",
       " (['Banana'], ['Limes']),\n",
       " (['Large Lemon'], ['Banana']),\n",
       " (['Banana'], ['Large Lemon']),\n",
       " (['Banana'], ['Organic Avocado']),\n",
       " (['Organic Avocado'], ['Banana']),\n",
       " (['Limes'], ['Large Lemon']),\n",
       " (['Large Lemon'], ['Limes'])]"
      ]
     },
     "execution_count": 7,
     "metadata": {},
     "output_type": "execute_result"
    }
   ],
   "source": [
    "transform_associationRule_to_product(association_rule_all)"
   ]
  },
  {
   "cell_type": "code",
   "execution_count": 8,
   "metadata": {},
   "outputs": [
    {
     "data": {
      "text/plain": [
       "[['Banana'],\n",
       " ['Bag of Organic Bananas'],\n",
       " ['Organic Strawberries'],\n",
       " ['Organic Baby Spinach'],\n",
       " ['Large Lemon'],\n",
       " ['Limes'],\n",
       " ['Strawberries'],\n",
       " ['Organic Hass Avocado'],\n",
       " ['Organic Avocado'],\n",
       " ['Organic Blueberries'],\n",
       " ['Organic Garlic'],\n",
       " ['Organic Yellow Onion'],\n",
       " ['Organic Zucchini'],\n",
       " ['Organic Raspberries'],\n",
       " ['Bag of Organic Bananas', 'Organic Strawberries'],\n",
       " ['Yellow Onions'],\n",
       " ['Cucumber Kirby'],\n",
       " ['Organic Grape Tomatoes'],\n",
       " ['Organic Strawberries', 'Organic Baby Spinach'],\n",
       " ['Seedless Red Grapes']]"
      ]
     },
     "execution_count": 8,
     "metadata": {},
     "output_type": "execute_result"
    }
   ],
   "source": [
    "s = frequent_itemsets_all.sort_values('support',ascending=False)[:20]\n",
    "transform_frequentItem_to_product(s)\n"
   ]
  },
  {
   "cell_type": "markdown",
   "metadata": {},
   "source": [
    "#  association items of all users (remove asiles : fresh fruits(24),fresh vegetables(83),packaged vegetables fruits(122))"
   ]
  },
  {
   "cell_type": "markdown",
   "metadata": {},
   "source": [
    "### find the top 3 aisles [fresh fruits,fresh vegetables,packaged vegetables fruits]"
   ]
  },
  {
   "cell_type": "code",
   "execution_count": 9,
   "metadata": {
    "scrolled": false
   },
   "outputs": [
    {
     "data": {
      "text/plain": [
       "[24, 83, 123]"
      ]
     },
     "execution_count": 9,
     "metadata": {},
     "output_type": "execute_result"
    }
   ],
   "source": [
    "aisle_ids = []\n",
    "aisle_arr = aisle[aisle['aisle'].isin(['fresh fruits','fresh vegetables','packaged vegetables fruits'])].values\n",
    "for item in aisle_arr:\n",
    "    aisle_ids.append(item[0])\n",
    "\n",
    "product_ids = []\n",
    "product_arr = products[products['aisle_id'].isin(aisle_ids)].values\n",
    "for item in product_arr:\n",
    "    product_ids.append(item[0])\n",
    "product_ids\n",
    "aisle_ids"
   ]
  },
  {
   "cell_type": "code",
   "execution_count": 10,
   "metadata": {},
   "outputs": [],
   "source": [
    "user_product_id = user_product_id[~user_product_id['product_id'].isin(product_ids)]"
   ]
  },
  {
   "cell_type": "code",
   "execution_count": 11,
   "metadata": {
    "scrolled": false
   },
   "outputs": [
    {
     "name": "stdout",
     "output_type": "stream",
     "text": [
      "time t2 - t1 29.57947611808777\n"
     ]
    }
   ],
   "source": [
    "df = Apriori(user_product_id)\n",
    "t1 = time.time()\n",
    "frequent_itemsets = apriori(df, min_support=0.08, use_colnames=True)\n",
    "t2 = time.time()\n",
    "print('time t2 - t1',t2-t1)"
   ]
  },
  {
   "cell_type": "code",
   "execution_count": 12,
   "metadata": {},
   "outputs": [],
   "source": [
    "association_rule = association_rules(frequent_itemsets, metric=\"confidence\", min_threshold=0.08)\n",
    "# association_rule"
   ]
  },
  {
   "cell_type": "code",
   "execution_count": 13,
   "metadata": {},
   "outputs": [
    {
     "data": {
      "text/plain": [
       "[]"
      ]
     },
     "execution_count": 13,
     "metadata": {},
     "output_type": "execute_result"
    }
   ],
   "source": [
    "transform_associationRule_to_product(association_rule)"
   ]
  },
  {
   "cell_type": "code",
   "execution_count": 14,
   "metadata": {},
   "outputs": [
    {
     "data": {
      "text/plain": [
       "[['Organic Cilantro'],\n",
       " ['Extra Virgin Olive Oil'],\n",
       " ['Organic Italian Parsley Bunch'],\n",
       " ['Blueberries'],\n",
       " ['Organic Whole Milk'],\n",
       " ['Bunched Cilantro'],\n",
       " ['Original Hummus'],\n",
       " ['Raspberries'],\n",
       " ['Grated Parmesan'],\n",
       " ['Sparkling Water Grapefruit'],\n",
       " ['Boneless Skinless Chicken Breasts'],\n",
       " ['Organic Half & Half'],\n",
       " ['Half & Half'],\n",
       " ['100% Whole Wheat Bread']]"
      ]
     },
     "execution_count": 14,
     "metadata": {},
     "output_type": "execute_result"
    }
   ],
   "source": [
    "s = frequent_itemsets.sort_values('support',ascending=False)[:20]\n",
    "transform_frequentItem_to_product(s)"
   ]
  },
  {
   "cell_type": "code",
   "execution_count": null,
   "metadata": {},
   "outputs": [],
   "source": []
  },
  {
   "cell_type": "markdown",
   "metadata": {},
   "source": [
    "# after removing frequent asiles and apply association rule on each user classification "
   ]
  },
  {
   "cell_type": "code",
   "execution_count": 15,
   "metadata": {},
   "outputs": [],
   "source": [
    "user_classification = pd.read_csv('../customer_classificationV2.csv')\n",
    "user_classification = user_classification[['user_id','label']]\n",
    "user0 = user_classification[user_classification['label']==0]\n",
    "user1 = user_classification[user_classification['label']==1]\n",
    "user2 = user_classification[user_classification['label']==2]\n",
    "user3 = user_classification[user_classification['label']==3]\n",
    "user4 = user_classification[user_classification['label']==4]"
   ]
  },
  {
   "cell_type": "code",
   "execution_count": 73,
   "metadata": {},
   "outputs": [],
   "source": [
    "def apply_apriori_fun(dataset,minSup,minCon):\n",
    "    df = Apriori(dataset)\n",
    "    t1 = time.time()\n",
    "    frequent_itemsets0 = apriori(df, min_support=minSup, use_colnames=True)\n",
    "    t2 = time.time()\n",
    "    print('time t2 - t1',t2-t1)\n",
    "\n",
    "    association_rule0 = association_rules(frequent_itemsets0, metric=\"confidence\", min_threshold=minCon)\n",
    "    # association_rule0\n",
    "    \n",
    "    s = frequent_itemsets0.sort_values('support',ascending=False)[:20]\n",
    "    print('top frequent items')\n",
    "    frequent_items = transform_frequentItem_to_product(s)\n",
    "    for item in frequent_items:\n",
    "        print(item)\n",
    "    \n",
    "#     return association_rule0[['antecedents','consequents']]\n",
    "    return transform_associationRule_to_product(association_rule0)"
   ]
  },
  {
   "cell_type": "markdown",
   "metadata": {},
   "source": [
    "#  association items of clustering 0"
   ]
  },
  {
   "cell_type": "code",
   "execution_count": 74,
   "metadata": {},
   "outputs": [],
   "source": [
    "user_product_part0 = user_product_id[user_product_id['user_id'].isin(user0['user_id']) ]"
   ]
  },
  {
   "cell_type": "markdown",
   "metadata": {},
   "source": [
    "### top rules and top items of train data (70%)"
   ]
  },
  {
   "cell_type": "code",
   "execution_count": 75,
   "metadata": {
    "scrolled": true
   },
   "outputs": [
    {
     "name": "stdout",
     "output_type": "stream",
     "text": [
      "time t2 - t1 2.6199440956115723\n",
      "top frequent items\n",
      "['Organic Cilantro']\n",
      "['Organic Italian Parsley Bunch']\n",
      "['Extra Virgin Olive Oil']\n",
      "['Organic Whole Milk']\n",
      "['Blueberries']\n",
      "['Bunched Cilantro']\n",
      "['Grated Parmesan']\n",
      "['Original Hummus']\n",
      "['Unsalted Butter']\n",
      "['Half & Half']\n",
      "['Organic Black Beans']\n",
      "['Organic Basil']\n",
      "['Boneless Skinless Chicken Breasts']\n",
      "['Feta Cheese Crumbles']\n",
      "['Organic Garbanzo Beans']\n",
      "['Organic Half & Half']\n",
      "['Organic Thyme']\n",
      "['Organic Cilantro', 'Organic Italian Parsley Bunch']\n",
      "['Organic Coconut Milk']\n",
      "['Organic Sour Cream']\n"
     ]
    },
    {
     "data": {
      "text/plain": [
       "[(['Organic Cilantro'], ['Organic Whole Milk']),\n",
       " (['Organic Whole Milk'], ['Organic Cilantro']),\n",
       " (['Organic Whole Milk'], ['Organic Italian Parsley Bunch']),\n",
       " (['Organic Italian Parsley Bunch'], ['Organic Whole Milk']),\n",
       " (['Bunched Cilantro'], ['Organic Cilantro']),\n",
       " (['Organic Cilantro'], ['Bunched Cilantro']),\n",
       " (['Bunched Cilantro'], ['Organic Italian Parsley Bunch']),\n",
       " (['Organic Italian Parsley Bunch'], ['Bunched Cilantro']),\n",
       " (['Extra Virgin Olive Oil'], ['Organic Cilantro']),\n",
       " (['Organic Cilantro'], ['Extra Virgin Olive Oil']),\n",
       " (['Extra Virgin Olive Oil'], ['Organic Italian Parsley Bunch']),\n",
       " (['Organic Italian Parsley Bunch'], ['Extra Virgin Olive Oil']),\n",
       " (['Grated Parmesan'], ['Organic Cilantro']),\n",
       " (['Organic Cilantro'], ['Grated Parmesan']),\n",
       " (['Organic Cilantro'], ['Organic Italian Parsley Bunch']),\n",
       " (['Organic Italian Parsley Bunch'], ['Organic Cilantro']),\n",
       " (['Grated Parmesan'], ['Organic Italian Parsley Bunch']),\n",
       " (['Organic Italian Parsley Bunch'], ['Grated Parmesan']),\n",
       " (['Organic Thyme'], ['Organic Italian Parsley Bunch']),\n",
       " (['Organic Italian Parsley Bunch'], ['Organic Thyme']),\n",
       " (['Organic Basil'], ['Organic Italian Parsley Bunch']),\n",
       " (['Organic Italian Parsley Bunch'], ['Organic Basil'])]"
      ]
     },
     "execution_count": 75,
     "metadata": {},
     "output_type": "execute_result"
    }
   ],
   "source": [
    "x0=apply_apriori_fun(user_product_part0[:int(len(user_product_part0)*0.7)],0.08,0.1)\n",
    "x0"
   ]
  },
  {
   "cell_type": "markdown",
   "metadata": {},
   "source": [
    "### top rules and top items of test data (30%)"
   ]
  },
  {
   "cell_type": "code",
   "execution_count": 76,
   "metadata": {
    "scrolled": true
   },
   "outputs": [
    {
     "name": "stdout",
     "output_type": "stream",
     "text": [
      "time t2 - t1 0.820833683013916\n",
      "top frequent items\n",
      "['Extra Virgin Olive Oil']\n",
      "['Organic Cilantro']\n",
      "['Organic Italian Parsley Bunch']\n",
      "['Organic Whole Milk']\n",
      "['Blueberries']\n",
      "['Bunched Cilantro']\n",
      "['Grated Parmesan']\n",
      "['Original Hummus']\n",
      "['Unsalted Butter']\n",
      "['Organic Black Beans']\n",
      "['Half & Half']\n",
      "['Organic Half & Half']\n",
      "['Boneless Skinless Chicken Breasts']\n",
      "['Organic Basil']\n",
      "['Feta Cheese Crumbles']\n",
      "['Organic Coconut Milk']\n",
      "['Organic Garbanzo Beans']\n",
      "['Organic Cilantro', 'Organic Italian Parsley Bunch']\n",
      "['Organic Whole String Cheese']\n",
      "['Raspberries']\n"
     ]
    },
    {
     "data": {
      "text/plain": [
       "[(['Organic Whole Milk'], ['Organic Cilantro']),\n",
       " (['Organic Cilantro'], ['Organic Whole Milk']),\n",
       " (['Organic Whole Milk'], ['Organic Italian Parsley Bunch']),\n",
       " (['Organic Italian Parsley Bunch'], ['Organic Whole Milk']),\n",
       " (['Bunched Cilantro'], ['Organic Cilantro']),\n",
       " (['Organic Cilantro'], ['Bunched Cilantro']),\n",
       " (['Bunched Cilantro'], ['Organic Italian Parsley Bunch']),\n",
       " (['Organic Italian Parsley Bunch'], ['Bunched Cilantro']),\n",
       " (['Extra Virgin Olive Oil'], ['Organic Cilantro']),\n",
       " (['Organic Cilantro'], ['Extra Virgin Olive Oil']),\n",
       " (['Extra Virgin Olive Oil'], ['Organic Italian Parsley Bunch']),\n",
       " (['Organic Italian Parsley Bunch'], ['Extra Virgin Olive Oil']),\n",
       " (['Organic Cilantro'], ['Organic Italian Parsley Bunch']),\n",
       " (['Organic Italian Parsley Bunch'], ['Organic Cilantro']),\n",
       " (['Grated Parmesan'], ['Organic Italian Parsley Bunch']),\n",
       " (['Organic Italian Parsley Bunch'], ['Grated Parmesan'])]"
      ]
     },
     "execution_count": 76,
     "metadata": {},
     "output_type": "execute_result"
    }
   ],
   "source": [
    "apply_apriori_fun(user_product_part0[-int(len(user_product_part0)*0.3):],0.08,0.1)"
   ]
  },
  {
   "cell_type": "markdown",
   "metadata": {},
   "source": [
    "#  association items of clustering 1"
   ]
  },
  {
   "cell_type": "code",
   "execution_count": 77,
   "metadata": {},
   "outputs": [],
   "source": [
    "user_product_part1 = user_product_id[user_product_id['user_id'].isin(user1['user_id']) ]"
   ]
  },
  {
   "cell_type": "markdown",
   "metadata": {},
   "source": [
    "### top rules and top items of train data (70%)"
   ]
  },
  {
   "cell_type": "code",
   "execution_count": null,
   "metadata": {
    "scrolled": true
   },
   "outputs": [],
   "source": [
    "x1=apply_apriori_fun(user_product_part1[:int(len(user_product_part1)*0.7)],0.13,0.1)\n",
    "x1"
   ]
  },
  {
   "cell_type": "markdown",
   "metadata": {},
   "source": [
    "### top rules and top items of test data (30%)"
   ]
  },
  {
   "cell_type": "code",
   "execution_count": null,
   "metadata": {},
   "outputs": [],
   "source": [
    "apply_apriori_fun(user_product_part1[-int(len(user_product_part1)*0.3):],0.13,0.1)"
   ]
  },
  {
   "cell_type": "markdown",
   "metadata": {},
   "source": [
    "#  association items of clustering 2"
   ]
  },
  {
   "cell_type": "code",
   "execution_count": null,
   "metadata": {},
   "outputs": [],
   "source": [
    "user_product_part2 = user_product_id[user_product_id['user_id'].isin(user2['user_id']) ]"
   ]
  },
  {
   "cell_type": "markdown",
   "metadata": {},
   "source": [
    "### top rules and top items of train data (70%)"
   ]
  },
  {
   "cell_type": "code",
   "execution_count": null,
   "metadata": {
    "scrolled": true
   },
   "outputs": [],
   "source": [
    "x2=apply_apriori_fun(user_product_part2[:int(len(user_product_part2)*0.7)],0.08,0.1)\n",
    "x2"
   ]
  },
  {
   "cell_type": "markdown",
   "metadata": {},
   "source": [
    "### top rules and top items of test data (30%)"
   ]
  },
  {
   "cell_type": "code",
   "execution_count": null,
   "metadata": {
    "scrolled": true
   },
   "outputs": [],
   "source": [
    "apply_apriori_fun(user_product_part2[-int(len(user_product_part2)*0.3):],0.08,0.1)"
   ]
  },
  {
   "cell_type": "markdown",
   "metadata": {},
   "source": [
    "#  association items of clustering 3"
   ]
  },
  {
   "cell_type": "code",
   "execution_count": null,
   "metadata": {},
   "outputs": [],
   "source": [
    "user_product_part3 = user_product_id[user_product_id['user_id'].isin(user3['user_id']) ]"
   ]
  },
  {
   "cell_type": "markdown",
   "metadata": {},
   "source": [
    "### top rules and top items of train data (70%)"
   ]
  },
  {
   "cell_type": "code",
   "execution_count": null,
   "metadata": {
    "scrolled": true
   },
   "outputs": [],
   "source": [
    "x3=apply_apriori_fun(user_product_part3[:int(len(user_product_part3)*0.7)],0.2,0.2)\n",
    "x3"
   ]
  },
  {
   "cell_type": "markdown",
   "metadata": {},
   "source": [
    "### top rules and top items of test data (30%)"
   ]
  },
  {
   "cell_type": "code",
   "execution_count": null,
   "metadata": {},
   "outputs": [],
   "source": [
    "apply_apriori_fun(user_product_part3[-int(len(user_product_part3)*0.3):],0.2,0.2)"
   ]
  },
  {
   "cell_type": "code",
   "execution_count": null,
   "metadata": {},
   "outputs": [],
   "source": []
  },
  {
   "cell_type": "markdown",
   "metadata": {},
   "source": [
    "#  association items of clustering 4"
   ]
  },
  {
   "cell_type": "code",
   "execution_count": null,
   "metadata": {},
   "outputs": [],
   "source": [
    "user_product_part4 = user_product_id[user_product_id['user_id'].isin(user4['user_id']) ]"
   ]
  },
  {
   "cell_type": "code",
   "execution_count": null,
   "metadata": {
    "scrolled": true
   },
   "outputs": [],
   "source": [
    "x4=apply_apriori_fun(user_product_part4[:int(len(user_product_part4)*0.7)],0.1,0.1)\n",
    "x4"
   ]
  },
  {
   "cell_type": "code",
   "execution_count": null,
   "metadata": {},
   "outputs": [],
   "source": [
    "apply_apriori_fun(user_product_part4[-int(len(user_product_part4)*0.3):],0.1,0.1)"
   ]
  },
  {
   "cell_type": "code",
   "execution_count": null,
   "metadata": {},
   "outputs": [],
   "source": []
  },
  {
   "cell_type": "code",
   "execution_count": null,
   "metadata": {},
   "outputs": [],
   "source": [
    "# output_rules0 = pd.DataFrame(x0)\n",
    "# output_rules0.columns=['first','second']\n",
    "# output_rules0['label']=0\n",
    "\n",
    "\n",
    "# output_rules1 = pd.DataFrame(x1)\n",
    "# output_rules1.columns=['first','second']\n",
    "# output_rules1['label']=1\n",
    "\n",
    "# output_rules2 = pd.DataFrame(x2)\n",
    "# output_rules2.columns=['first','second']\n",
    "# output_rules2['label']=2\n",
    "\n",
    "# output_rules3 = pd.DataFrame(x3)\n",
    "# output_rules3.columns=['first','second']\n",
    "# output_rules3['label']=3\n",
    "\n",
    "# output_rules4 = pd.DataFrame(x4)\n",
    "# output_rules4.columns=['first','second']\n",
    "# output_rules4['label']=4\n",
    "\n",
    "# output_rules = pd.concat([output_rules0,output_rules1,output_rules2,output_rules3,output_rules4],ignore_index=True)\n",
    "# output_rules"
   ]
  },
  {
   "cell_type": "code",
   "execution_count": null,
   "metadata": {},
   "outputs": [],
   "source": [
    "# output_rules.to_csv('./output_Aprioir.csv')"
   ]
  },
  {
   "cell_type": "code",
   "execution_count": null,
   "metadata": {},
   "outputs": [],
   "source": [
    "# output=[]\n",
    "# for item in output_rules.values:\n",
    "#     arr = []\n",
    "#     arr.append(list(item[0]))\n",
    "#     arr.append(list(item[1]))\n",
    "#     arr.append(item[2])\n",
    "#     output.append(arr)\n",
    "# output"
   ]
  },
  {
   "cell_type": "code",
   "execution_count": null,
   "metadata": {},
   "outputs": [],
   "source": [
    "# x = pd.DataFrame(output)\n",
    "# x.columns=['first','second','label']\n",
    "# x.to_csv('./output_Aprioir.csv')\n",
    "# x"
   ]
  },
  {
   "cell_type": "code",
   "execution_count": null,
   "metadata": {},
   "outputs": [],
   "source": []
  },
  {
   "cell_type": "code",
   "execution_count": null,
   "metadata": {},
   "outputs": [],
   "source": []
  }
 ],
 "metadata": {
  "kernelspec": {
   "display_name": "Python 3",
   "language": "python",
   "name": "python3"
  },
  "language_info": {
   "codemirror_mode": {
    "name": "ipython",
    "version": 3
   },
   "file_extension": ".py",
   "mimetype": "text/x-python",
   "name": "python",
   "nbconvert_exporter": "python",
   "pygments_lexer": "ipython3",
   "version": "3.7.7"
  }
 },
 "nbformat": 4,
 "nbformat_minor": 4
}
