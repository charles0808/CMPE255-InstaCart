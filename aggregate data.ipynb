{
 "metadata": {
  "language_info": {
   "codemirror_mode": {
    "name": "ipython",
    "version": 3
   },
   "file_extension": ".py",
   "mimetype": "text/x-python",
   "name": "python",
   "nbconvert_exporter": "python",
   "pygments_lexer": "ipython3",
   "version": "3.8.3-final"
  },
  "orig_nbformat": 2,
  "kernelspec": {
   "name": "python3",
   "display_name": "Python 3"
  }
 },
 "nbformat": 4,
 "nbformat_minor": 2,
 "cells": [
  {
   "cell_type": "code",
   "execution_count": 14,
   "metadata": {},
   "outputs": [
    {
     "output_type": "execute_result",
     "data": {
      "text/plain": [
       "         order_id  user_id eval_set  order_number  order_dow  \\\n",
       "0         2539329        1    prior             1          2   \n",
       "1         2398795        1    prior             2          3   \n",
       "2          473747        1    prior             3          3   \n",
       "3         2254736        1    prior             4          4   \n",
       "4          431534        1    prior             5          4   \n",
       "...           ...      ...      ...           ...        ...   \n",
       "3421078   2266710   206209    prior            10          5   \n",
       "3421079   1854736   206209    prior            11          4   \n",
       "3421080    626363   206209    prior            12          1   \n",
       "3421081   2977660   206209    prior            13          1   \n",
       "3421082    272231   206209    train            14          6   \n",
       "\n",
       "         order_hour_of_day  days_since_prior_order  \n",
       "0                        8                     NaN  \n",
       "1                        7                    15.0  \n",
       "2                       12                    21.0  \n",
       "3                        7                    29.0  \n",
       "4                       15                    28.0  \n",
       "...                    ...                     ...  \n",
       "3421078                 18                    29.0  \n",
       "3421079                 10                    30.0  \n",
       "3421080                 12                    18.0  \n",
       "3421081                 12                     7.0  \n",
       "3421082                 14                    30.0  \n",
       "\n",
       "[3421083 rows x 7 columns]"
      ],
      "text/html": "<div>\n<style scoped>\n    .dataframe tbody tr th:only-of-type {\n        vertical-align: middle;\n    }\n\n    .dataframe tbody tr th {\n        vertical-align: top;\n    }\n\n    .dataframe thead th {\n        text-align: right;\n    }\n</style>\n<table border=\"1\" class=\"dataframe\">\n  <thead>\n    <tr style=\"text-align: right;\">\n      <th></th>\n      <th>order_id</th>\n      <th>user_id</th>\n      <th>eval_set</th>\n      <th>order_number</th>\n      <th>order_dow</th>\n      <th>order_hour_of_day</th>\n      <th>days_since_prior_order</th>\n    </tr>\n  </thead>\n  <tbody>\n    <tr>\n      <th>0</th>\n      <td>2539329</td>\n      <td>1</td>\n      <td>prior</td>\n      <td>1</td>\n      <td>2</td>\n      <td>8</td>\n      <td>NaN</td>\n    </tr>\n    <tr>\n      <th>1</th>\n      <td>2398795</td>\n      <td>1</td>\n      <td>prior</td>\n      <td>2</td>\n      <td>3</td>\n      <td>7</td>\n      <td>15.0</td>\n    </tr>\n    <tr>\n      <th>2</th>\n      <td>473747</td>\n      <td>1</td>\n      <td>prior</td>\n      <td>3</td>\n      <td>3</td>\n      <td>12</td>\n      <td>21.0</td>\n    </tr>\n    <tr>\n      <th>3</th>\n      <td>2254736</td>\n      <td>1</td>\n      <td>prior</td>\n      <td>4</td>\n      <td>4</td>\n      <td>7</td>\n      <td>29.0</td>\n    </tr>\n    <tr>\n      <th>4</th>\n      <td>431534</td>\n      <td>1</td>\n      <td>prior</td>\n      <td>5</td>\n      <td>4</td>\n      <td>15</td>\n      <td>28.0</td>\n    </tr>\n    <tr>\n      <th>...</th>\n      <td>...</td>\n      <td>...</td>\n      <td>...</td>\n      <td>...</td>\n      <td>...</td>\n      <td>...</td>\n      <td>...</td>\n    </tr>\n    <tr>\n      <th>3421078</th>\n      <td>2266710</td>\n      <td>206209</td>\n      <td>prior</td>\n      <td>10</td>\n      <td>5</td>\n      <td>18</td>\n      <td>29.0</td>\n    </tr>\n    <tr>\n      <th>3421079</th>\n      <td>1854736</td>\n      <td>206209</td>\n      <td>prior</td>\n      <td>11</td>\n      <td>4</td>\n      <td>10</td>\n      <td>30.0</td>\n    </tr>\n    <tr>\n      <th>3421080</th>\n      <td>626363</td>\n      <td>206209</td>\n      <td>prior</td>\n      <td>12</td>\n      <td>1</td>\n      <td>12</td>\n      <td>18.0</td>\n    </tr>\n    <tr>\n      <th>3421081</th>\n      <td>2977660</td>\n      <td>206209</td>\n      <td>prior</td>\n      <td>13</td>\n      <td>1</td>\n      <td>12</td>\n      <td>7.0</td>\n    </tr>\n    <tr>\n      <th>3421082</th>\n      <td>272231</td>\n      <td>206209</td>\n      <td>train</td>\n      <td>14</td>\n      <td>6</td>\n      <td>14</td>\n      <td>30.0</td>\n    </tr>\n  </tbody>\n</table>\n<p>3421083 rows × 7 columns</p>\n</div>"
     },
     "metadata": {},
     "execution_count": 14
    }
   ],
   "source": [
    "import pandas as pd\n",
    "orders = pd.read_csv('data/orders.csv')\n",
    "\n",
    "orders"
   ]
  },
  {
   "cell_type": "code",
   "execution_count": 15,
   "metadata": {},
   "outputs": [
    {
     "output_type": "execute_result",
     "data": {
      "text/plain": [
       "        user_id                                         order_list\n",
       "0             1  [2539329, 2398795, 473747, 2254736, 431534, 33...\n",
       "1             2  [2168274, 1501582, 1901567, 738281, 1673511, 1...\n",
       "2             3  [1374495, 444309, 3002854, 2037211, 2710558, 1...\n",
       "3             4  [3343014, 2030307, 691089, 94891, 2557754, 329...\n",
       "4             5       [2717275, 1909121, 2267326, 157374, 2196797]\n",
       "...         ...                                                ...\n",
       "206204   206205                 [969311, 2658896, 414137, 1716008]\n",
       "206205   206206  [3189322, 3351137, 540764, 2975608, 2028659, 5...\n",
       "206206   206207  [2166133, 1074448, 1666077, 2364140, 2277235, ...\n",
       "206207   206208  [2227043, 1959749, 3392839, 731227, 2936891, 2...\n",
       "206208   206209  [3154581, 1889163, 1542354, 688306, 2307371, 3...\n",
       "\n",
       "[206209 rows x 2 columns]"
      ],
      "text/html": "<div>\n<style scoped>\n    .dataframe tbody tr th:only-of-type {\n        vertical-align: middle;\n    }\n\n    .dataframe tbody tr th {\n        vertical-align: top;\n    }\n\n    .dataframe thead th {\n        text-align: right;\n    }\n</style>\n<table border=\"1\" class=\"dataframe\">\n  <thead>\n    <tr style=\"text-align: right;\">\n      <th></th>\n      <th>user_id</th>\n      <th>order_list</th>\n    </tr>\n  </thead>\n  <tbody>\n    <tr>\n      <th>0</th>\n      <td>1</td>\n      <td>[2539329, 2398795, 473747, 2254736, 431534, 33...</td>\n    </tr>\n    <tr>\n      <th>1</th>\n      <td>2</td>\n      <td>[2168274, 1501582, 1901567, 738281, 1673511, 1...</td>\n    </tr>\n    <tr>\n      <th>2</th>\n      <td>3</td>\n      <td>[1374495, 444309, 3002854, 2037211, 2710558, 1...</td>\n    </tr>\n    <tr>\n      <th>3</th>\n      <td>4</td>\n      <td>[3343014, 2030307, 691089, 94891, 2557754, 329...</td>\n    </tr>\n    <tr>\n      <th>4</th>\n      <td>5</td>\n      <td>[2717275, 1909121, 2267326, 157374, 2196797]</td>\n    </tr>\n    <tr>\n      <th>...</th>\n      <td>...</td>\n      <td>...</td>\n    </tr>\n    <tr>\n      <th>206204</th>\n      <td>206205</td>\n      <td>[969311, 2658896, 414137, 1716008]</td>\n    </tr>\n    <tr>\n      <th>206205</th>\n      <td>206206</td>\n      <td>[3189322, 3351137, 540764, 2975608, 2028659, 5...</td>\n    </tr>\n    <tr>\n      <th>206206</th>\n      <td>206207</td>\n      <td>[2166133, 1074448, 1666077, 2364140, 2277235, ...</td>\n    </tr>\n    <tr>\n      <th>206207</th>\n      <td>206208</td>\n      <td>[2227043, 1959749, 3392839, 731227, 2936891, 2...</td>\n    </tr>\n    <tr>\n      <th>206208</th>\n      <td>206209</td>\n      <td>[3154581, 1889163, 1542354, 688306, 2307371, 3...</td>\n    </tr>\n  </tbody>\n</table>\n<p>206209 rows × 2 columns</p>\n</div>"
     },
     "metadata": {},
     "execution_count": 15
    }
   ],
   "source": [
    "group_order = orders.groupby('user_id').apply(lambda x: list(x['order_id'])).reset_index().rename(columns={0: \"order_list\"})\n",
    "\n",
    "group_order"
   ]
  },
  {
   "cell_type": "code",
   "execution_count": 16,
   "metadata": {},
   "outputs": [
    {
     "output_type": "execute_result",
     "data": {
      "text/plain": [
       "          order_id  product_id  add_to_cart_order  reordered\n",
       "0                2       33120                  1          1\n",
       "1                2       28985                  2          1\n",
       "2                2        9327                  3          0\n",
       "3                2       45918                  4          1\n",
       "4                2       30035                  5          0\n",
       "...            ...         ...                ...        ...\n",
       "32434484   3421083       39678                  6          1\n",
       "32434485   3421083       11352                  7          0\n",
       "32434486   3421083        4600                  8          0\n",
       "32434487   3421083       24852                  9          1\n",
       "32434488   3421083        5020                 10          1\n",
       "\n",
       "[32434489 rows x 4 columns]"
      ],
      "text/html": "<div>\n<style scoped>\n    .dataframe tbody tr th:only-of-type {\n        vertical-align: middle;\n    }\n\n    .dataframe tbody tr th {\n        vertical-align: top;\n    }\n\n    .dataframe thead th {\n        text-align: right;\n    }\n</style>\n<table border=\"1\" class=\"dataframe\">\n  <thead>\n    <tr style=\"text-align: right;\">\n      <th></th>\n      <th>order_id</th>\n      <th>product_id</th>\n      <th>add_to_cart_order</th>\n      <th>reordered</th>\n    </tr>\n  </thead>\n  <tbody>\n    <tr>\n      <th>0</th>\n      <td>2</td>\n      <td>33120</td>\n      <td>1</td>\n      <td>1</td>\n    </tr>\n    <tr>\n      <th>1</th>\n      <td>2</td>\n      <td>28985</td>\n      <td>2</td>\n      <td>1</td>\n    </tr>\n    <tr>\n      <th>2</th>\n      <td>2</td>\n      <td>9327</td>\n      <td>3</td>\n      <td>0</td>\n    </tr>\n    <tr>\n      <th>3</th>\n      <td>2</td>\n      <td>45918</td>\n      <td>4</td>\n      <td>1</td>\n    </tr>\n    <tr>\n      <th>4</th>\n      <td>2</td>\n      <td>30035</td>\n      <td>5</td>\n      <td>0</td>\n    </tr>\n    <tr>\n      <th>...</th>\n      <td>...</td>\n      <td>...</td>\n      <td>...</td>\n      <td>...</td>\n    </tr>\n    <tr>\n      <th>32434484</th>\n      <td>3421083</td>\n      <td>39678</td>\n      <td>6</td>\n      <td>1</td>\n    </tr>\n    <tr>\n      <th>32434485</th>\n      <td>3421083</td>\n      <td>11352</td>\n      <td>7</td>\n      <td>0</td>\n    </tr>\n    <tr>\n      <th>32434486</th>\n      <td>3421083</td>\n      <td>4600</td>\n      <td>8</td>\n      <td>0</td>\n    </tr>\n    <tr>\n      <th>32434487</th>\n      <td>3421083</td>\n      <td>24852</td>\n      <td>9</td>\n      <td>1</td>\n    </tr>\n    <tr>\n      <th>32434488</th>\n      <td>3421083</td>\n      <td>5020</td>\n      <td>10</td>\n      <td>1</td>\n    </tr>\n  </tbody>\n</table>\n<p>32434489 rows × 4 columns</p>\n</div>"
     },
     "metadata": {},
     "execution_count": 16
    }
   ],
   "source": [
    "prior_order = pd.read_csv('data/order_products__prior.csv')\n",
    "\n",
    "prior_order"
   ]
  },
  {
   "cell_type": "code",
   "execution_count": 17,
   "metadata": {},
   "outputs": [
    {
     "output_type": "execute_result",
     "data": {
      "text/plain": [
       "         order_id                                       product_list\n",
       "0               2  [33120, 28985, 9327, 45918, 30035, 17794, 4014...\n",
       "1               3  [33754, 24838, 17704, 21903, 17668, 46667, 174...\n",
       "2               4  [46842, 26434, 39758, 27761, 10054, 21351, 225...\n",
       "3               5  [13176, 15005, 47329, 27966, 23909, 48370, 132...\n",
       "4               6                              [40462, 15873, 41897]\n",
       "...           ...                                                ...\n",
       "3214869   3421079                                            [30136]\n",
       "3214870   3421080  [27845, 4932, 18811, 41950, 31717, 12935, 2512...\n",
       "3214871   3421081   [38185, 12218, 32299, 3060, 20539, 35221, 12861]\n",
       "3214872   3421082  [17279, 12738, 16797, 43352, 32700, 12023, 47941]\n",
       "3214873   3421083  [7854, 45309, 21162, 18176, 35211, 39678, 1135...\n",
       "\n",
       "[3214874 rows x 2 columns]"
      ],
      "text/html": "<div>\n<style scoped>\n    .dataframe tbody tr th:only-of-type {\n        vertical-align: middle;\n    }\n\n    .dataframe tbody tr th {\n        vertical-align: top;\n    }\n\n    .dataframe thead th {\n        text-align: right;\n    }\n</style>\n<table border=\"1\" class=\"dataframe\">\n  <thead>\n    <tr style=\"text-align: right;\">\n      <th></th>\n      <th>order_id</th>\n      <th>product_list</th>\n    </tr>\n  </thead>\n  <tbody>\n    <tr>\n      <th>0</th>\n      <td>2</td>\n      <td>[33120, 28985, 9327, 45918, 30035, 17794, 4014...</td>\n    </tr>\n    <tr>\n      <th>1</th>\n      <td>3</td>\n      <td>[33754, 24838, 17704, 21903, 17668, 46667, 174...</td>\n    </tr>\n    <tr>\n      <th>2</th>\n      <td>4</td>\n      <td>[46842, 26434, 39758, 27761, 10054, 21351, 225...</td>\n    </tr>\n    <tr>\n      <th>3</th>\n      <td>5</td>\n      <td>[13176, 15005, 47329, 27966, 23909, 48370, 132...</td>\n    </tr>\n    <tr>\n      <th>4</th>\n      <td>6</td>\n      <td>[40462, 15873, 41897]</td>\n    </tr>\n    <tr>\n      <th>...</th>\n      <td>...</td>\n      <td>...</td>\n    </tr>\n    <tr>\n      <th>3214869</th>\n      <td>3421079</td>\n      <td>[30136]</td>\n    </tr>\n    <tr>\n      <th>3214870</th>\n      <td>3421080</td>\n      <td>[27845, 4932, 18811, 41950, 31717, 12935, 2512...</td>\n    </tr>\n    <tr>\n      <th>3214871</th>\n      <td>3421081</td>\n      <td>[38185, 12218, 32299, 3060, 20539, 35221, 12861]</td>\n    </tr>\n    <tr>\n      <th>3214872</th>\n      <td>3421082</td>\n      <td>[17279, 12738, 16797, 43352, 32700, 12023, 47941]</td>\n    </tr>\n    <tr>\n      <th>3214873</th>\n      <td>3421083</td>\n      <td>[7854, 45309, 21162, 18176, 35211, 39678, 1135...</td>\n    </tr>\n  </tbody>\n</table>\n<p>3214874 rows × 2 columns</p>\n</div>"
     },
     "metadata": {},
     "execution_count": 17
    }
   ],
   "source": [
    "group_prior_order_id = prior_order.groupby('order_id').apply(lambda x: list(x['product_id'])).reset_index().rename(columns={0: \"product_list\"})\n",
    "\n",
    "group_prior_order_id"
   ]
  },
  {
   "cell_type": "code",
   "execution_count": 19,
   "metadata": {},
   "outputs": [
    {
     "output_type": "execute_result",
     "data": {
      "text/plain": [
       "         order_id  product_id  add_to_cart_order  reordered\n",
       "0               1       49302                  1          1\n",
       "1               1       11109                  2          1\n",
       "2               1       10246                  3          0\n",
       "3               1       49683                  4          0\n",
       "4               1       43633                  5          1\n",
       "...           ...         ...                ...        ...\n",
       "1384612   3421063       14233                  3          1\n",
       "1384613   3421063       35548                  4          1\n",
       "1384614   3421070       35951                  1          1\n",
       "1384615   3421070       16953                  2          1\n",
       "1384616   3421070        4724                  3          1\n",
       "\n",
       "[1384617 rows x 4 columns]"
      ],
      "text/html": "<div>\n<style scoped>\n    .dataframe tbody tr th:only-of-type {\n        vertical-align: middle;\n    }\n\n    .dataframe tbody tr th {\n        vertical-align: top;\n    }\n\n    .dataframe thead th {\n        text-align: right;\n    }\n</style>\n<table border=\"1\" class=\"dataframe\">\n  <thead>\n    <tr style=\"text-align: right;\">\n      <th></th>\n      <th>order_id</th>\n      <th>product_id</th>\n      <th>add_to_cart_order</th>\n      <th>reordered</th>\n    </tr>\n  </thead>\n  <tbody>\n    <tr>\n      <th>0</th>\n      <td>1</td>\n      <td>49302</td>\n      <td>1</td>\n      <td>1</td>\n    </tr>\n    <tr>\n      <th>1</th>\n      <td>1</td>\n      <td>11109</td>\n      <td>2</td>\n      <td>1</td>\n    </tr>\n    <tr>\n      <th>2</th>\n      <td>1</td>\n      <td>10246</td>\n      <td>3</td>\n      <td>0</td>\n    </tr>\n    <tr>\n      <th>3</th>\n      <td>1</td>\n      <td>49683</td>\n      <td>4</td>\n      <td>0</td>\n    </tr>\n    <tr>\n      <th>4</th>\n      <td>1</td>\n      <td>43633</td>\n      <td>5</td>\n      <td>1</td>\n    </tr>\n    <tr>\n      <th>...</th>\n      <td>...</td>\n      <td>...</td>\n      <td>...</td>\n      <td>...</td>\n    </tr>\n    <tr>\n      <th>1384612</th>\n      <td>3421063</td>\n      <td>14233</td>\n      <td>3</td>\n      <td>1</td>\n    </tr>\n    <tr>\n      <th>1384613</th>\n      <td>3421063</td>\n      <td>35548</td>\n      <td>4</td>\n      <td>1</td>\n    </tr>\n    <tr>\n      <th>1384614</th>\n      <td>3421070</td>\n      <td>35951</td>\n      <td>1</td>\n      <td>1</td>\n    </tr>\n    <tr>\n      <th>1384615</th>\n      <td>3421070</td>\n      <td>16953</td>\n      <td>2</td>\n      <td>1</td>\n    </tr>\n    <tr>\n      <th>1384616</th>\n      <td>3421070</td>\n      <td>4724</td>\n      <td>3</td>\n      <td>1</td>\n    </tr>\n  </tbody>\n</table>\n<p>1384617 rows × 4 columns</p>\n</div>"
     },
     "metadata": {},
     "execution_count": 19
    }
   ],
   "source": [
    "train_order = pd.read_csv('data/order_products__train.csv')\n",
    "\n",
    "train_order"
   ]
  },
  {
   "cell_type": "code",
   "execution_count": 21,
   "metadata": {},
   "outputs": [
    {
     "output_type": "execute_result",
     "data": {
      "text/plain": [
       "        order_id                                       product_list\n",
       "0              1  [49302, 11109, 10246, 49683, 43633, 13176, 472...\n",
       "1             36  [39612, 19660, 49235, 43086, 46620, 34497, 486...\n",
       "2             38  [11913, 18159, 4461, 21616, 23622, 32433, 2884...\n",
       "3             96  [20574, 30391, 40706, 25610, 27966, 24489, 39275]\n",
       "4             98  [8859, 19731, 43654, 13176, 4357, 37664, 34065...\n",
       "...          ...                                                ...\n",
       "131204   3421049         [40800, 17706, 33424, 17299, 26800, 34243]\n",
       "131205   3421056                  [5750, 9340, 21709, 16475, 12432]\n",
       "131206   3421058  [15629, 4347, 34466, 6244, 6858, 30316, 35578,...\n",
       "131207   3421063                       [49235, 13565, 14233, 35548]\n",
       "131208   3421070                               [35951, 16953, 4724]\n",
       "\n",
       "[131209 rows x 2 columns]"
      ],
      "text/html": "<div>\n<style scoped>\n    .dataframe tbody tr th:only-of-type {\n        vertical-align: middle;\n    }\n\n    .dataframe tbody tr th {\n        vertical-align: top;\n    }\n\n    .dataframe thead th {\n        text-align: right;\n    }\n</style>\n<table border=\"1\" class=\"dataframe\">\n  <thead>\n    <tr style=\"text-align: right;\">\n      <th></th>\n      <th>order_id</th>\n      <th>product_list</th>\n    </tr>\n  </thead>\n  <tbody>\n    <tr>\n      <th>0</th>\n      <td>1</td>\n      <td>[49302, 11109, 10246, 49683, 43633, 13176, 472...</td>\n    </tr>\n    <tr>\n      <th>1</th>\n      <td>36</td>\n      <td>[39612, 19660, 49235, 43086, 46620, 34497, 486...</td>\n    </tr>\n    <tr>\n      <th>2</th>\n      <td>38</td>\n      <td>[11913, 18159, 4461, 21616, 23622, 32433, 2884...</td>\n    </tr>\n    <tr>\n      <th>3</th>\n      <td>96</td>\n      <td>[20574, 30391, 40706, 25610, 27966, 24489, 39275]</td>\n    </tr>\n    <tr>\n      <th>4</th>\n      <td>98</td>\n      <td>[8859, 19731, 43654, 13176, 4357, 37664, 34065...</td>\n    </tr>\n    <tr>\n      <th>...</th>\n      <td>...</td>\n      <td>...</td>\n    </tr>\n    <tr>\n      <th>131204</th>\n      <td>3421049</td>\n      <td>[40800, 17706, 33424, 17299, 26800, 34243]</td>\n    </tr>\n    <tr>\n      <th>131205</th>\n      <td>3421056</td>\n      <td>[5750, 9340, 21709, 16475, 12432]</td>\n    </tr>\n    <tr>\n      <th>131206</th>\n      <td>3421058</td>\n      <td>[15629, 4347, 34466, 6244, 6858, 30316, 35578,...</td>\n    </tr>\n    <tr>\n      <th>131207</th>\n      <td>3421063</td>\n      <td>[49235, 13565, 14233, 35548]</td>\n    </tr>\n    <tr>\n      <th>131208</th>\n      <td>3421070</td>\n      <td>[35951, 16953, 4724]</td>\n    </tr>\n  </tbody>\n</table>\n<p>131209 rows × 2 columns</p>\n</div>"
     },
     "metadata": {},
     "execution_count": 21
    }
   ],
   "source": [
    "group_train_order_id = train_order.groupby('order_id').apply(lambda x: list(x['product_id'])).reset_index().rename(columns={0: \"product_list\"})\n",
    "\n",
    "group_train_order_id"
   ]
  }
 ]
}