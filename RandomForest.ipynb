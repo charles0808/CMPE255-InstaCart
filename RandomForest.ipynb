{
 "metadata": {
  "language_info": {
   "codemirror_mode": {
    "name": "ipython",
    "version": 3
   },
   "file_extension": ".py",
   "mimetype": "text/x-python",
   "name": "python",
   "nbconvert_exporter": "python",
   "pygments_lexer": "ipython3",
   "version": "3.8.3-final"
  },
  "orig_nbformat": 2,
  "kernelspec": {
   "name": "python3",
   "display_name": "Python 3.8.3 64-bit (conda)",
   "metadata": {
    "interpreter": {
     "hash": "87e52c842bd8f5d512cdf51fc1a698fd0e985dc69db3fa723c307f4676a511e8"
    }
   }
  }
 },
 "nbformat": 4,
 "nbformat_minor": 2,
 "cells": [
  {
   "cell_type": "code",
   "execution_count": 1,
   "metadata": {},
   "outputs": [],
   "source": [
    "import pandas as pd\n",
    "import statistics\n",
    "import gc\n",
    "from tqdm import tqdm\n",
    "gc.enable()\n",
    "\n",
    "orders = pd.read_csv('data/orders.csv')\n",
    "order_products_prior = pd.read_csv('data/order_products__prior.csv')\n",
    "order_products_train = pd.read_csv('data/order_products__train.csv')\n",
    "products = pd.read_csv('data/products.csv')\n",
    "orders['eval_set'] = orders['eval_set'].astype('category')"
   ]
  },
  {
   "cell_type": "code",
   "execution_count": 2,
   "metadata": {},
   "outputs": [],
   "source": [
    "tqdm.pandas()"
   ]
  },
  {
   "cell_type": "code",
   "execution_count": 3,
   "metadata": {},
   "outputs": [],
   "source": [
    "order_product = orders.merge(order_products_prior, on='order_id', how='inner')\n",
    "# user_clf = pd.read_csv('customer_classification.csv')\n",
    "# user_clf = user_clf.drop(user_clf.columns[0], axis=1)\n",
    "\n",
    "# order_product = order_product.merge(user_clf, on='user_id', how='inner')\n",
    "# order_product['label'] = order_product['label'].astype('category')\n",
    "# order_product.head()"
   ]
  },
  {
   "cell_type": "code",
   "execution_count": 4,
   "metadata": {},
   "outputs": [
    {
     "output_type": "stream",
     "name": "stderr",
     "text": [
      "100%|██████████| 206209/206209 [02:24<00:00, 1428.98it/s]\n"
     ]
    },
    {
     "output_type": "execute_result",
     "data": {
      "text/plain": [
       "   user_id  total_orders\n",
       "0        1            10\n",
       "1        2            14\n",
       "2        3            12\n",
       "3        4             5\n",
       "4        5             4"
      ],
      "text/html": "<div>\n<style scoped>\n    .dataframe tbody tr th:only-of-type {\n        vertical-align: middle;\n    }\n\n    .dataframe tbody tr th {\n        vertical-align: top;\n    }\n\n    .dataframe thead th {\n        text-align: right;\n    }\n</style>\n<table border=\"1\" class=\"dataframe\">\n  <thead>\n    <tr style=\"text-align: right;\">\n      <th></th>\n      <th>user_id</th>\n      <th>total_orders</th>\n    </tr>\n  </thead>\n  <tbody>\n    <tr>\n      <th>0</th>\n      <td>1</td>\n      <td>10</td>\n    </tr>\n    <tr>\n      <th>1</th>\n      <td>2</td>\n      <td>14</td>\n    </tr>\n    <tr>\n      <th>2</th>\n      <td>3</td>\n      <td>12</td>\n    </tr>\n    <tr>\n      <th>3</th>\n      <td>4</td>\n      <td>5</td>\n    </tr>\n    <tr>\n      <th>4</th>\n      <td>5</td>\n      <td>4</td>\n    </tr>\n  </tbody>\n</table>\n</div>"
     },
     "metadata": {},
     "execution_count": 4
    }
   ],
   "source": [
    "# Find the total number of order a user placed\n",
    "\n",
    "user_total_orders = order_product.groupby('user_id').progress_apply(lambda x: pd.Series({'total_orders': max(x['order_number'])})).reset_index()\n",
    "\n",
    "user_total_orders.head()"
   ]
  },
  {
   "cell_type": "code",
   "execution_count": 5,
   "metadata": {
    "tags": []
   },
   "outputs": [
    {
     "output_type": "stream",
     "name": "stderr",
     "text": [
      "100%|██████████| 206209/206209 [03:01<00:00, 1133.83it/s]\n"
     ]
    }
   ],
   "source": [
    "# Find out the frequency of user reordered\n",
    "\n",
    "#       times of user reorder / total order of user\n",
    "\n",
    "user_reorder = order_product.groupby('user_id').progress_apply(lambda x: pd.Series({'reorder_ratio' : statistics.mean(x['reordered'])})).reset_index()"
   ]
  },
  {
   "cell_type": "code",
   "execution_count": 6,
   "metadata": {},
   "outputs": [
    {
     "output_type": "stream",
     "name": "stderr",
     "text": [
      "100%|██████████| 206209/206209 [02:10<00:00, 1585.47it/s]\n"
     ]
    },
    {
     "output_type": "execute_result",
     "data": {
      "text/plain": [
       "        user_id  avg_day_since_last_reorder\n",
       "0             1                   18.542373\n",
       "1             2                   14.902564\n",
       "2             3                   10.181818\n",
       "3             4                   11.944444\n",
       "4             5                   10.189189\n",
       "...         ...                         ...\n",
       "206204   206205                    9.687500\n",
       "206205   206206                    3.985965\n",
       "206206   206207                   13.278027\n",
       "206207   206208                    7.310192\n",
       "206208   206209                   18.232558\n",
       "\n",
       "[206209 rows x 2 columns]"
      ],
      "text/html": "<div>\n<style scoped>\n    .dataframe tbody tr th:only-of-type {\n        vertical-align: middle;\n    }\n\n    .dataframe tbody tr th {\n        vertical-align: top;\n    }\n\n    .dataframe thead th {\n        text-align: right;\n    }\n</style>\n<table border=\"1\" class=\"dataframe\">\n  <thead>\n    <tr style=\"text-align: right;\">\n      <th></th>\n      <th>user_id</th>\n      <th>avg_day_since_last_reorder</th>\n    </tr>\n  </thead>\n  <tbody>\n    <tr>\n      <th>0</th>\n      <td>1</td>\n      <td>18.542373</td>\n    </tr>\n    <tr>\n      <th>1</th>\n      <td>2</td>\n      <td>14.902564</td>\n    </tr>\n    <tr>\n      <th>2</th>\n      <td>3</td>\n      <td>10.181818</td>\n    </tr>\n    <tr>\n      <th>3</th>\n      <td>4</td>\n      <td>11.944444</td>\n    </tr>\n    <tr>\n      <th>4</th>\n      <td>5</td>\n      <td>10.189189</td>\n    </tr>\n    <tr>\n      <th>...</th>\n      <td>...</td>\n      <td>...</td>\n    </tr>\n    <tr>\n      <th>206204</th>\n      <td>206205</td>\n      <td>9.687500</td>\n    </tr>\n    <tr>\n      <th>206205</th>\n      <td>206206</td>\n      <td>3.985965</td>\n    </tr>\n    <tr>\n      <th>206206</th>\n      <td>206207</td>\n      <td>13.278027</td>\n    </tr>\n    <tr>\n      <th>206207</th>\n      <td>206208</td>\n      <td>7.310192</td>\n    </tr>\n    <tr>\n      <th>206208</th>\n      <td>206209</td>\n      <td>18.232558</td>\n    </tr>\n  </tbody>\n</table>\n<p>206209 rows × 2 columns</p>\n</div>"
     },
     "metadata": {},
     "execution_count": 6
    }
   ],
   "source": [
    "# Average day since last order\n",
    "\n",
    "order_product['days_since_prior_order'] = order_product['days_since_prior_order'].fillna(0)\n",
    "\n",
    "user_last_order = order_product.groupby('user_id').progress_apply(lambda x: pd.Series({'avg_day_since_last_reorder' : statistics.mean(x['days_since_prior_order'])})).reset_index()\n",
    "\n",
    "user_last_order"
   ]
  },
  {
   "cell_type": "code",
   "execution_count": 7,
   "metadata": {},
   "outputs": [
    {
     "output_type": "stream",
     "name": "stderr",
     "text": [
      "100%|██████████| 206209/206209 [05:46<00:00, 595.82it/s]\n"
     ]
    },
    {
     "output_type": "execute_result",
     "data": {
      "text/plain": [
       "   user_id  reorder_item_ratio_per_order\n",
       "0        1                      0.705833\n",
       "1        2                      0.447961\n",
       "2        3                      0.658817\n",
       "3        4                      0.028571\n",
       "4        5                      0.377778"
      ],
      "text/html": "<div>\n<style scoped>\n    .dataframe tbody tr th:only-of-type {\n        vertical-align: middle;\n    }\n\n    .dataframe tbody tr th {\n        vertical-align: top;\n    }\n\n    .dataframe thead th {\n        text-align: right;\n    }\n</style>\n<table border=\"1\" class=\"dataframe\">\n  <thead>\n    <tr style=\"text-align: right;\">\n      <th></th>\n      <th>user_id</th>\n      <th>reorder_item_ratio_per_order</th>\n    </tr>\n  </thead>\n  <tbody>\n    <tr>\n      <th>0</th>\n      <td>1</td>\n      <td>0.705833</td>\n    </tr>\n    <tr>\n      <th>1</th>\n      <td>2</td>\n      <td>0.447961</td>\n    </tr>\n    <tr>\n      <th>2</th>\n      <td>3</td>\n      <td>0.658817</td>\n    </tr>\n    <tr>\n      <th>3</th>\n      <td>4</td>\n      <td>0.028571</td>\n    </tr>\n    <tr>\n      <th>4</th>\n      <td>5</td>\n      <td>0.377778</td>\n    </tr>\n  </tbody>\n</table>\n</div>"
     },
     "metadata": {},
     "execution_count": 7
    }
   ],
   "source": [
    "# for each user, average reorder item percentage in whole order\n",
    "\n",
    "\n",
    "def average_perc(x):\n",
    "    order_reorder_prob = x.groupby('order_id')['reordered'].mean().to_frame('reorder_prob')\n",
    "    return pd.Series({'reorder_item_ratio_per_order': statistics.mean(order_reorder_prob['reorder_prob'])}) \n",
    "\n",
    "average_reorder = order_product.groupby(['user_id']).progress_apply(average_perc).reset_index()\n",
    "average_reorder.head()"
   ]
  },
  {
   "cell_type": "code",
   "execution_count": 8,
   "metadata": {},
   "outputs": [
    {
     "output_type": "execute_result",
     "data": {
      "text/plain": [
       "        user_id  total_orders  reorder_ratio  avg_day_since_last_reorder  \\\n",
       "0             1            10       0.694915                   18.542373   \n",
       "1             2            14       0.476923                   14.902564   \n",
       "2             3            12       0.625000                   10.181818   \n",
       "3             4             5       0.055556                   11.944444   \n",
       "4             5             4       0.378378                   10.189189   \n",
       "...         ...           ...            ...                         ...   \n",
       "206204   206205             3       0.250000                    9.687500   \n",
       "206205   206206            67       0.473684                    3.985965   \n",
       "206206   206207            16       0.587444                   13.278027   \n",
       "206207   206208            49       0.707533                    7.310192   \n",
       "206208   206209            13       0.472868                   18.232558   \n",
       "\n",
       "        reorder_item_ratio_per_order  \n",
       "0                           0.705833  \n",
       "1                           0.447961  \n",
       "2                           0.658817  \n",
       "3                           0.028571  \n",
       "4                           0.377778  \n",
       "...                              ...  \n",
       "206204                      0.369048  \n",
       "206205                      0.570676  \n",
       "206206                      0.637144  \n",
       "206207                      0.700368  \n",
       "206208                      0.536752  \n",
       "\n",
       "[206209 rows x 5 columns]"
      ],
      "text/html": "<div>\n<style scoped>\n    .dataframe tbody tr th:only-of-type {\n        vertical-align: middle;\n    }\n\n    .dataframe tbody tr th {\n        vertical-align: top;\n    }\n\n    .dataframe thead th {\n        text-align: right;\n    }\n</style>\n<table border=\"1\" class=\"dataframe\">\n  <thead>\n    <tr style=\"text-align: right;\">\n      <th></th>\n      <th>user_id</th>\n      <th>total_orders</th>\n      <th>reorder_ratio</th>\n      <th>avg_day_since_last_reorder</th>\n      <th>reorder_item_ratio_per_order</th>\n    </tr>\n  </thead>\n  <tbody>\n    <tr>\n      <th>0</th>\n      <td>1</td>\n      <td>10</td>\n      <td>0.694915</td>\n      <td>18.542373</td>\n      <td>0.705833</td>\n    </tr>\n    <tr>\n      <th>1</th>\n      <td>2</td>\n      <td>14</td>\n      <td>0.476923</td>\n      <td>14.902564</td>\n      <td>0.447961</td>\n    </tr>\n    <tr>\n      <th>2</th>\n      <td>3</td>\n      <td>12</td>\n      <td>0.625000</td>\n      <td>10.181818</td>\n      <td>0.658817</td>\n    </tr>\n    <tr>\n      <th>3</th>\n      <td>4</td>\n      <td>5</td>\n      <td>0.055556</td>\n      <td>11.944444</td>\n      <td>0.028571</td>\n    </tr>\n    <tr>\n      <th>4</th>\n      <td>5</td>\n      <td>4</td>\n      <td>0.378378</td>\n      <td>10.189189</td>\n      <td>0.377778</td>\n    </tr>\n    <tr>\n      <th>...</th>\n      <td>...</td>\n      <td>...</td>\n      <td>...</td>\n      <td>...</td>\n      <td>...</td>\n    </tr>\n    <tr>\n      <th>206204</th>\n      <td>206205</td>\n      <td>3</td>\n      <td>0.250000</td>\n      <td>9.687500</td>\n      <td>0.369048</td>\n    </tr>\n    <tr>\n      <th>206205</th>\n      <td>206206</td>\n      <td>67</td>\n      <td>0.473684</td>\n      <td>3.985965</td>\n      <td>0.570676</td>\n    </tr>\n    <tr>\n      <th>206206</th>\n      <td>206207</td>\n      <td>16</td>\n      <td>0.587444</td>\n      <td>13.278027</td>\n      <td>0.637144</td>\n    </tr>\n    <tr>\n      <th>206207</th>\n      <td>206208</td>\n      <td>49</td>\n      <td>0.707533</td>\n      <td>7.310192</td>\n      <td>0.700368</td>\n    </tr>\n    <tr>\n      <th>206208</th>\n      <td>206209</td>\n      <td>13</td>\n      <td>0.472868</td>\n      <td>18.232558</td>\n      <td>0.536752</td>\n    </tr>\n  </tbody>\n</table>\n<p>206209 rows × 5 columns</p>\n</div>"
     },
     "metadata": {},
     "execution_count": 8
    }
   ],
   "source": [
    "user = user_total_orders.merge(user_reorder, on='user_id', how='left')\n",
    "user = user.merge(user_last_order, on='user_id', how='left')\n",
    "user = user.merge(average_reorder, on='user_id', how='left')\n",
    "\n",
    "del user_reorder\n",
    "del user_last_order\n",
    "del average_reorder\n",
    "\n",
    "gc.collect()\n",
    "\n",
    "user"
   ]
  },
  {
   "cell_type": "code",
   "execution_count": 9,
   "metadata": {},
   "outputs": [
    {
     "output_type": "stream",
     "name": "stderr",
     "text": [
      "100%|██████████| 49677/49677 [00:35<00:00, 1410.94it/s]\n"
     ]
    },
    {
     "output_type": "execute_result",
     "data": {
      "text/plain": [
       "   product_id  total_purchase\n",
       "0           1            1852\n",
       "1           2              90\n",
       "2           3             277\n",
       "3           4             329\n",
       "4           5              15"
      ],
      "text/html": "<div>\n<style scoped>\n    .dataframe tbody tr th:only-of-type {\n        vertical-align: middle;\n    }\n\n    .dataframe tbody tr th {\n        vertical-align: top;\n    }\n\n    .dataframe thead th {\n        text-align: right;\n    }\n</style>\n<table border=\"1\" class=\"dataframe\">\n  <thead>\n    <tr style=\"text-align: right;\">\n      <th></th>\n      <th>product_id</th>\n      <th>total_purchase</th>\n    </tr>\n  </thead>\n  <tbody>\n    <tr>\n      <th>0</th>\n      <td>1</td>\n      <td>1852</td>\n    </tr>\n    <tr>\n      <th>1</th>\n      <td>2</td>\n      <td>90</td>\n    </tr>\n    <tr>\n      <th>2</th>\n      <td>3</td>\n      <td>277</td>\n    </tr>\n    <tr>\n      <th>3</th>\n      <td>4</td>\n      <td>329</td>\n    </tr>\n    <tr>\n      <th>4</th>\n      <td>5</td>\n      <td>15</td>\n    </tr>\n  </tbody>\n</table>\n</div>"
     },
     "metadata": {},
     "execution_count": 9
    }
   ],
   "source": [
    "# get product predictor\n",
    "# total time of purchase of one product\n",
    "product_total_purchase = order_product.groupby('product_id').progress_apply(lambda x: pd.Series({'total_purchase': len(x['order_id'])})).reset_index()\n",
    "product_total_purchase.head()"
   ]
  },
  {
   "cell_type": "code",
   "execution_count": 10,
   "metadata": {},
   "outputs": [
    {
     "output_type": "stream",
     "name": "stderr",
     "text": [
      "100%|██████████| 49677/49677 [00:54<00:00, 904.04it/s] \n"
     ]
    },
    {
     "output_type": "execute_result",
     "data": {
      "text/plain": [
       "   product_id  reorder_prob\n",
       "0           1      0.613391\n",
       "1           2      0.133333\n",
       "2           3      0.732852\n",
       "3           4      0.446809\n",
       "4           5      0.600000"
      ],
      "text/html": "<div>\n<style scoped>\n    .dataframe tbody tr th:only-of-type {\n        vertical-align: middle;\n    }\n\n    .dataframe tbody tr th {\n        vertical-align: top;\n    }\n\n    .dataframe thead th {\n        text-align: right;\n    }\n</style>\n<table border=\"1\" class=\"dataframe\">\n  <thead>\n    <tr style=\"text-align: right;\">\n      <th></th>\n      <th>product_id</th>\n      <th>reorder_prob</th>\n    </tr>\n  </thead>\n  <tbody>\n    <tr>\n      <th>0</th>\n      <td>1</td>\n      <td>0.613391</td>\n    </tr>\n    <tr>\n      <th>1</th>\n      <td>2</td>\n      <td>0.133333</td>\n    </tr>\n    <tr>\n      <th>2</th>\n      <td>3</td>\n      <td>0.732852</td>\n    </tr>\n    <tr>\n      <th>3</th>\n      <td>4</td>\n      <td>0.446809</td>\n    </tr>\n    <tr>\n      <th>4</th>\n      <td>5</td>\n      <td>0.600000</td>\n    </tr>\n  </tbody>\n</table>\n</div>"
     },
     "metadata": {},
     "execution_count": 10
    }
   ],
   "source": [
    "# the probability that a product get reorder\n",
    "# p_reorder = order_product.groupby('product_id').filter(lambda x: x.shape[0] > 40)\n",
    "\n",
    "product_reorder_ratio = order_product.groupby('product_id').progress_apply(lambda x: pd.Series({'reorder_prob': statistics.mean(x['reordered'])})).reset_index()\n",
    "product_reorder_ratio.head()"
   ]
  },
  {
   "cell_type": "code",
   "execution_count": 11,
   "metadata": {},
   "outputs": [
    {
     "output_type": "execute_result",
     "data": {
      "text/plain": [
       "   product_id  total_purchase  reorder_prob\n",
       "0           1            1852      0.613391\n",
       "1           2              90      0.133333\n",
       "2           3             277      0.732852\n",
       "3           4             329      0.446809\n",
       "4           5              15      0.600000"
      ],
      "text/html": "<div>\n<style scoped>\n    .dataframe tbody tr th:only-of-type {\n        vertical-align: middle;\n    }\n\n    .dataframe tbody tr th {\n        vertical-align: top;\n    }\n\n    .dataframe thead th {\n        text-align: right;\n    }\n</style>\n<table border=\"1\" class=\"dataframe\">\n  <thead>\n    <tr style=\"text-align: right;\">\n      <th></th>\n      <th>product_id</th>\n      <th>total_purchase</th>\n      <th>reorder_prob</th>\n    </tr>\n  </thead>\n  <tbody>\n    <tr>\n      <th>0</th>\n      <td>1</td>\n      <td>1852</td>\n      <td>0.613391</td>\n    </tr>\n    <tr>\n      <th>1</th>\n      <td>2</td>\n      <td>90</td>\n      <td>0.133333</td>\n    </tr>\n    <tr>\n      <th>2</th>\n      <td>3</td>\n      <td>277</td>\n      <td>0.732852</td>\n    </tr>\n    <tr>\n      <th>3</th>\n      <td>4</td>\n      <td>329</td>\n      <td>0.446809</td>\n    </tr>\n    <tr>\n      <th>4</th>\n      <td>5</td>\n      <td>15</td>\n      <td>0.600000</td>\n    </tr>\n  </tbody>\n</table>\n</div>"
     },
     "metadata": {},
     "execution_count": 11
    }
   ],
   "source": [
    "product = product_total_purchase.merge(product_reorder_ratio, on='product_id', how='left')\n",
    "\n",
    "del product_reorder_ratio\n",
    "del product_total_purchase\n",
    "\n",
    "gc.collect()\n",
    "\n",
    "product.head()"
   ]
  },
  {
   "cell_type": "code",
   "execution_count": 12,
   "metadata": {},
   "outputs": [
    {
     "output_type": "execute_result",
     "data": {
      "text/plain": [
       "   user_id  product_id  total_bought\n",
       "0        1         196            10\n",
       "1        1       10258             9\n",
       "2        1       10326             1\n",
       "3        1       12427            10\n",
       "4        1       13032             3"
      ],
      "text/html": "<div>\n<style scoped>\n    .dataframe tbody tr th:only-of-type {\n        vertical-align: middle;\n    }\n\n    .dataframe tbody tr th {\n        vertical-align: top;\n    }\n\n    .dataframe thead th {\n        text-align: right;\n    }\n</style>\n<table border=\"1\" class=\"dataframe\">\n  <thead>\n    <tr style=\"text-align: right;\">\n      <th></th>\n      <th>user_id</th>\n      <th>product_id</th>\n      <th>total_bought</th>\n    </tr>\n  </thead>\n  <tbody>\n    <tr>\n      <th>0</th>\n      <td>1</td>\n      <td>196</td>\n      <td>10</td>\n    </tr>\n    <tr>\n      <th>1</th>\n      <td>1</td>\n      <td>10258</td>\n      <td>9</td>\n    </tr>\n    <tr>\n      <th>2</th>\n      <td>1</td>\n      <td>10326</td>\n      <td>1</td>\n    </tr>\n    <tr>\n      <th>3</th>\n      <td>1</td>\n      <td>12427</td>\n      <td>10</td>\n    </tr>\n    <tr>\n      <th>4</th>\n      <td>1</td>\n      <td>13032</td>\n      <td>3</td>\n    </tr>\n  </tbody>\n</table>\n</div>"
     },
     "metadata": {},
     "execution_count": 12
    }
   ],
   "source": [
    "total_bought = order_product.groupby(['user_id', 'product_id'])['order_id'].count().to_frame('total_bought').reset_index()\n",
    "\n",
    "total_bought.head()"
   ]
  },
  {
   "source": [
    "### Preparing training dataset"
   ],
   "cell_type": "markdown",
   "metadata": {}
  },
  {
   "cell_type": "code",
   "execution_count": 13,
   "metadata": {},
   "outputs": [
    {
     "output_type": "execute_result",
     "data": {
      "text/plain": [
       "          user_id  product_id  total_bought  total_orders  reorder_ratio  \\\n",
       "0               1         196            10            10       0.694915   \n",
       "1               1       10258             9            10       0.694915   \n",
       "2               1       10326             1            10       0.694915   \n",
       "3               1       12427            10            10       0.694915   \n",
       "4               1       13032             3            10       0.694915   \n",
       "...           ...         ...           ...           ...            ...   \n",
       "13307948   206209       43961             3            13       0.472868   \n",
       "13307949   206209       44325             1            13       0.472868   \n",
       "13307950   206209       48370             1            13       0.472868   \n",
       "13307951   206209       48697             1            13       0.472868   \n",
       "13307952   206209       48742             2            13       0.472868   \n",
       "\n",
       "          avg_day_since_last_reorder  reorder_item_ratio_per_order  \\\n",
       "0                          18.542373                      0.705833   \n",
       "1                          18.542373                      0.705833   \n",
       "2                          18.542373                      0.705833   \n",
       "3                          18.542373                      0.705833   \n",
       "4                          18.542373                      0.705833   \n",
       "...                              ...                           ...   \n",
       "13307948                   18.232558                      0.536752   \n",
       "13307949                   18.232558                      0.536752   \n",
       "13307950                   18.232558                      0.536752   \n",
       "13307951                   18.232558                      0.536752   \n",
       "13307952                   18.232558                      0.536752   \n",
       "\n",
       "          total_purchase  reorder_prob  \n",
       "0                  35791      0.776480  \n",
       "1                   1946      0.713772  \n",
       "2                   5526      0.652009  \n",
       "3                   6476      0.740735  \n",
       "4                   3751      0.657158  \n",
       "...                  ...           ...  \n",
       "13307948           55371      0.630583  \n",
       "13307949            3485      0.401148  \n",
       "13307950            3934      0.699288  \n",
       "13307951            9783      0.357661  \n",
       "13307952            1723      0.498549  \n",
       "\n",
       "[13307953 rows x 9 columns]"
      ],
      "text/html": "<div>\n<style scoped>\n    .dataframe tbody tr th:only-of-type {\n        vertical-align: middle;\n    }\n\n    .dataframe tbody tr th {\n        vertical-align: top;\n    }\n\n    .dataframe thead th {\n        text-align: right;\n    }\n</style>\n<table border=\"1\" class=\"dataframe\">\n  <thead>\n    <tr style=\"text-align: right;\">\n      <th></th>\n      <th>user_id</th>\n      <th>product_id</th>\n      <th>total_bought</th>\n      <th>total_orders</th>\n      <th>reorder_ratio</th>\n      <th>avg_day_since_last_reorder</th>\n      <th>reorder_item_ratio_per_order</th>\n      <th>total_purchase</th>\n      <th>reorder_prob</th>\n    </tr>\n  </thead>\n  <tbody>\n    <tr>\n      <th>0</th>\n      <td>1</td>\n      <td>196</td>\n      <td>10</td>\n      <td>10</td>\n      <td>0.694915</td>\n      <td>18.542373</td>\n      <td>0.705833</td>\n      <td>35791</td>\n      <td>0.776480</td>\n    </tr>\n    <tr>\n      <th>1</th>\n      <td>1</td>\n      <td>10258</td>\n      <td>9</td>\n      <td>10</td>\n      <td>0.694915</td>\n      <td>18.542373</td>\n      <td>0.705833</td>\n      <td>1946</td>\n      <td>0.713772</td>\n    </tr>\n    <tr>\n      <th>2</th>\n      <td>1</td>\n      <td>10326</td>\n      <td>1</td>\n      <td>10</td>\n      <td>0.694915</td>\n      <td>18.542373</td>\n      <td>0.705833</td>\n      <td>5526</td>\n      <td>0.652009</td>\n    </tr>\n    <tr>\n      <th>3</th>\n      <td>1</td>\n      <td>12427</td>\n      <td>10</td>\n      <td>10</td>\n      <td>0.694915</td>\n      <td>18.542373</td>\n      <td>0.705833</td>\n      <td>6476</td>\n      <td>0.740735</td>\n    </tr>\n    <tr>\n      <th>4</th>\n      <td>1</td>\n      <td>13032</td>\n      <td>3</td>\n      <td>10</td>\n      <td>0.694915</td>\n      <td>18.542373</td>\n      <td>0.705833</td>\n      <td>3751</td>\n      <td>0.657158</td>\n    </tr>\n    <tr>\n      <th>...</th>\n      <td>...</td>\n      <td>...</td>\n      <td>...</td>\n      <td>...</td>\n      <td>...</td>\n      <td>...</td>\n      <td>...</td>\n      <td>...</td>\n      <td>...</td>\n    </tr>\n    <tr>\n      <th>13307948</th>\n      <td>206209</td>\n      <td>43961</td>\n      <td>3</td>\n      <td>13</td>\n      <td>0.472868</td>\n      <td>18.232558</td>\n      <td>0.536752</td>\n      <td>55371</td>\n      <td>0.630583</td>\n    </tr>\n    <tr>\n      <th>13307949</th>\n      <td>206209</td>\n      <td>44325</td>\n      <td>1</td>\n      <td>13</td>\n      <td>0.472868</td>\n      <td>18.232558</td>\n      <td>0.536752</td>\n      <td>3485</td>\n      <td>0.401148</td>\n    </tr>\n    <tr>\n      <th>13307950</th>\n      <td>206209</td>\n      <td>48370</td>\n      <td>1</td>\n      <td>13</td>\n      <td>0.472868</td>\n      <td>18.232558</td>\n      <td>0.536752</td>\n      <td>3934</td>\n      <td>0.699288</td>\n    </tr>\n    <tr>\n      <th>13307951</th>\n      <td>206209</td>\n      <td>48697</td>\n      <td>1</td>\n      <td>13</td>\n      <td>0.472868</td>\n      <td>18.232558</td>\n      <td>0.536752</td>\n      <td>9783</td>\n      <td>0.357661</td>\n    </tr>\n    <tr>\n      <th>13307952</th>\n      <td>206209</td>\n      <td>48742</td>\n      <td>2</td>\n      <td>13</td>\n      <td>0.472868</td>\n      <td>18.232558</td>\n      <td>0.536752</td>\n      <td>1723</td>\n      <td>0.498549</td>\n    </tr>\n  </tbody>\n</table>\n<p>13307953 rows × 9 columns</p>\n</div>"
     },
     "metadata": {},
     "execution_count": 13
    }
   ],
   "source": [
    "data = total_bought.merge(user, on='user_id', how='left')\n",
    "data = data.merge(product, on='product_id', how='left')\n",
    "\n",
    "del user\n",
    "del product\n",
    "del total_bought\n",
    "\n",
    "gc.collect()\n",
    "\n",
    "data['reorder_prob'] = data['reorder_prob'].fillna(0)\n",
    "data"
   ]
  },
  {
   "cell_type": "code",
   "execution_count": 14,
   "metadata": {},
   "outputs": [
    {
     "output_type": "execute_result",
     "data": {
      "text/plain": [
       "    user_id eval_set  order_id\n",
       "10        1    train   1187899\n",
       "25        2    train   1492625\n",
       "38        3     test   2774568\n",
       "44        4     test    329954\n",
       "49        5    train   2196797\n",
       "53        6     test   1528013\n",
       "74        7    train    525192\n",
       "78        8    train    880375\n",
       "82        9    train   1094988\n",
       "88       10    train   1822501"
      ],
      "text/html": "<div>\n<style scoped>\n    .dataframe tbody tr th:only-of-type {\n        vertical-align: middle;\n    }\n\n    .dataframe tbody tr th {\n        vertical-align: top;\n    }\n\n    .dataframe thead th {\n        text-align: right;\n    }\n</style>\n<table border=\"1\" class=\"dataframe\">\n  <thead>\n    <tr style=\"text-align: right;\">\n      <th></th>\n      <th>user_id</th>\n      <th>eval_set</th>\n      <th>order_id</th>\n    </tr>\n  </thead>\n  <tbody>\n    <tr>\n      <th>10</th>\n      <td>1</td>\n      <td>train</td>\n      <td>1187899</td>\n    </tr>\n    <tr>\n      <th>25</th>\n      <td>2</td>\n      <td>train</td>\n      <td>1492625</td>\n    </tr>\n    <tr>\n      <th>38</th>\n      <td>3</td>\n      <td>test</td>\n      <td>2774568</td>\n    </tr>\n    <tr>\n      <th>44</th>\n      <td>4</td>\n      <td>test</td>\n      <td>329954</td>\n    </tr>\n    <tr>\n      <th>49</th>\n      <td>5</td>\n      <td>train</td>\n      <td>2196797</td>\n    </tr>\n    <tr>\n      <th>53</th>\n      <td>6</td>\n      <td>test</td>\n      <td>1528013</td>\n    </tr>\n    <tr>\n      <th>74</th>\n      <td>7</td>\n      <td>train</td>\n      <td>525192</td>\n    </tr>\n    <tr>\n      <th>78</th>\n      <td>8</td>\n      <td>train</td>\n      <td>880375</td>\n    </tr>\n    <tr>\n      <th>82</th>\n      <td>9</td>\n      <td>train</td>\n      <td>1094988</td>\n    </tr>\n    <tr>\n      <th>88</th>\n      <td>10</td>\n      <td>train</td>\n      <td>1822501</td>\n    </tr>\n  </tbody>\n</table>\n</div>"
     },
     "metadata": {},
     "execution_count": 14
    }
   ],
   "source": [
    "orders_future = orders[((orders.eval_set=='train') | (orders.eval_set=='test'))]\n",
    "orders_future = orders_future[ ['user_id', 'eval_set', 'order_id'] ]\n",
    "orders_future.head(10)"
   ]
  },
  {
   "cell_type": "code",
   "execution_count": 15,
   "metadata": {},
   "outputs": [
    {
     "output_type": "execute_result",
     "data": {
      "text/plain": [
       "   user_id  product_id  total_bought  total_orders  reorder_ratio  \\\n",
       "0        1         196            10            10       0.694915   \n",
       "1        1       10258             9            10       0.694915   \n",
       "2        1       10326             1            10       0.694915   \n",
       "3        1       12427            10            10       0.694915   \n",
       "4        1       13032             3            10       0.694915   \n",
       "5        1       13176             2            10       0.694915   \n",
       "6        1       14084             1            10       0.694915   \n",
       "7        1       17122             1            10       0.694915   \n",
       "8        1       25133             8            10       0.694915   \n",
       "9        1       26088             2            10       0.694915   \n",
       "\n",
       "   avg_day_since_last_reorder  reorder_item_ratio_per_order  total_purchase  \\\n",
       "0                   18.542373                      0.705833           35791   \n",
       "1                   18.542373                      0.705833            1946   \n",
       "2                   18.542373                      0.705833            5526   \n",
       "3                   18.542373                      0.705833            6476   \n",
       "4                   18.542373                      0.705833            3751   \n",
       "5                   18.542373                      0.705833          379450   \n",
       "6                   18.542373                      0.705833           15935   \n",
       "7                   18.542373                      0.705833           13880   \n",
       "8                   18.542373                      0.705833            6196   \n",
       "9                   18.542373                      0.705833            2523   \n",
       "\n",
       "   reorder_prob eval_set  order_id  \n",
       "0      0.776480    train   1187899  \n",
       "1      0.713772    train   1187899  \n",
       "2      0.652009    train   1187899  \n",
       "3      0.740735    train   1187899  \n",
       "4      0.657158    train   1187899  \n",
       "5      0.832555    train   1187899  \n",
       "6      0.810982    train   1187899  \n",
       "7      0.675576    train   1187899  \n",
       "8      0.740155    train   1187899  \n",
       "9      0.539041    train   1187899  "
      ],
      "text/html": "<div>\n<style scoped>\n    .dataframe tbody tr th:only-of-type {\n        vertical-align: middle;\n    }\n\n    .dataframe tbody tr th {\n        vertical-align: top;\n    }\n\n    .dataframe thead th {\n        text-align: right;\n    }\n</style>\n<table border=\"1\" class=\"dataframe\">\n  <thead>\n    <tr style=\"text-align: right;\">\n      <th></th>\n      <th>user_id</th>\n      <th>product_id</th>\n      <th>total_bought</th>\n      <th>total_orders</th>\n      <th>reorder_ratio</th>\n      <th>avg_day_since_last_reorder</th>\n      <th>reorder_item_ratio_per_order</th>\n      <th>total_purchase</th>\n      <th>reorder_prob</th>\n      <th>eval_set</th>\n      <th>order_id</th>\n    </tr>\n  </thead>\n  <tbody>\n    <tr>\n      <th>0</th>\n      <td>1</td>\n      <td>196</td>\n      <td>10</td>\n      <td>10</td>\n      <td>0.694915</td>\n      <td>18.542373</td>\n      <td>0.705833</td>\n      <td>35791</td>\n      <td>0.776480</td>\n      <td>train</td>\n      <td>1187899</td>\n    </tr>\n    <tr>\n      <th>1</th>\n      <td>1</td>\n      <td>10258</td>\n      <td>9</td>\n      <td>10</td>\n      <td>0.694915</td>\n      <td>18.542373</td>\n      <td>0.705833</td>\n      <td>1946</td>\n      <td>0.713772</td>\n      <td>train</td>\n      <td>1187899</td>\n    </tr>\n    <tr>\n      <th>2</th>\n      <td>1</td>\n      <td>10326</td>\n      <td>1</td>\n      <td>10</td>\n      <td>0.694915</td>\n      <td>18.542373</td>\n      <td>0.705833</td>\n      <td>5526</td>\n      <td>0.652009</td>\n      <td>train</td>\n      <td>1187899</td>\n    </tr>\n    <tr>\n      <th>3</th>\n      <td>1</td>\n      <td>12427</td>\n      <td>10</td>\n      <td>10</td>\n      <td>0.694915</td>\n      <td>18.542373</td>\n      <td>0.705833</td>\n      <td>6476</td>\n      <td>0.740735</td>\n      <td>train</td>\n      <td>1187899</td>\n    </tr>\n    <tr>\n      <th>4</th>\n      <td>1</td>\n      <td>13032</td>\n      <td>3</td>\n      <td>10</td>\n      <td>0.694915</td>\n      <td>18.542373</td>\n      <td>0.705833</td>\n      <td>3751</td>\n      <td>0.657158</td>\n      <td>train</td>\n      <td>1187899</td>\n    </tr>\n    <tr>\n      <th>5</th>\n      <td>1</td>\n      <td>13176</td>\n      <td>2</td>\n      <td>10</td>\n      <td>0.694915</td>\n      <td>18.542373</td>\n      <td>0.705833</td>\n      <td>379450</td>\n      <td>0.832555</td>\n      <td>train</td>\n      <td>1187899</td>\n    </tr>\n    <tr>\n      <th>6</th>\n      <td>1</td>\n      <td>14084</td>\n      <td>1</td>\n      <td>10</td>\n      <td>0.694915</td>\n      <td>18.542373</td>\n      <td>0.705833</td>\n      <td>15935</td>\n      <td>0.810982</td>\n      <td>train</td>\n      <td>1187899</td>\n    </tr>\n    <tr>\n      <th>7</th>\n      <td>1</td>\n      <td>17122</td>\n      <td>1</td>\n      <td>10</td>\n      <td>0.694915</td>\n      <td>18.542373</td>\n      <td>0.705833</td>\n      <td>13880</td>\n      <td>0.675576</td>\n      <td>train</td>\n      <td>1187899</td>\n    </tr>\n    <tr>\n      <th>8</th>\n      <td>1</td>\n      <td>25133</td>\n      <td>8</td>\n      <td>10</td>\n      <td>0.694915</td>\n      <td>18.542373</td>\n      <td>0.705833</td>\n      <td>6196</td>\n      <td>0.740155</td>\n      <td>train</td>\n      <td>1187899</td>\n    </tr>\n    <tr>\n      <th>9</th>\n      <td>1</td>\n      <td>26088</td>\n      <td>2</td>\n      <td>10</td>\n      <td>0.694915</td>\n      <td>18.542373</td>\n      <td>0.705833</td>\n      <td>2523</td>\n      <td>0.539041</td>\n      <td>train</td>\n      <td>1187899</td>\n    </tr>\n  </tbody>\n</table>\n</div>"
     },
     "metadata": {},
     "execution_count": 15
    }
   ],
   "source": [
    "data = data.merge(orders_future, on='user_id', how='left')\n",
    "data.head(10)"
   ]
  },
  {
   "cell_type": "code",
   "execution_count": 16,
   "metadata": {},
   "outputs": [
    {
     "output_type": "execute_result",
     "data": {
      "text/plain": [
       "   user_id  product_id  total_bought  total_orders  reorder_ratio  \\\n",
       "0        1         196            10            10       0.694915   \n",
       "1        1       10258             9            10       0.694915   \n",
       "2        1       10326             1            10       0.694915   \n",
       "3        1       12427            10            10       0.694915   \n",
       "4        1       13032             3            10       0.694915   \n",
       "\n",
       "   avg_day_since_last_reorder  reorder_item_ratio_per_order  total_purchase  \\\n",
       "0                   18.542373                      0.705833           35791   \n",
       "1                   18.542373                      0.705833            1946   \n",
       "2                   18.542373                      0.705833            5526   \n",
       "3                   18.542373                      0.705833            6476   \n",
       "4                   18.542373                      0.705833            3751   \n",
       "\n",
       "   reorder_prob eval_set  order_id  \n",
       "0      0.776480    train   1187899  \n",
       "1      0.713772    train   1187899  \n",
       "2      0.652009    train   1187899  \n",
       "3      0.740735    train   1187899  \n",
       "4      0.657158    train   1187899  "
      ],
      "text/html": "<div>\n<style scoped>\n    .dataframe tbody tr th:only-of-type {\n        vertical-align: middle;\n    }\n\n    .dataframe tbody tr th {\n        vertical-align: top;\n    }\n\n    .dataframe thead th {\n        text-align: right;\n    }\n</style>\n<table border=\"1\" class=\"dataframe\">\n  <thead>\n    <tr style=\"text-align: right;\">\n      <th></th>\n      <th>user_id</th>\n      <th>product_id</th>\n      <th>total_bought</th>\n      <th>total_orders</th>\n      <th>reorder_ratio</th>\n      <th>avg_day_since_last_reorder</th>\n      <th>reorder_item_ratio_per_order</th>\n      <th>total_purchase</th>\n      <th>reorder_prob</th>\n      <th>eval_set</th>\n      <th>order_id</th>\n    </tr>\n  </thead>\n  <tbody>\n    <tr>\n      <th>0</th>\n      <td>1</td>\n      <td>196</td>\n      <td>10</td>\n      <td>10</td>\n      <td>0.694915</td>\n      <td>18.542373</td>\n      <td>0.705833</td>\n      <td>35791</td>\n      <td>0.776480</td>\n      <td>train</td>\n      <td>1187899</td>\n    </tr>\n    <tr>\n      <th>1</th>\n      <td>1</td>\n      <td>10258</td>\n      <td>9</td>\n      <td>10</td>\n      <td>0.694915</td>\n      <td>18.542373</td>\n      <td>0.705833</td>\n      <td>1946</td>\n      <td>0.713772</td>\n      <td>train</td>\n      <td>1187899</td>\n    </tr>\n    <tr>\n      <th>2</th>\n      <td>1</td>\n      <td>10326</td>\n      <td>1</td>\n      <td>10</td>\n      <td>0.694915</td>\n      <td>18.542373</td>\n      <td>0.705833</td>\n      <td>5526</td>\n      <td>0.652009</td>\n      <td>train</td>\n      <td>1187899</td>\n    </tr>\n    <tr>\n      <th>3</th>\n      <td>1</td>\n      <td>12427</td>\n      <td>10</td>\n      <td>10</td>\n      <td>0.694915</td>\n      <td>18.542373</td>\n      <td>0.705833</td>\n      <td>6476</td>\n      <td>0.740735</td>\n      <td>train</td>\n      <td>1187899</td>\n    </tr>\n    <tr>\n      <th>4</th>\n      <td>1</td>\n      <td>13032</td>\n      <td>3</td>\n      <td>10</td>\n      <td>0.694915</td>\n      <td>18.542373</td>\n      <td>0.705833</td>\n      <td>3751</td>\n      <td>0.657158</td>\n      <td>train</td>\n      <td>1187899</td>\n    </tr>\n  </tbody>\n</table>\n</div>"
     },
     "metadata": {},
     "execution_count": 16
    }
   ],
   "source": [
    "data_train = data[data.eval_set=='train']\n",
    "data_train.head()"
   ]
  },
  {
   "cell_type": "code",
   "execution_count": 17,
   "metadata": {},
   "outputs": [
    {
     "output_type": "execute_result",
     "data": {
      "text/plain": [
       "   user_id  product_id  total_bought  total_orders  reorder_ratio  \\\n",
       "0        1         196            10            10       0.694915   \n",
       "1        1       10258             9            10       0.694915   \n",
       "2        1       10326             1            10       0.694915   \n",
       "3        1       12427            10            10       0.694915   \n",
       "4        1       13032             3            10       0.694915   \n",
       "\n",
       "   avg_day_since_last_reorder  reorder_item_ratio_per_order  total_purchase  \\\n",
       "0                   18.542373                      0.705833           35791   \n",
       "1                   18.542373                      0.705833            1946   \n",
       "2                   18.542373                      0.705833            5526   \n",
       "3                   18.542373                      0.705833            6476   \n",
       "4                   18.542373                      0.705833            3751   \n",
       "\n",
       "   reorder_prob eval_set  order_id  reordered  \n",
       "0      0.776480    train   1187899        1.0  \n",
       "1      0.713772    train   1187899        1.0  \n",
       "2      0.652009    train   1187899        NaN  \n",
       "3      0.740735    train   1187899        NaN  \n",
       "4      0.657158    train   1187899        1.0  "
      ],
      "text/html": "<div>\n<style scoped>\n    .dataframe tbody tr th:only-of-type {\n        vertical-align: middle;\n    }\n\n    .dataframe tbody tr th {\n        vertical-align: top;\n    }\n\n    .dataframe thead th {\n        text-align: right;\n    }\n</style>\n<table border=\"1\" class=\"dataframe\">\n  <thead>\n    <tr style=\"text-align: right;\">\n      <th></th>\n      <th>user_id</th>\n      <th>product_id</th>\n      <th>total_bought</th>\n      <th>total_orders</th>\n      <th>reorder_ratio</th>\n      <th>avg_day_since_last_reorder</th>\n      <th>reorder_item_ratio_per_order</th>\n      <th>total_purchase</th>\n      <th>reorder_prob</th>\n      <th>eval_set</th>\n      <th>order_id</th>\n      <th>reordered</th>\n    </tr>\n  </thead>\n  <tbody>\n    <tr>\n      <th>0</th>\n      <td>1</td>\n      <td>196</td>\n      <td>10</td>\n      <td>10</td>\n      <td>0.694915</td>\n      <td>18.542373</td>\n      <td>0.705833</td>\n      <td>35791</td>\n      <td>0.776480</td>\n      <td>train</td>\n      <td>1187899</td>\n      <td>1.0</td>\n    </tr>\n    <tr>\n      <th>1</th>\n      <td>1</td>\n      <td>10258</td>\n      <td>9</td>\n      <td>10</td>\n      <td>0.694915</td>\n      <td>18.542373</td>\n      <td>0.705833</td>\n      <td>1946</td>\n      <td>0.713772</td>\n      <td>train</td>\n      <td>1187899</td>\n      <td>1.0</td>\n    </tr>\n    <tr>\n      <th>2</th>\n      <td>1</td>\n      <td>10326</td>\n      <td>1</td>\n      <td>10</td>\n      <td>0.694915</td>\n      <td>18.542373</td>\n      <td>0.705833</td>\n      <td>5526</td>\n      <td>0.652009</td>\n      <td>train</td>\n      <td>1187899</td>\n      <td>NaN</td>\n    </tr>\n    <tr>\n      <th>3</th>\n      <td>1</td>\n      <td>12427</td>\n      <td>10</td>\n      <td>10</td>\n      <td>0.694915</td>\n      <td>18.542373</td>\n      <td>0.705833</td>\n      <td>6476</td>\n      <td>0.740735</td>\n      <td>train</td>\n      <td>1187899</td>\n      <td>NaN</td>\n    </tr>\n    <tr>\n      <th>4</th>\n      <td>1</td>\n      <td>13032</td>\n      <td>3</td>\n      <td>10</td>\n      <td>0.694915</td>\n      <td>18.542373</td>\n      <td>0.705833</td>\n      <td>3751</td>\n      <td>0.657158</td>\n      <td>train</td>\n      <td>1187899</td>\n      <td>1.0</td>\n    </tr>\n  </tbody>\n</table>\n</div>"
     },
     "metadata": {},
     "execution_count": 17
    }
   ],
   "source": [
    "data_train = data_train.merge(order_products_train[['product_id','order_id', 'reordered']], on=['product_id','order_id'],how='left' )\n",
    "\n",
    "data_train.head()"
   ]
  },
  {
   "cell_type": "code",
   "execution_count": 18,
   "metadata": {},
   "outputs": [],
   "source": [
    "data_train['reordered'] = data_train['reordered'].fillna(0)\n",
    "data_train = data_train.set_index(['user_id', 'product_id'])"
   ]
  },
  {
   "cell_type": "code",
   "execution_count": 19,
   "metadata": {},
   "outputs": [
    {
     "output_type": "execute_result",
     "data": {
      "text/plain": [
       "                    total_bought  total_orders  reorder_ratio  \\\n",
       "user_id product_id                                              \n",
       "1       196                   10            10       0.694915   \n",
       "        10258                  9            10       0.694915   \n",
       "        10326                  1            10       0.694915   \n",
       "        12427                 10            10       0.694915   \n",
       "        13032                  3            10       0.694915   \n",
       "\n",
       "                    avg_day_since_last_reorder  reorder_item_ratio_per_order  \\\n",
       "user_id product_id                                                             \n",
       "1       196                          18.542373                      0.705833   \n",
       "        10258                        18.542373                      0.705833   \n",
       "        10326                        18.542373                      0.705833   \n",
       "        12427                        18.542373                      0.705833   \n",
       "        13032                        18.542373                      0.705833   \n",
       "\n",
       "                    total_purchase  reorder_prob  reordered  \n",
       "user_id product_id                                           \n",
       "1       196                  35791      0.776480        1.0  \n",
       "        10258                 1946      0.713772        1.0  \n",
       "        10326                 5526      0.652009        0.0  \n",
       "        12427                 6476      0.740735        0.0  \n",
       "        13032                 3751      0.657158        1.0  "
      ],
      "text/html": "<div>\n<style scoped>\n    .dataframe tbody tr th:only-of-type {\n        vertical-align: middle;\n    }\n\n    .dataframe tbody tr th {\n        vertical-align: top;\n    }\n\n    .dataframe thead th {\n        text-align: right;\n    }\n</style>\n<table border=\"1\" class=\"dataframe\">\n  <thead>\n    <tr style=\"text-align: right;\">\n      <th></th>\n      <th></th>\n      <th>total_bought</th>\n      <th>total_orders</th>\n      <th>reorder_ratio</th>\n      <th>avg_day_since_last_reorder</th>\n      <th>reorder_item_ratio_per_order</th>\n      <th>total_purchase</th>\n      <th>reorder_prob</th>\n      <th>reordered</th>\n    </tr>\n    <tr>\n      <th>user_id</th>\n      <th>product_id</th>\n      <th></th>\n      <th></th>\n      <th></th>\n      <th></th>\n      <th></th>\n      <th></th>\n      <th></th>\n      <th></th>\n    </tr>\n  </thead>\n  <tbody>\n    <tr>\n      <th rowspan=\"5\" valign=\"top\">1</th>\n      <th>196</th>\n      <td>10</td>\n      <td>10</td>\n      <td>0.694915</td>\n      <td>18.542373</td>\n      <td>0.705833</td>\n      <td>35791</td>\n      <td>0.776480</td>\n      <td>1.0</td>\n    </tr>\n    <tr>\n      <th>10258</th>\n      <td>9</td>\n      <td>10</td>\n      <td>0.694915</td>\n      <td>18.542373</td>\n      <td>0.705833</td>\n      <td>1946</td>\n      <td>0.713772</td>\n      <td>1.0</td>\n    </tr>\n    <tr>\n      <th>10326</th>\n      <td>1</td>\n      <td>10</td>\n      <td>0.694915</td>\n      <td>18.542373</td>\n      <td>0.705833</td>\n      <td>5526</td>\n      <td>0.652009</td>\n      <td>0.0</td>\n    </tr>\n    <tr>\n      <th>12427</th>\n      <td>10</td>\n      <td>10</td>\n      <td>0.694915</td>\n      <td>18.542373</td>\n      <td>0.705833</td>\n      <td>6476</td>\n      <td>0.740735</td>\n      <td>0.0</td>\n    </tr>\n    <tr>\n      <th>13032</th>\n      <td>3</td>\n      <td>10</td>\n      <td>0.694915</td>\n      <td>18.542373</td>\n      <td>0.705833</td>\n      <td>3751</td>\n      <td>0.657158</td>\n      <td>1.0</td>\n    </tr>\n  </tbody>\n</table>\n</div>"
     },
     "metadata": {},
     "execution_count": 19
    }
   ],
   "source": [
    "data_train = data_train.drop(['eval_set', 'order_id'], axis=1)\n",
    "data_train.head()"
   ]
  },
  {
   "source": [
    "### Create prediction model"
   ],
   "cell_type": "markdown",
   "metadata": {}
  },
  {
   "cell_type": "code",
   "execution_count": 20,
   "metadata": {},
   "outputs": [],
   "source": [
    "from sklearn.ensemble import RandomForestClassifier\n",
    "from sklearn.model_selection import train_test_split\n",
    "from sklearn.metrics import f1_score, classification_report, confusion_matrix\n",
    "\n",
    "X_train, X_test, y_train, y_test = train_test_split(data_train.drop('reordered', axis=1), data_train.reordered, test_size=0.8, random_state=42)"
   ]
  },
  {
   "cell_type": "code",
   "execution_count": 28,
   "metadata": {},
   "outputs": [],
   "source": [
    "clf = RandomForestClassifier(n_estimators=10 ,random_state=42)\n",
    "model = clf.fit(X_train, y_train)"
   ]
  },
  {
   "cell_type": "code",
   "execution_count": 29,
   "metadata": {},
   "outputs": [
    {
     "output_type": "stream",
     "name": "stdout",
     "text": [
      "RESULTS ON VALIDATION SET\n",
      "====================\n",
      "F1 Score:  0.3356859486862497 \n",
      "====================\n",
      "Classification Report\n",
      "                precision    recall  f1-score   support\n",
      "\n",
      "         0.0       0.93      0.89      0.91   6116209\n",
      "         1.0       0.29      0.40      0.34    663520\n",
      "\n",
      "    accuracy                           0.84   6779729\n",
      "   macro avg       0.61      0.65      0.62   6779729\n",
      "weighted avg       0.87      0.84      0.85   6779729\n",
      " \n",
      "====================\n",
      "Confusion Matrix\n",
      "  [[5449640  666569]\n",
      " [ 395246  268274]] \n",
      "====================\n",
      "                              importance\n",
      "avg_day_since_last_reorder      0.166329\n",
      "reorder_prob                    0.165624\n",
      "reorder_item_ratio_per_order    0.161445\n",
      "reorder_ratio                   0.158503\n",
      "total_purchase                  0.152722\n",
      "total_bought                    0.104400\n",
      "total_orders                    0.090976\n"
     ]
    }
   ],
   "source": [
    "y_pred = (model.predict_proba(X_test)[:,1] >= 0.30).astype(int)\n",
    "\n",
    "### Get scores on validation set\n",
    "print(\"RESULTS ON VALIDATION SET\\n====================\")\n",
    "print(\"F1 Score: \",f1_score(y_test, y_pred, average='binary'), \"\\n====================\")\n",
    "print(\"Classification Report\\n \", classification_report(y_test, y_pred), \"\\n====================\")\n",
    "print(\"Confusion Matrix\\n \", confusion_matrix(y_test, y_pred), \"\\n====================\")\n",
    "feature_importances_df = pd.DataFrame(model.feature_importances_, index = X_train.columns, columns=['importance']).sort_values('importance',ascending=False)\n",
    "print(feature_importances_df)"
   ]
  },
  {
   "cell_type": "code",
   "execution_count": 25,
   "metadata": {},
   "outputs": [
    {
     "output_type": "stream",
     "name": "stdout",
     "text": [
      "Fitting 5 folds for each of 10 candidates, totalling 50 fits\n",
      "[Parallel(n_jobs=1)]: Using backend SequentialBackend with 1 concurrent workers.\n",
      "[CV] n_estimators=10, max_features=5, max_depth=2 ....................\n",
      "[CV]  n_estimators=10, max_features=5, max_depth=2, score=0.000, total=   4.9s\n",
      "[CV] n_estimators=10, max_features=5, max_depth=2 ....................\n",
      "[Parallel(n_jobs=1)]: Done   1 out of   1 | elapsed:    4.9s remaining:    0.0s\n",
      "[CV]  n_estimators=10, max_features=5, max_depth=2, score=0.000, total=   4.0s\n",
      "[CV] n_estimators=10, max_features=5, max_depth=2 ....................\n",
      "[Parallel(n_jobs=1)]: Done   2 out of   2 | elapsed:    8.8s remaining:    0.0s\n",
      "[CV]  n_estimators=10, max_features=5, max_depth=2, score=0.000, total=   3.7s\n",
      "[CV] n_estimators=10, max_features=5, max_depth=2 ....................\n",
      "[Parallel(n_jobs=1)]: Done   3 out of   3 | elapsed:   12.6s remaining:    0.0s\n",
      "[CV]  n_estimators=10, max_features=5, max_depth=2, score=0.000, total=   3.4s\n",
      "[CV] n_estimators=10, max_features=5, max_depth=2 ....................\n",
      "[Parallel(n_jobs=1)]: Done   4 out of   4 | elapsed:   16.0s remaining:    0.0s\n",
      "[CV]  n_estimators=10, max_features=5, max_depth=2, score=0.000, total=   3.5s\n",
      "[CV] n_estimators=100, max_features=7, max_depth=8 ...................\n",
      "[Parallel(n_jobs=1)]: Done   5 out of   5 | elapsed:   19.5s remaining:    0.0s\n",
      "[CV]  n_estimators=100, max_features=7, max_depth=8, score=0.189, total= 1.8min\n",
      "[CV] n_estimators=100, max_features=7, max_depth=8 ...................\n",
      "[Parallel(n_jobs=1)]: Done   6 out of   6 | elapsed:  2.1min remaining:    0.0s\n",
      "[CV]  n_estimators=100, max_features=7, max_depth=8, score=0.200, total= 1.8min\n",
      "[CV] n_estimators=100, max_features=7, max_depth=8 ...................\n",
      "[Parallel(n_jobs=1)]: Done   7 out of   7 | elapsed:  3.9min remaining:    0.0s\n",
      "[CV]  n_estimators=100, max_features=7, max_depth=8, score=0.195, total= 1.8min\n",
      "[CV] n_estimators=100, max_features=7, max_depth=8 ...................\n",
      "[Parallel(n_jobs=1)]: Done   8 out of   8 | elapsed:  5.7min remaining:    0.0s\n",
      "[CV]  n_estimators=100, max_features=7, max_depth=8, score=0.193, total= 1.8min\n",
      "[CV] n_estimators=100, max_features=7, max_depth=8 ...................\n",
      "[Parallel(n_jobs=1)]: Done   9 out of   9 | elapsed:  7.5min remaining:    0.0s\n",
      "[CV]  n_estimators=100, max_features=7, max_depth=8, score=0.197, total= 1.8min\n",
      "[CV] n_estimators=100, max_features=8, max_depth=8 ...................\n",
      "[CV]  n_estimators=100, max_features=8, max_depth=8, score=nan, total=   1.7s\n",
      "[CV] n_estimators=100, max_features=8, max_depth=8 ...................\n",
      "[CV]  n_estimators=100, max_features=8, max_depth=8, score=nan, total=   3.3s\n",
      "[CV] n_estimators=100, max_features=8, max_depth=8 ...................\n",
      "[CV]  n_estimators=100, max_features=8, max_depth=8, score=nan, total=   3.0s\n",
      "[CV] n_estimators=100, max_features=8, max_depth=8 ...................\n",
      "[CV]  n_estimators=100, max_features=8, max_depth=8, score=nan, total=   3.1s\n",
      "[CV] n_estimators=100, max_features=8, max_depth=8 ...................\n",
      "[CV]  n_estimators=100, max_features=8, max_depth=8, score=nan, total=   3.2s\n",
      "[CV] n_estimators=100, max_features=5, max_depth=2 ...................\n",
      "[CV]  n_estimators=100, max_features=5, max_depth=2, score=0.000, total=  29.6s\n",
      "[CV] n_estimators=100, max_features=5, max_depth=2 ...................\n",
      "[CV]  n_estimators=100, max_features=5, max_depth=2, score=0.000, total=  29.1s\n",
      "[CV] n_estimators=100, max_features=5, max_depth=2 ...................\n",
      "[CV]  n_estimators=100, max_features=5, max_depth=2, score=0.000, total=  29.9s\n",
      "[CV] n_estimators=100, max_features=5, max_depth=2 ...................\n",
      "[CV]  n_estimators=100, max_features=5, max_depth=2, score=0.000, total=  29.3s\n",
      "[CV] n_estimators=100, max_features=5, max_depth=2 ...................\n",
      "[CV]  n_estimators=100, max_features=5, max_depth=2, score=0.000, total=  28.4s\n",
      "[CV] n_estimators=10, max_features=5, max_depth=3 ....................\n",
      "[CV]  n_estimators=10, max_features=5, max_depth=3, score=0.000, total=   4.7s\n",
      "[CV] n_estimators=10, max_features=5, max_depth=3 ....................\n",
      "[CV]  n_estimators=10, max_features=5, max_depth=3, score=0.000, total=   4.5s\n",
      "[CV] n_estimators=10, max_features=5, max_depth=3 ....................\n",
      "[CV]  n_estimators=10, max_features=5, max_depth=3, score=0.000, total=   4.8s\n",
      "[CV] n_estimators=10, max_features=5, max_depth=3 ....................\n",
      "[CV]  n_estimators=10, max_features=5, max_depth=3, score=0.000, total=   4.6s\n",
      "[CV] n_estimators=10, max_features=5, max_depth=3 ....................\n",
      "[CV]  n_estimators=10, max_features=5, max_depth=3, score=0.000, total=   4.8s\n",
      "[CV] n_estimators=50, max_features=5, max_depth=8 ....................\n",
      "[CV]  n_estimators=50, max_features=5, max_depth=8, score=0.185, total=  45.4s\n",
      "[CV] n_estimators=50, max_features=5, max_depth=8 ....................\n",
      "[CV]  n_estimators=50, max_features=5, max_depth=8, score=0.196, total=  43.8s\n",
      "[CV] n_estimators=50, max_features=5, max_depth=8 ....................\n",
      "[CV]  n_estimators=50, max_features=5, max_depth=8, score=0.193, total=  43.8s\n",
      "[CV] n_estimators=50, max_features=5, max_depth=8 ....................\n",
      "[CV]  n_estimators=50, max_features=5, max_depth=8, score=0.191, total=  43.8s\n",
      "[CV] n_estimators=50, max_features=5, max_depth=8 ....................\n",
      "[CV]  n_estimators=50, max_features=5, max_depth=8, score=0.195, total=  43.6s\n",
      "[CV] n_estimators=50, max_features=7, max_depth=8 ....................\n",
      "[CV]  n_estimators=50, max_features=7, max_depth=8, score=0.189, total=  56.8s\n",
      "[CV] n_estimators=50, max_features=7, max_depth=8 ....................\n",
      "[CV]  n_estimators=50, max_features=7, max_depth=8, score=0.201, total=  57.6s\n",
      "[CV] n_estimators=50, max_features=7, max_depth=8 ....................\n",
      "[CV]  n_estimators=50, max_features=7, max_depth=8, score=0.195, total=  57.0s\n",
      "[CV] n_estimators=50, max_features=7, max_depth=8 ....................\n",
      "[CV]  n_estimators=50, max_features=7, max_depth=8, score=0.193, total=  56.3s\n",
      "[CV] n_estimators=50, max_features=7, max_depth=8 ....................\n",
      "[CV]  n_estimators=50, max_features=7, max_depth=8, score=0.197, total=  56.5s\n",
      "[CV] n_estimators=10, max_features=8, max_depth=5 ....................\n",
      "[CV]  n_estimators=10, max_features=8, max_depth=5, score=nan, total=   1.1s\n",
      "[CV] n_estimators=10, max_features=8, max_depth=5 ....................\n",
      "[CV]  n_estimators=10, max_features=8, max_depth=5, score=nan, total=   2.7s\n",
      "[CV] n_estimators=10, max_features=8, max_depth=5 ....................\n",
      "[CV]  n_estimators=10, max_features=8, max_depth=5, score=nan, total=   2.6s\n",
      "[CV] n_estimators=10, max_features=8, max_depth=5 ....................\n",
      "[CV]  n_estimators=10, max_features=8, max_depth=5, score=nan, total=   2.7s\n",
      "[CV] n_estimators=10, max_features=8, max_depth=5 ....................\n",
      "[CV]  n_estimators=10, max_features=8, max_depth=5, score=nan, total=   2.7s\n",
      "[CV] n_estimators=100, max_features=1, max_depth=4 ...................\n",
      "[CV]  n_estimators=100, max_features=1, max_depth=4, score=0.000, total=  21.8s\n",
      "[CV] n_estimators=100, max_features=1, max_depth=4 ...................\n",
      "[CV]  n_estimators=100, max_features=1, max_depth=4, score=0.000, total=  20.3s\n",
      "[CV] n_estimators=100, max_features=1, max_depth=4 ...................\n",
      "[CV]  n_estimators=100, max_features=1, max_depth=4, score=0.000, total=  20.0s\n",
      "[CV] n_estimators=100, max_features=1, max_depth=4 ...................\n",
      "[CV]  n_estimators=100, max_features=1, max_depth=4, score=0.000, total=  20.3s\n",
      "[CV] n_estimators=100, max_features=1, max_depth=4 ...................\n",
      "[CV]  n_estimators=100, max_features=1, max_depth=4, score=0.000, total=  20.7s\n",
      "[CV] n_estimators=50, max_features=2, max_depth=2 ....................\n",
      "[CV]  n_estimators=50, max_features=2, max_depth=2, score=0.000, total=   9.2s\n",
      "[CV] n_estimators=50, max_features=2, max_depth=2 ....................\n",
      "[CV]  n_estimators=50, max_features=2, max_depth=2, score=0.000, total=   9.3s\n",
      "[CV] n_estimators=50, max_features=2, max_depth=2 ....................\n",
      "[CV]  n_estimators=50, max_features=2, max_depth=2, score=0.000, total=   9.3s\n",
      "[CV] n_estimators=50, max_features=2, max_depth=2 ....................\n",
      "[CV]  n_estimators=50, max_features=2, max_depth=2, score=0.000, total=   9.4s\n",
      "[CV] n_estimators=50, max_features=2, max_depth=2 ....................\n",
      "[CV]  n_estimators=50, max_features=2, max_depth=2, score=0.000, total=   9.3s\n",
      "[Parallel(n_jobs=1)]: Done  50 out of  50 | elapsed: 23.5min finished\n",
      "{'n_estimators': 50, 'max_features': 7, 'max_depth': 8}\n"
     ]
    }
   ],
   "source": [
    "from sklearn.model_selection import RandomizedSearchCV\n",
    "\n",
    "parameters = {'max_depth': [1, 2, 3, 4, 5, 6, 7, 8], 'n_estimators': [10, 50, 100], 'max_features': [1, 2, 3, 4, 5, 6, 7, 8]}\n",
    "\n",
    "clf = RandomForestClassifier(n_jobs=-1)\n",
    "\n",
    "gsc = RandomizedSearchCV(clf, parameters, scoring='f1', n_jobs=1, verbose=10)\n",
    "gsc.fit(X_train, y_train)\n",
    "print(gsc.best_params_)"
   ]
  },
  {
   "cell_type": "code",
   "execution_count": 30,
   "metadata": {},
   "outputs": [],
   "source": [
    "clf = RandomForestClassifier(n_estimators=50 ,max_features=7, max_depth=8)\n",
    "model = clf.fit(X_train, y_train)\n",
    "y_pred = (model.predict_proba(X_test)[:,1] >= 0.30).astype(int)"
   ]
  },
  {
   "cell_type": "code",
   "execution_count": 27,
   "metadata": {},
   "outputs": [
    {
     "output_type": "stream",
     "name": "stdout",
     "text": [
      "RESULTS ON VALIDATION SET\n",
      "====================\n",
      "F1 Score:  0.3546679614140841 \n",
      "====================\n",
      "Classification Report\n",
      "                precision    recall  f1-score   support\n",
      "\n",
      "         0.0       0.93      0.96      0.94   6116209\n",
      "         1.0       0.45      0.29      0.35    663520\n",
      "\n",
      "    accuracy                           0.90   6779729\n",
      "   macro avg       0.69      0.63      0.65   6779729\n",
      "weighted avg       0.88      0.90      0.89   6779729\n",
      " \n",
      "====================\n",
      "Confusion Matrix\n",
      "  [[5881715  234494]\n",
      " [ 469944  193576]] \n",
      "====================\n",
      "                              importance\n",
      "total_bought                    0.631492\n",
      "total_orders                    0.306855\n",
      "reorder_prob                    0.041544\n",
      "reorder_ratio                   0.010574\n",
      "total_purchase                  0.004059\n",
      "reorder_item_ratio_per_order    0.002940\n",
      "avg_day_since_last_reorder      0.002536\n"
     ]
    }
   ],
   "source": [
    "### Get scores on validation set\n",
    "print(\"RESULTS ON VALIDATION SET\\n====================\")\n",
    "print(\"F1 Score: \",f1_score(y_test, y_pred, average='binary'), \"\\n====================\")\n",
    "print(\"Classification Report\\n \", classification_report(y_test, y_pred), \"\\n====================\")\n",
    "print(\"Confusion Matrix\\n \", confusion_matrix(y_test, y_pred), \"\\n====================\")\n",
    "feature_importances_df = pd.DataFrame(model.feature_importances_, index = X_train.columns, columns=['importance']).sort_values('importance',ascending=False)\n",
    "print(feature_importances_df)"
   ]
  },
  {
   "cell_type": "code",
   "execution_count": 31,
   "metadata": {},
   "outputs": [
    {
     "output_type": "execute_result",
     "data": {
      "text/plain": [
       "                              importance\n",
       "total_bought                    0.788226\n",
       "total_orders                    0.088440\n",
       "reorder_prob                    0.057831\n",
       "avg_day_since_last_reorder      0.028254\n",
       "total_purchase                  0.013159\n",
       "reorder_ratio                   0.012538\n",
       "reorder_item_ratio_per_order    0.011553"
      ],
      "text/html": "<div>\n<style scoped>\n    .dataframe tbody tr th:only-of-type {\n        vertical-align: middle;\n    }\n\n    .dataframe tbody tr th {\n        vertical-align: top;\n    }\n\n    .dataframe thead th {\n        text-align: right;\n    }\n</style>\n<table border=\"1\" class=\"dataframe\">\n  <thead>\n    <tr style=\"text-align: right;\">\n      <th></th>\n      <th>importance</th>\n    </tr>\n  </thead>\n  <tbody>\n    <tr>\n      <th>total_bought</th>\n      <td>0.788226</td>\n    </tr>\n    <tr>\n      <th>total_orders</th>\n      <td>0.088440</td>\n    </tr>\n    <tr>\n      <th>reorder_prob</th>\n      <td>0.057831</td>\n    </tr>\n    <tr>\n      <th>avg_day_since_last_reorder</th>\n      <td>0.028254</td>\n    </tr>\n    <tr>\n      <th>total_purchase</th>\n      <td>0.013159</td>\n    </tr>\n    <tr>\n      <th>reorder_ratio</th>\n      <td>0.012538</td>\n    </tr>\n    <tr>\n      <th>reorder_item_ratio_per_order</th>\n      <td>0.011553</td>\n    </tr>\n  </tbody>\n</table>\n</div>"
     },
     "metadata": {},
     "execution_count": 31
    }
   ],
   "source": [
    "feature_importances_df"
   ]
  },
  {
   "cell_type": "code",
   "execution_count": 33,
   "metadata": {},
   "outputs": [],
   "source": [
    "import pickle\n",
    "\n",
    "filename = 'rfc_model.sav'\n",
    "pickle.dump(model, open(filename, 'wb'))"
   ]
  }
 ]
}