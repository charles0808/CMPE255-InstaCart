{
 "metadata": {
  "language_info": {
   "codemirror_mode": {
    "name": "ipython",
    "version": 3
   },
   "file_extension": ".py",
   "mimetype": "text/x-python",
   "name": "python",
   "nbconvert_exporter": "python",
   "pygments_lexer": "ipython3",
   "version": "3.8.3-final"
  },
  "orig_nbformat": 2,
  "kernelspec": {
   "name": "python3",
   "display_name": "Python 3.8.3 64-bit (conda)",
   "metadata": {
    "interpreter": {
     "hash": "87e52c842bd8f5d512cdf51fc1a698fd0e985dc69db3fa723c307f4676a511e8"
    }
   }
  }
 },
 "nbformat": 4,
 "nbformat_minor": 2,
 "cells": [
  {
   "cell_type": "code",
   "execution_count": 2,
   "metadata": {},
   "outputs": [],
   "source": [
    "import pandas as pd\n",
    "import statistics\n",
    "import gc\n",
    "from tqdm import tqdm\n",
    "gc.enable()\n",
    "\n",
    "orders = pd.read_csv('data/orders.csv')\n",
    "order_products_prior = pd.read_csv('data/order_products__prior.csv')\n",
    "order_products_train = pd.read_csv('data/order_products__train.csv')\n",
    "products = pd.read_csv('data/products.csv')\n",
    "orders['eval_set'] = orders['eval_set'].astype('category')"
   ]
  },
  {
   "cell_type": "code",
   "execution_count": 3,
   "metadata": {},
   "outputs": [],
   "source": [
    "tqdm.pandas()"
   ]
  },
  {
   "cell_type": "code",
   "execution_count": 4,
   "metadata": {},
   "outputs": [
    {
     "output_type": "execute_result",
     "data": {
      "text/plain": [
       "   order_id  user_id eval_set  order_number  order_dow  order_hour_of_day  \\\n",
       "0   1737705       17    prior             1          2                 13   \n",
       "1   1737705       17    prior             1          2                 13   \n",
       "2   1737705       17    prior             1          2                 13   \n",
       "3   1681401       17    prior             2          5                 10   \n",
       "4   1681401       17    prior             2          5                 10   \n",
       "\n",
       "   days_since_prior_order  product_id  add_to_cart_order  reordered label  \n",
       "0                     NaN        7350                  1          0     3  \n",
       "1                     NaN       47141                  2          0     3  \n",
       "2                     NaN       17762                  3          0     3  \n",
       "3                     3.0        7350                  1          1     3  \n",
       "4                     3.0       18534                  2          0     3  "
      ],
      "text/html": "<div>\n<style scoped>\n    .dataframe tbody tr th:only-of-type {\n        vertical-align: middle;\n    }\n\n    .dataframe tbody tr th {\n        vertical-align: top;\n    }\n\n    .dataframe thead th {\n        text-align: right;\n    }\n</style>\n<table border=\"1\" class=\"dataframe\">\n  <thead>\n    <tr style=\"text-align: right;\">\n      <th></th>\n      <th>order_id</th>\n      <th>user_id</th>\n      <th>eval_set</th>\n      <th>order_number</th>\n      <th>order_dow</th>\n      <th>order_hour_of_day</th>\n      <th>days_since_prior_order</th>\n      <th>product_id</th>\n      <th>add_to_cart_order</th>\n      <th>reordered</th>\n      <th>label</th>\n    </tr>\n  </thead>\n  <tbody>\n    <tr>\n      <th>0</th>\n      <td>1737705</td>\n      <td>17</td>\n      <td>prior</td>\n      <td>1</td>\n      <td>2</td>\n      <td>13</td>\n      <td>NaN</td>\n      <td>7350</td>\n      <td>1</td>\n      <td>0</td>\n      <td>3</td>\n    </tr>\n    <tr>\n      <th>1</th>\n      <td>1737705</td>\n      <td>17</td>\n      <td>prior</td>\n      <td>1</td>\n      <td>2</td>\n      <td>13</td>\n      <td>NaN</td>\n      <td>47141</td>\n      <td>2</td>\n      <td>0</td>\n      <td>3</td>\n    </tr>\n    <tr>\n      <th>2</th>\n      <td>1737705</td>\n      <td>17</td>\n      <td>prior</td>\n      <td>1</td>\n      <td>2</td>\n      <td>13</td>\n      <td>NaN</td>\n      <td>17762</td>\n      <td>3</td>\n      <td>0</td>\n      <td>3</td>\n    </tr>\n    <tr>\n      <th>3</th>\n      <td>1681401</td>\n      <td>17</td>\n      <td>prior</td>\n      <td>2</td>\n      <td>5</td>\n      <td>10</td>\n      <td>3.0</td>\n      <td>7350</td>\n      <td>1</td>\n      <td>1</td>\n      <td>3</td>\n    </tr>\n    <tr>\n      <th>4</th>\n      <td>1681401</td>\n      <td>17</td>\n      <td>prior</td>\n      <td>2</td>\n      <td>5</td>\n      <td>10</td>\n      <td>3.0</td>\n      <td>18534</td>\n      <td>2</td>\n      <td>0</td>\n      <td>3</td>\n    </tr>\n  </tbody>\n</table>\n</div>"
     },
     "metadata": {},
     "execution_count": 4
    }
   ],
   "source": [
    "order_product = orders.merge(order_products_prior, on='order_id', how='inner')\n",
    "user_clf = pd.read_csv('customer_classification.csv')\n",
    "user_clf = user_clf.drop(user_clf.columns[0], axis=1)\n",
    "\n",
    "order_product = order_product.merge(user_clf, on='user_id', how='inner')\n",
    "order_product['label'] = order_product['label'].astype('category')\n",
    "order_product.head()"
   ]
  },
  {
   "cell_type": "code",
   "execution_count": 5,
   "metadata": {},
   "outputs": [
    {
     "output_type": "stream",
     "name": "stderr",
     "text": [
      "100%|██████████| 40143/40143 [00:38<00:00, 1044.72it/s]\n"
     ]
    },
    {
     "output_type": "execute_result",
     "data": {
      "text/plain": [
       "   user_id  total_orders\n",
       "0       17            40\n",
       "1       21            33\n",
       "2       27            81\n",
       "3       28            24\n",
       "4       36            37"
      ],
      "text/html": "<div>\n<style scoped>\n    .dataframe tbody tr th:only-of-type {\n        vertical-align: middle;\n    }\n\n    .dataframe tbody tr th {\n        vertical-align: top;\n    }\n\n    .dataframe thead th {\n        text-align: right;\n    }\n</style>\n<table border=\"1\" class=\"dataframe\">\n  <thead>\n    <tr style=\"text-align: right;\">\n      <th></th>\n      <th>user_id</th>\n      <th>total_orders</th>\n    </tr>\n  </thead>\n  <tbody>\n    <tr>\n      <th>0</th>\n      <td>17</td>\n      <td>40</td>\n    </tr>\n    <tr>\n      <th>1</th>\n      <td>21</td>\n      <td>33</td>\n    </tr>\n    <tr>\n      <th>2</th>\n      <td>27</td>\n      <td>81</td>\n    </tr>\n    <tr>\n      <th>3</th>\n      <td>28</td>\n      <td>24</td>\n    </tr>\n    <tr>\n      <th>4</th>\n      <td>36</td>\n      <td>37</td>\n    </tr>\n  </tbody>\n</table>\n</div>"
     },
     "metadata": {},
     "execution_count": 5
    }
   ],
   "source": [
    "# Find the total number of order a user placed\n",
    "\n",
    "user_total_orders = order_product.groupby('user_id').progress_apply(lambda x: pd.Series({'total_orders': max(x['order_number'])})).reset_index()\n",
    "\n",
    "user_total_orders.head()"
   ]
  },
  {
   "cell_type": "code",
   "execution_count": 6,
   "metadata": {
    "tags": []
   },
   "outputs": [
    {
     "output_type": "stream",
     "name": "stderr",
     "text": [
      "100%|██████████| 40143/40143 [00:50<00:00, 797.10it/s]\n"
     ]
    }
   ],
   "source": [
    "# Find out the frequency of user reordered\n",
    "\n",
    "#       times of user reorder / total order of user\n",
    "\n",
    "user_reorder = order_product.groupby('user_id').progress_apply(lambda x: pd.Series({'reorder_ratio' : statistics.mean(x['reordered'])})).reset_index()"
   ]
  },
  {
   "cell_type": "code",
   "execution_count": 7,
   "metadata": {},
   "outputs": [
    {
     "output_type": "stream",
     "name": "stderr",
     "text": [
      "100%|██████████| 40143/40143 [00:44<00:00, 900.11it/s]\n"
     ]
    },
    {
     "output_type": "execute_result",
     "data": {
      "text/plain": [
       "       user_id  avg_day_since_last_reorder\n",
       "0           17                    8.183673\n",
       "1           21                    9.809756\n",
       "2           27                    5.118490\n",
       "3           28                   12.027322\n",
       "4           36                    9.849673\n",
       "...        ...                         ...\n",
       "40138   206187                    9.528736\n",
       "40139   206193                    4.457726\n",
       "40140   206201                   11.413366\n",
       "40141   206206                    3.985965\n",
       "40142   206208                    7.310192\n",
       "\n",
       "[40143 rows x 2 columns]"
      ],
      "text/html": "<div>\n<style scoped>\n    .dataframe tbody tr th:only-of-type {\n        vertical-align: middle;\n    }\n\n    .dataframe tbody tr th {\n        vertical-align: top;\n    }\n\n    .dataframe thead th {\n        text-align: right;\n    }\n</style>\n<table border=\"1\" class=\"dataframe\">\n  <thead>\n    <tr style=\"text-align: right;\">\n      <th></th>\n      <th>user_id</th>\n      <th>avg_day_since_last_reorder</th>\n    </tr>\n  </thead>\n  <tbody>\n    <tr>\n      <th>0</th>\n      <td>17</td>\n      <td>8.183673</td>\n    </tr>\n    <tr>\n      <th>1</th>\n      <td>21</td>\n      <td>9.809756</td>\n    </tr>\n    <tr>\n      <th>2</th>\n      <td>27</td>\n      <td>5.118490</td>\n    </tr>\n    <tr>\n      <th>3</th>\n      <td>28</td>\n      <td>12.027322</td>\n    </tr>\n    <tr>\n      <th>4</th>\n      <td>36</td>\n      <td>9.849673</td>\n    </tr>\n    <tr>\n      <th>...</th>\n      <td>...</td>\n      <td>...</td>\n    </tr>\n    <tr>\n      <th>40138</th>\n      <td>206187</td>\n      <td>9.528736</td>\n    </tr>\n    <tr>\n      <th>40139</th>\n      <td>206193</td>\n      <td>4.457726</td>\n    </tr>\n    <tr>\n      <th>40140</th>\n      <td>206201</td>\n      <td>11.413366</td>\n    </tr>\n    <tr>\n      <th>40141</th>\n      <td>206206</td>\n      <td>3.985965</td>\n    </tr>\n    <tr>\n      <th>40142</th>\n      <td>206208</td>\n      <td>7.310192</td>\n    </tr>\n  </tbody>\n</table>\n<p>40143 rows × 2 columns</p>\n</div>"
     },
     "metadata": {},
     "execution_count": 7
    }
   ],
   "source": [
    "# Average day since last order\n",
    "\n",
    "order_product['days_since_prior_order'] = order_product['days_since_prior_order'].fillna(0)\n",
    "\n",
    "user_last_order = order_product.groupby('user_id').progress_apply(lambda x: pd.Series({'avg_day_since_last_reorder' : statistics.mean(x['days_since_prior_order'])})).reset_index()\n",
    "\n",
    "user_last_order"
   ]
  },
  {
   "cell_type": "code",
   "execution_count": 8,
   "metadata": {},
   "outputs": [
    {
     "output_type": "stream",
     "name": "stderr",
     "text": [
      "100%|██████████| 40143/40143 [01:33<00:00, 428.48it/s]\n"
     ]
    },
    {
     "output_type": "execute_result",
     "data": {
      "text/plain": [
       "   user_id  reorder_item_ratio_per_order\n",
       "0       17                      0.722594\n",
       "1       21                      0.554367\n",
       "2       27                      0.669270\n",
       "3       28                      0.409113\n",
       "4       36                      0.708076"
      ],
      "text/html": "<div>\n<style scoped>\n    .dataframe tbody tr th:only-of-type {\n        vertical-align: middle;\n    }\n\n    .dataframe tbody tr th {\n        vertical-align: top;\n    }\n\n    .dataframe thead th {\n        text-align: right;\n    }\n</style>\n<table border=\"1\" class=\"dataframe\">\n  <thead>\n    <tr style=\"text-align: right;\">\n      <th></th>\n      <th>user_id</th>\n      <th>reorder_item_ratio_per_order</th>\n    </tr>\n  </thead>\n  <tbody>\n    <tr>\n      <th>0</th>\n      <td>17</td>\n      <td>0.722594</td>\n    </tr>\n    <tr>\n      <th>1</th>\n      <td>21</td>\n      <td>0.554367</td>\n    </tr>\n    <tr>\n      <th>2</th>\n      <td>27</td>\n      <td>0.669270</td>\n    </tr>\n    <tr>\n      <th>3</th>\n      <td>28</td>\n      <td>0.409113</td>\n    </tr>\n    <tr>\n      <th>4</th>\n      <td>36</td>\n      <td>0.708076</td>\n    </tr>\n  </tbody>\n</table>\n</div>"
     },
     "metadata": {},
     "execution_count": 8
    }
   ],
   "source": [
    "# for each user, average reorder item percentage in whole order\n",
    "\n",
    "\n",
    "def average_perc(x):\n",
    "    order_reorder_prob = x.groupby('order_id')['reordered'].mean().to_frame('reorder_prob')\n",
    "    return pd.Series({'reorder_item_ratio_per_order': statistics.mean(order_reorder_prob['reorder_prob'])}) \n",
    "\n",
    "average_reorder = order_product.groupby(['user_id']).progress_apply(average_perc).reset_index()\n",
    "average_reorder.head()"
   ]
  },
  {
   "cell_type": "code",
   "execution_count": 9,
   "metadata": {},
   "outputs": [
    {
     "output_type": "execute_result",
     "data": {
      "text/plain": [
       "       user_id  total_orders  reorder_ratio  avg_day_since_last_reorder  \\\n",
       "0           17            40       0.717687                    8.183673   \n",
       "1           21            33       0.502439                    9.809756   \n",
       "2           27            81       0.713542                    5.118490   \n",
       "3           28            24       0.420765                   12.027322   \n",
       "4           36            37       0.640523                    9.849673   \n",
       "...        ...           ...            ...                         ...   \n",
       "40138   206187            34       0.747126                    9.528736   \n",
       "40139   206193            41       0.527697                    4.457726   \n",
       "40140   206201            32       0.569307                   11.413366   \n",
       "40141   206206            67       0.473684                    3.985965   \n",
       "40142   206208            49       0.707533                    7.310192   \n",
       "\n",
       "       reorder_item_ratio_per_order  \n",
       "0                          0.722594  \n",
       "1                          0.554367  \n",
       "2                          0.669270  \n",
       "3                          0.409113  \n",
       "4                          0.708076  \n",
       "...                             ...  \n",
       "40138                      0.772777  \n",
       "40139                      0.610809  \n",
       "40140                      0.603936  \n",
       "40141                      0.570676  \n",
       "40142                      0.700368  \n",
       "\n",
       "[40143 rows x 5 columns]"
      ],
      "text/html": "<div>\n<style scoped>\n    .dataframe tbody tr th:only-of-type {\n        vertical-align: middle;\n    }\n\n    .dataframe tbody tr th {\n        vertical-align: top;\n    }\n\n    .dataframe thead th {\n        text-align: right;\n    }\n</style>\n<table border=\"1\" class=\"dataframe\">\n  <thead>\n    <tr style=\"text-align: right;\">\n      <th></th>\n      <th>user_id</th>\n      <th>total_orders</th>\n      <th>reorder_ratio</th>\n      <th>avg_day_since_last_reorder</th>\n      <th>reorder_item_ratio_per_order</th>\n    </tr>\n  </thead>\n  <tbody>\n    <tr>\n      <th>0</th>\n      <td>17</td>\n      <td>40</td>\n      <td>0.717687</td>\n      <td>8.183673</td>\n      <td>0.722594</td>\n    </tr>\n    <tr>\n      <th>1</th>\n      <td>21</td>\n      <td>33</td>\n      <td>0.502439</td>\n      <td>9.809756</td>\n      <td>0.554367</td>\n    </tr>\n    <tr>\n      <th>2</th>\n      <td>27</td>\n      <td>81</td>\n      <td>0.713542</td>\n      <td>5.118490</td>\n      <td>0.669270</td>\n    </tr>\n    <tr>\n      <th>3</th>\n      <td>28</td>\n      <td>24</td>\n      <td>0.420765</td>\n      <td>12.027322</td>\n      <td>0.409113</td>\n    </tr>\n    <tr>\n      <th>4</th>\n      <td>36</td>\n      <td>37</td>\n      <td>0.640523</td>\n      <td>9.849673</td>\n      <td>0.708076</td>\n    </tr>\n    <tr>\n      <th>...</th>\n      <td>...</td>\n      <td>...</td>\n      <td>...</td>\n      <td>...</td>\n      <td>...</td>\n    </tr>\n    <tr>\n      <th>40138</th>\n      <td>206187</td>\n      <td>34</td>\n      <td>0.747126</td>\n      <td>9.528736</td>\n      <td>0.772777</td>\n    </tr>\n    <tr>\n      <th>40139</th>\n      <td>206193</td>\n      <td>41</td>\n      <td>0.527697</td>\n      <td>4.457726</td>\n      <td>0.610809</td>\n    </tr>\n    <tr>\n      <th>40140</th>\n      <td>206201</td>\n      <td>32</td>\n      <td>0.569307</td>\n      <td>11.413366</td>\n      <td>0.603936</td>\n    </tr>\n    <tr>\n      <th>40141</th>\n      <td>206206</td>\n      <td>67</td>\n      <td>0.473684</td>\n      <td>3.985965</td>\n      <td>0.570676</td>\n    </tr>\n    <tr>\n      <th>40142</th>\n      <td>206208</td>\n      <td>49</td>\n      <td>0.707533</td>\n      <td>7.310192</td>\n      <td>0.700368</td>\n    </tr>\n  </tbody>\n</table>\n<p>40143 rows × 5 columns</p>\n</div>"
     },
     "metadata": {},
     "execution_count": 9
    }
   ],
   "source": [
    "user = user_total_orders.merge(user_reorder, on='user_id', how='left')\n",
    "user = user.merge(user_last_order, on='user_id', how='left')\n",
    "user = user.merge(average_reorder, on='user_id', how='left')\n",
    "\n",
    "del user_reorder\n",
    "del user_last_order\n",
    "del average_reorder\n",
    "\n",
    "gc.collect()\n",
    "\n",
    "user"
   ]
  },
  {
   "cell_type": "code",
   "execution_count": 10,
   "metadata": {},
   "outputs": [
    {
     "output_type": "stream",
     "name": "stderr",
     "text": [
      "100%|██████████| 48128/48128 [00:40<00:00, 1192.26it/s]\n"
     ]
    },
    {
     "output_type": "execute_result",
     "data": {
      "text/plain": [
       "   product_id  total_purchase\n",
       "0           1            1023\n",
       "1           2              51\n",
       "2           3             179\n",
       "3           4             105\n",
       "4           5               9"
      ],
      "text/html": "<div>\n<style scoped>\n    .dataframe tbody tr th:only-of-type {\n        vertical-align: middle;\n    }\n\n    .dataframe tbody tr th {\n        vertical-align: top;\n    }\n\n    .dataframe thead th {\n        text-align: right;\n    }\n</style>\n<table border=\"1\" class=\"dataframe\">\n  <thead>\n    <tr style=\"text-align: right;\">\n      <th></th>\n      <th>product_id</th>\n      <th>total_purchase</th>\n    </tr>\n  </thead>\n  <tbody>\n    <tr>\n      <th>0</th>\n      <td>1</td>\n      <td>1023</td>\n    </tr>\n    <tr>\n      <th>1</th>\n      <td>2</td>\n      <td>51</td>\n    </tr>\n    <tr>\n      <th>2</th>\n      <td>3</td>\n      <td>179</td>\n    </tr>\n    <tr>\n      <th>3</th>\n      <td>4</td>\n      <td>105</td>\n    </tr>\n    <tr>\n      <th>4</th>\n      <td>5</td>\n      <td>9</td>\n    </tr>\n  </tbody>\n</table>\n</div>"
     },
     "metadata": {},
     "execution_count": 10
    }
   ],
   "source": [
    "# get product predictor\n",
    "# total time of purchase of one product\n",
    "product_total_purchase = order_product.groupby('product_id').progress_apply(lambda x: pd.Series({'total_purchase': len(x['order_id'])})).reset_index()\n",
    "product_total_purchase.head()"
   ]
  },
  {
   "cell_type": "code",
   "execution_count": 11,
   "metadata": {},
   "outputs": [
    {
     "output_type": "stream",
     "name": "stderr",
     "text": [
      "100%|██████████| 48128/48128 [00:56<00:00, 847.31it/s] \n"
     ]
    },
    {
     "output_type": "execute_result",
     "data": {
      "text/plain": [
       "   product_id  reorder_prob\n",
       "0           1      0.740958\n",
       "1           2      0.176471\n",
       "2           3      0.837989\n",
       "3           4      0.561905\n",
       "4           5      0.777778"
      ],
      "text/html": "<div>\n<style scoped>\n    .dataframe tbody tr th:only-of-type {\n        vertical-align: middle;\n    }\n\n    .dataframe tbody tr th {\n        vertical-align: top;\n    }\n\n    .dataframe thead th {\n        text-align: right;\n    }\n</style>\n<table border=\"1\" class=\"dataframe\">\n  <thead>\n    <tr style=\"text-align: right;\">\n      <th></th>\n      <th>product_id</th>\n      <th>reorder_prob</th>\n    </tr>\n  </thead>\n  <tbody>\n    <tr>\n      <th>0</th>\n      <td>1</td>\n      <td>0.740958</td>\n    </tr>\n    <tr>\n      <th>1</th>\n      <td>2</td>\n      <td>0.176471</td>\n    </tr>\n    <tr>\n      <th>2</th>\n      <td>3</td>\n      <td>0.837989</td>\n    </tr>\n    <tr>\n      <th>3</th>\n      <td>4</td>\n      <td>0.561905</td>\n    </tr>\n    <tr>\n      <th>4</th>\n      <td>5</td>\n      <td>0.777778</td>\n    </tr>\n  </tbody>\n</table>\n</div>"
     },
     "metadata": {},
     "execution_count": 11
    }
   ],
   "source": [
    "# the probability that a product get reorder\n",
    "# p_reorder = order_product.groupby('product_id').filter(lambda x: x.shape[0] > 40)\n",
    "\n",
    "product_reorder_ratio = order_product.groupby('product_id').progress_apply(lambda x: pd.Series({'reorder_prob': statistics.mean(x['reordered'])})).reset_index()\n",
    "product_reorder_ratio.head()"
   ]
  },
  {
   "cell_type": "code",
   "execution_count": 12,
   "metadata": {},
   "outputs": [
    {
     "output_type": "execute_result",
     "data": {
      "text/plain": [
       "   product_id  total_purchase  reorder_prob\n",
       "0           1            1023      0.740958\n",
       "1           2              51      0.176471\n",
       "2           3             179      0.837989\n",
       "3           4             105      0.561905\n",
       "4           5               9      0.777778"
      ],
      "text/html": "<div>\n<style scoped>\n    .dataframe tbody tr th:only-of-type {\n        vertical-align: middle;\n    }\n\n    .dataframe tbody tr th {\n        vertical-align: top;\n    }\n\n    .dataframe thead th {\n        text-align: right;\n    }\n</style>\n<table border=\"1\" class=\"dataframe\">\n  <thead>\n    <tr style=\"text-align: right;\">\n      <th></th>\n      <th>product_id</th>\n      <th>total_purchase</th>\n      <th>reorder_prob</th>\n    </tr>\n  </thead>\n  <tbody>\n    <tr>\n      <th>0</th>\n      <td>1</td>\n      <td>1023</td>\n      <td>0.740958</td>\n    </tr>\n    <tr>\n      <th>1</th>\n      <td>2</td>\n      <td>51</td>\n      <td>0.176471</td>\n    </tr>\n    <tr>\n      <th>2</th>\n      <td>3</td>\n      <td>179</td>\n      <td>0.837989</td>\n    </tr>\n    <tr>\n      <th>3</th>\n      <td>4</td>\n      <td>105</td>\n      <td>0.561905</td>\n    </tr>\n    <tr>\n      <th>4</th>\n      <td>5</td>\n      <td>9</td>\n      <td>0.777778</td>\n    </tr>\n  </tbody>\n</table>\n</div>"
     },
     "metadata": {},
     "execution_count": 12
    }
   ],
   "source": [
    "product = product_total_purchase.merge(product_reorder_ratio, on='product_id', how='left')\n",
    "\n",
    "del product_reorder_ratio\n",
    "del product_total_purchase\n",
    "\n",
    "gc.collect()\n",
    "\n",
    "product.head()"
   ]
  },
  {
   "cell_type": "code",
   "execution_count": 13,
   "metadata": {},
   "outputs": [
    {
     "output_type": "execute_result",
     "data": {
      "text/plain": [
       "   user_id  product_id  total_bought\n",
       "0       17         812             1\n",
       "1       17        1073             2\n",
       "2       17        1774             5\n",
       "3       17        2927             3\n",
       "4       17        4591             1"
      ],
      "text/html": "<div>\n<style scoped>\n    .dataframe tbody tr th:only-of-type {\n        vertical-align: middle;\n    }\n\n    .dataframe tbody tr th {\n        vertical-align: top;\n    }\n\n    .dataframe thead th {\n        text-align: right;\n    }\n</style>\n<table border=\"1\" class=\"dataframe\">\n  <thead>\n    <tr style=\"text-align: right;\">\n      <th></th>\n      <th>user_id</th>\n      <th>product_id</th>\n      <th>total_bought</th>\n    </tr>\n  </thead>\n  <tbody>\n    <tr>\n      <th>0</th>\n      <td>17</td>\n      <td>812</td>\n      <td>1</td>\n    </tr>\n    <tr>\n      <th>1</th>\n      <td>17</td>\n      <td>1073</td>\n      <td>2</td>\n    </tr>\n    <tr>\n      <th>2</th>\n      <td>17</td>\n      <td>1774</td>\n      <td>5</td>\n    </tr>\n    <tr>\n      <th>3</th>\n      <td>17</td>\n      <td>2927</td>\n      <td>3</td>\n    </tr>\n    <tr>\n      <th>4</th>\n      <td>17</td>\n      <td>4591</td>\n      <td>1</td>\n    </tr>\n  </tbody>\n</table>\n</div>"
     },
     "metadata": {},
     "execution_count": 13
    }
   ],
   "source": [
    "total_bought = order_product.groupby(['user_id', 'product_id'])['order_id'].count().to_frame('total_bought').reset_index()\n",
    "\n",
    "total_bought.head()"
   ]
  },
  {
   "source": [
    "### Preparing training dataset"
   ],
   "cell_type": "markdown",
   "metadata": {}
  },
  {
   "cell_type": "code",
   "execution_count": 14,
   "metadata": {},
   "outputs": [
    {
     "output_type": "execute_result",
     "data": {
      "text/plain": [
       "         user_id  product_id  total_bought  total_orders  reorder_ratio  \\\n",
       "0             17         812             1            40       0.717687   \n",
       "1             17        1073             2            40       0.717687   \n",
       "2             17        1774             5            40       0.717687   \n",
       "3             17        2927             3            40       0.717687   \n",
       "4             17        4591             1            40       0.717687   \n",
       "...          ...         ...           ...           ...            ...   \n",
       "5265943   206208       48364             1            49       0.707533   \n",
       "5265944   206208       48865             1            49       0.707533   \n",
       "5265945   206208       49247             1            49       0.707533   \n",
       "5265946   206208       49385             1            49       0.707533   \n",
       "5265947   206208       49621             1            49       0.707533   \n",
       "\n",
       "         avg_day_since_last_reorder  reorder_item_ratio_per_order  \\\n",
       "0                          8.183673                      0.722594   \n",
       "1                          8.183673                      0.722594   \n",
       "2                          8.183673                      0.722594   \n",
       "3                          8.183673                      0.722594   \n",
       "4                          8.183673                      0.722594   \n",
       "...                             ...                           ...   \n",
       "5265943                    7.310192                      0.700368   \n",
       "5265944                    7.310192                      0.700368   \n",
       "5265945                    7.310192                      0.700368   \n",
       "5265946                    7.310192                      0.700368   \n",
       "5265947                    7.310192                      0.700368   \n",
       "\n",
       "         total_purchase  reorder_prob  \n",
       "0                  2110      0.616588  \n",
       "1                   309      0.689320  \n",
       "2                   639      0.627543  \n",
       "3                    84      0.404762  \n",
       "4                   989      0.534884  \n",
       "...                 ...           ...  \n",
       "5265943           10824      0.660200  \n",
       "5265944             418      0.471292  \n",
       "5265945            3386      0.750443  \n",
       "5265946             178      0.241573  \n",
       "5265947            3026      0.733972  \n",
       "\n",
       "[5265948 rows x 9 columns]"
      ],
      "text/html": "<div>\n<style scoped>\n    .dataframe tbody tr th:only-of-type {\n        vertical-align: middle;\n    }\n\n    .dataframe tbody tr th {\n        vertical-align: top;\n    }\n\n    .dataframe thead th {\n        text-align: right;\n    }\n</style>\n<table border=\"1\" class=\"dataframe\">\n  <thead>\n    <tr style=\"text-align: right;\">\n      <th></th>\n      <th>user_id</th>\n      <th>product_id</th>\n      <th>total_bought</th>\n      <th>total_orders</th>\n      <th>reorder_ratio</th>\n      <th>avg_day_since_last_reorder</th>\n      <th>reorder_item_ratio_per_order</th>\n      <th>total_purchase</th>\n      <th>reorder_prob</th>\n    </tr>\n  </thead>\n  <tbody>\n    <tr>\n      <th>0</th>\n      <td>17</td>\n      <td>812</td>\n      <td>1</td>\n      <td>40</td>\n      <td>0.717687</td>\n      <td>8.183673</td>\n      <td>0.722594</td>\n      <td>2110</td>\n      <td>0.616588</td>\n    </tr>\n    <tr>\n      <th>1</th>\n      <td>17</td>\n      <td>1073</td>\n      <td>2</td>\n      <td>40</td>\n      <td>0.717687</td>\n      <td>8.183673</td>\n      <td>0.722594</td>\n      <td>309</td>\n      <td>0.689320</td>\n    </tr>\n    <tr>\n      <th>2</th>\n      <td>17</td>\n      <td>1774</td>\n      <td>5</td>\n      <td>40</td>\n      <td>0.717687</td>\n      <td>8.183673</td>\n      <td>0.722594</td>\n      <td>639</td>\n      <td>0.627543</td>\n    </tr>\n    <tr>\n      <th>3</th>\n      <td>17</td>\n      <td>2927</td>\n      <td>3</td>\n      <td>40</td>\n      <td>0.717687</td>\n      <td>8.183673</td>\n      <td>0.722594</td>\n      <td>84</td>\n      <td>0.404762</td>\n    </tr>\n    <tr>\n      <th>4</th>\n      <td>17</td>\n      <td>4591</td>\n      <td>1</td>\n      <td>40</td>\n      <td>0.717687</td>\n      <td>8.183673</td>\n      <td>0.722594</td>\n      <td>989</td>\n      <td>0.534884</td>\n    </tr>\n    <tr>\n      <th>...</th>\n      <td>...</td>\n      <td>...</td>\n      <td>...</td>\n      <td>...</td>\n      <td>...</td>\n      <td>...</td>\n      <td>...</td>\n      <td>...</td>\n      <td>...</td>\n    </tr>\n    <tr>\n      <th>5265943</th>\n      <td>206208</td>\n      <td>48364</td>\n      <td>1</td>\n      <td>49</td>\n      <td>0.707533</td>\n      <td>7.310192</td>\n      <td>0.700368</td>\n      <td>10824</td>\n      <td>0.660200</td>\n    </tr>\n    <tr>\n      <th>5265944</th>\n      <td>206208</td>\n      <td>48865</td>\n      <td>1</td>\n      <td>49</td>\n      <td>0.707533</td>\n      <td>7.310192</td>\n      <td>0.700368</td>\n      <td>418</td>\n      <td>0.471292</td>\n    </tr>\n    <tr>\n      <th>5265945</th>\n      <td>206208</td>\n      <td>49247</td>\n      <td>1</td>\n      <td>49</td>\n      <td>0.707533</td>\n      <td>7.310192</td>\n      <td>0.700368</td>\n      <td>3386</td>\n      <td>0.750443</td>\n    </tr>\n    <tr>\n      <th>5265946</th>\n      <td>206208</td>\n      <td>49385</td>\n      <td>1</td>\n      <td>49</td>\n      <td>0.707533</td>\n      <td>7.310192</td>\n      <td>0.700368</td>\n      <td>178</td>\n      <td>0.241573</td>\n    </tr>\n    <tr>\n      <th>5265947</th>\n      <td>206208</td>\n      <td>49621</td>\n      <td>1</td>\n      <td>49</td>\n      <td>0.707533</td>\n      <td>7.310192</td>\n      <td>0.700368</td>\n      <td>3026</td>\n      <td>0.733972</td>\n    </tr>\n  </tbody>\n</table>\n<p>5265948 rows × 9 columns</p>\n</div>"
     },
     "metadata": {},
     "execution_count": 14
    }
   ],
   "source": [
    "data = total_bought.merge(user, on='user_id', how='left')\n",
    "data = data.merge(product, on='product_id', how='left')\n",
    "\n",
    "del user\n",
    "del product\n",
    "del total_bought\n",
    "\n",
    "gc.collect()\n",
    "\n",
    "data['reorder_prob'] = data['reorder_prob'].fillna(0)\n",
    "data"
   ]
  },
  {
   "cell_type": "code",
   "execution_count": 15,
   "metadata": {},
   "outputs": [
    {
     "output_type": "execute_result",
     "data": {
      "text/plain": [
       "    user_id eval_set  order_id\n",
       "10        1    train   1187899\n",
       "25        2    train   1492625\n",
       "38        3     test   2774568\n",
       "44        4     test    329954\n",
       "49        5    train   2196797\n",
       "53        6     test   1528013\n",
       "74        7    train    525192\n",
       "78        8    train    880375\n",
       "82        9    train   1094988\n",
       "88       10    train   1822501"
      ],
      "text/html": "<div>\n<style scoped>\n    .dataframe tbody tr th:only-of-type {\n        vertical-align: middle;\n    }\n\n    .dataframe tbody tr th {\n        vertical-align: top;\n    }\n\n    .dataframe thead th {\n        text-align: right;\n    }\n</style>\n<table border=\"1\" class=\"dataframe\">\n  <thead>\n    <tr style=\"text-align: right;\">\n      <th></th>\n      <th>user_id</th>\n      <th>eval_set</th>\n      <th>order_id</th>\n    </tr>\n  </thead>\n  <tbody>\n    <tr>\n      <th>10</th>\n      <td>1</td>\n      <td>train</td>\n      <td>1187899</td>\n    </tr>\n    <tr>\n      <th>25</th>\n      <td>2</td>\n      <td>train</td>\n      <td>1492625</td>\n    </tr>\n    <tr>\n      <th>38</th>\n      <td>3</td>\n      <td>test</td>\n      <td>2774568</td>\n    </tr>\n    <tr>\n      <th>44</th>\n      <td>4</td>\n      <td>test</td>\n      <td>329954</td>\n    </tr>\n    <tr>\n      <th>49</th>\n      <td>5</td>\n      <td>train</td>\n      <td>2196797</td>\n    </tr>\n    <tr>\n      <th>53</th>\n      <td>6</td>\n      <td>test</td>\n      <td>1528013</td>\n    </tr>\n    <tr>\n      <th>74</th>\n      <td>7</td>\n      <td>train</td>\n      <td>525192</td>\n    </tr>\n    <tr>\n      <th>78</th>\n      <td>8</td>\n      <td>train</td>\n      <td>880375</td>\n    </tr>\n    <tr>\n      <th>82</th>\n      <td>9</td>\n      <td>train</td>\n      <td>1094988</td>\n    </tr>\n    <tr>\n      <th>88</th>\n      <td>10</td>\n      <td>train</td>\n      <td>1822501</td>\n    </tr>\n  </tbody>\n</table>\n</div>"
     },
     "metadata": {},
     "execution_count": 15
    }
   ],
   "source": [
    "orders_future = orders[((orders.eval_set=='train') | (orders.eval_set=='test'))]\n",
    "orders_future = orders_future[ ['user_id', 'eval_set', 'order_id'] ]\n",
    "orders_future.head(10)"
   ]
  },
  {
   "cell_type": "code",
   "execution_count": 16,
   "metadata": {},
   "outputs": [
    {
     "output_type": "execute_result",
     "data": {
      "text/plain": [
       "   user_id  product_id  total_bought  total_orders  reorder_ratio  \\\n",
       "0       17         812             1            40       0.717687   \n",
       "1       17        1073             2            40       0.717687   \n",
       "2       17        1774             5            40       0.717687   \n",
       "3       17        2927             3            40       0.717687   \n",
       "4       17        4591             1            40       0.717687   \n",
       "5       17        5077             1            40       0.717687   \n",
       "6       17        5128             5            40       0.717687   \n",
       "7       17        5748             1            40       0.717687   \n",
       "8       17        6212             3            40       0.717687   \n",
       "9       17        6334             2            40       0.717687   \n",
       "\n",
       "   avg_day_since_last_reorder  reorder_item_ratio_per_order  total_purchase  \\\n",
       "0                    8.183673                      0.722594            2110   \n",
       "1                    8.183673                      0.722594             309   \n",
       "2                    8.183673                      0.722594             639   \n",
       "3                    8.183673                      0.722594              84   \n",
       "4                    8.183673                      0.722594             989   \n",
       "5                    8.183673                      0.722594           33629   \n",
       "6                    8.183673                      0.722594             540   \n",
       "7                    8.183673                      0.722594            1093   \n",
       "8                    8.183673                      0.722594             128   \n",
       "9                    8.183673                      0.722594             115   \n",
       "\n",
       "   reorder_prob eval_set  order_id  \n",
       "0      0.616588    train   2180313  \n",
       "1      0.689320    train   2180313  \n",
       "2      0.627543    train   2180313  \n",
       "3      0.404762    train   2180313  \n",
       "4      0.534884    train   2180313  \n",
       "5      0.850902    train   2180313  \n",
       "6      0.707407    train   2180313  \n",
       "7      0.639524    train   2180313  \n",
       "8      0.695312    train   2180313  \n",
       "9      0.704348    train   2180313  "
      ],
      "text/html": "<div>\n<style scoped>\n    .dataframe tbody tr th:only-of-type {\n        vertical-align: middle;\n    }\n\n    .dataframe tbody tr th {\n        vertical-align: top;\n    }\n\n    .dataframe thead th {\n        text-align: right;\n    }\n</style>\n<table border=\"1\" class=\"dataframe\">\n  <thead>\n    <tr style=\"text-align: right;\">\n      <th></th>\n      <th>user_id</th>\n      <th>product_id</th>\n      <th>total_bought</th>\n      <th>total_orders</th>\n      <th>reorder_ratio</th>\n      <th>avg_day_since_last_reorder</th>\n      <th>reorder_item_ratio_per_order</th>\n      <th>total_purchase</th>\n      <th>reorder_prob</th>\n      <th>eval_set</th>\n      <th>order_id</th>\n    </tr>\n  </thead>\n  <tbody>\n    <tr>\n      <th>0</th>\n      <td>17</td>\n      <td>812</td>\n      <td>1</td>\n      <td>40</td>\n      <td>0.717687</td>\n      <td>8.183673</td>\n      <td>0.722594</td>\n      <td>2110</td>\n      <td>0.616588</td>\n      <td>train</td>\n      <td>2180313</td>\n    </tr>\n    <tr>\n      <th>1</th>\n      <td>17</td>\n      <td>1073</td>\n      <td>2</td>\n      <td>40</td>\n      <td>0.717687</td>\n      <td>8.183673</td>\n      <td>0.722594</td>\n      <td>309</td>\n      <td>0.689320</td>\n      <td>train</td>\n      <td>2180313</td>\n    </tr>\n    <tr>\n      <th>2</th>\n      <td>17</td>\n      <td>1774</td>\n      <td>5</td>\n      <td>40</td>\n      <td>0.717687</td>\n      <td>8.183673</td>\n      <td>0.722594</td>\n      <td>639</td>\n      <td>0.627543</td>\n      <td>train</td>\n      <td>2180313</td>\n    </tr>\n    <tr>\n      <th>3</th>\n      <td>17</td>\n      <td>2927</td>\n      <td>3</td>\n      <td>40</td>\n      <td>0.717687</td>\n      <td>8.183673</td>\n      <td>0.722594</td>\n      <td>84</td>\n      <td>0.404762</td>\n      <td>train</td>\n      <td>2180313</td>\n    </tr>\n    <tr>\n      <th>4</th>\n      <td>17</td>\n      <td>4591</td>\n      <td>1</td>\n      <td>40</td>\n      <td>0.717687</td>\n      <td>8.183673</td>\n      <td>0.722594</td>\n      <td>989</td>\n      <td>0.534884</td>\n      <td>train</td>\n      <td>2180313</td>\n    </tr>\n    <tr>\n      <th>5</th>\n      <td>17</td>\n      <td>5077</td>\n      <td>1</td>\n      <td>40</td>\n      <td>0.717687</td>\n      <td>8.183673</td>\n      <td>0.722594</td>\n      <td>33629</td>\n      <td>0.850902</td>\n      <td>train</td>\n      <td>2180313</td>\n    </tr>\n    <tr>\n      <th>6</th>\n      <td>17</td>\n      <td>5128</td>\n      <td>5</td>\n      <td>40</td>\n      <td>0.717687</td>\n      <td>8.183673</td>\n      <td>0.722594</td>\n      <td>540</td>\n      <td>0.707407</td>\n      <td>train</td>\n      <td>2180313</td>\n    </tr>\n    <tr>\n      <th>7</th>\n      <td>17</td>\n      <td>5748</td>\n      <td>1</td>\n      <td>40</td>\n      <td>0.717687</td>\n      <td>8.183673</td>\n      <td>0.722594</td>\n      <td>1093</td>\n      <td>0.639524</td>\n      <td>train</td>\n      <td>2180313</td>\n    </tr>\n    <tr>\n      <th>8</th>\n      <td>17</td>\n      <td>6212</td>\n      <td>3</td>\n      <td>40</td>\n      <td>0.717687</td>\n      <td>8.183673</td>\n      <td>0.722594</td>\n      <td>128</td>\n      <td>0.695312</td>\n      <td>train</td>\n      <td>2180313</td>\n    </tr>\n    <tr>\n      <th>9</th>\n      <td>17</td>\n      <td>6334</td>\n      <td>2</td>\n      <td>40</td>\n      <td>0.717687</td>\n      <td>8.183673</td>\n      <td>0.722594</td>\n      <td>115</td>\n      <td>0.704348</td>\n      <td>train</td>\n      <td>2180313</td>\n    </tr>\n  </tbody>\n</table>\n</div>"
     },
     "metadata": {},
     "execution_count": 16
    }
   ],
   "source": [
    "data = data.merge(orders_future, on='user_id', how='left')\n",
    "data.head(10)"
   ]
  },
  {
   "cell_type": "code",
   "execution_count": 17,
   "metadata": {},
   "outputs": [
    {
     "output_type": "execute_result",
     "data": {
      "text/plain": [
       "   user_id  product_id  total_bought  total_orders  reorder_ratio  \\\n",
       "0       17         812             1            40       0.717687   \n",
       "1       17        1073             2            40       0.717687   \n",
       "2       17        1774             5            40       0.717687   \n",
       "3       17        2927             3            40       0.717687   \n",
       "4       17        4591             1            40       0.717687   \n",
       "\n",
       "   avg_day_since_last_reorder  reorder_item_ratio_per_order  total_purchase  \\\n",
       "0                    8.183673                      0.722594            2110   \n",
       "1                    8.183673                      0.722594             309   \n",
       "2                    8.183673                      0.722594             639   \n",
       "3                    8.183673                      0.722594              84   \n",
       "4                    8.183673                      0.722594             989   \n",
       "\n",
       "   reorder_prob eval_set  order_id  \n",
       "0      0.616588    train   2180313  \n",
       "1      0.689320    train   2180313  \n",
       "2      0.627543    train   2180313  \n",
       "3      0.404762    train   2180313  \n",
       "4      0.534884    train   2180313  "
      ],
      "text/html": "<div>\n<style scoped>\n    .dataframe tbody tr th:only-of-type {\n        vertical-align: middle;\n    }\n\n    .dataframe tbody tr th {\n        vertical-align: top;\n    }\n\n    .dataframe thead th {\n        text-align: right;\n    }\n</style>\n<table border=\"1\" class=\"dataframe\">\n  <thead>\n    <tr style=\"text-align: right;\">\n      <th></th>\n      <th>user_id</th>\n      <th>product_id</th>\n      <th>total_bought</th>\n      <th>total_orders</th>\n      <th>reorder_ratio</th>\n      <th>avg_day_since_last_reorder</th>\n      <th>reorder_item_ratio_per_order</th>\n      <th>total_purchase</th>\n      <th>reorder_prob</th>\n      <th>eval_set</th>\n      <th>order_id</th>\n    </tr>\n  </thead>\n  <tbody>\n    <tr>\n      <th>0</th>\n      <td>17</td>\n      <td>812</td>\n      <td>1</td>\n      <td>40</td>\n      <td>0.717687</td>\n      <td>8.183673</td>\n      <td>0.722594</td>\n      <td>2110</td>\n      <td>0.616588</td>\n      <td>train</td>\n      <td>2180313</td>\n    </tr>\n    <tr>\n      <th>1</th>\n      <td>17</td>\n      <td>1073</td>\n      <td>2</td>\n      <td>40</td>\n      <td>0.717687</td>\n      <td>8.183673</td>\n      <td>0.722594</td>\n      <td>309</td>\n      <td>0.689320</td>\n      <td>train</td>\n      <td>2180313</td>\n    </tr>\n    <tr>\n      <th>2</th>\n      <td>17</td>\n      <td>1774</td>\n      <td>5</td>\n      <td>40</td>\n      <td>0.717687</td>\n      <td>8.183673</td>\n      <td>0.722594</td>\n      <td>639</td>\n      <td>0.627543</td>\n      <td>train</td>\n      <td>2180313</td>\n    </tr>\n    <tr>\n      <th>3</th>\n      <td>17</td>\n      <td>2927</td>\n      <td>3</td>\n      <td>40</td>\n      <td>0.717687</td>\n      <td>8.183673</td>\n      <td>0.722594</td>\n      <td>84</td>\n      <td>0.404762</td>\n      <td>train</td>\n      <td>2180313</td>\n    </tr>\n    <tr>\n      <th>4</th>\n      <td>17</td>\n      <td>4591</td>\n      <td>1</td>\n      <td>40</td>\n      <td>0.717687</td>\n      <td>8.183673</td>\n      <td>0.722594</td>\n      <td>989</td>\n      <td>0.534884</td>\n      <td>train</td>\n      <td>2180313</td>\n    </tr>\n  </tbody>\n</table>\n</div>"
     },
     "metadata": {},
     "execution_count": 17
    }
   ],
   "source": [
    "data_train = data[data.eval_set=='train']\n",
    "data_train.head()"
   ]
  },
  {
   "cell_type": "code",
   "execution_count": 18,
   "metadata": {},
   "outputs": [
    {
     "output_type": "execute_result",
     "data": {
      "text/plain": [
       "   user_id  product_id  total_bought  total_orders  reorder_ratio  \\\n",
       "0       17         812             1            40       0.717687   \n",
       "1       17        1073             2            40       0.717687   \n",
       "2       17        1774             5            40       0.717687   \n",
       "3       17        2927             3            40       0.717687   \n",
       "4       17        4591             1            40       0.717687   \n",
       "\n",
       "   avg_day_since_last_reorder  reorder_item_ratio_per_order  total_purchase  \\\n",
       "0                    8.183673                      0.722594            2110   \n",
       "1                    8.183673                      0.722594             309   \n",
       "2                    8.183673                      0.722594             639   \n",
       "3                    8.183673                      0.722594              84   \n",
       "4                    8.183673                      0.722594             989   \n",
       "\n",
       "   reorder_prob eval_set  order_id  reordered  \n",
       "0      0.616588    train   2180313        NaN  \n",
       "1      0.689320    train   2180313        NaN  \n",
       "2      0.627543    train   2180313        NaN  \n",
       "3      0.404762    train   2180313        NaN  \n",
       "4      0.534884    train   2180313        NaN  "
      ],
      "text/html": "<div>\n<style scoped>\n    .dataframe tbody tr th:only-of-type {\n        vertical-align: middle;\n    }\n\n    .dataframe tbody tr th {\n        vertical-align: top;\n    }\n\n    .dataframe thead th {\n        text-align: right;\n    }\n</style>\n<table border=\"1\" class=\"dataframe\">\n  <thead>\n    <tr style=\"text-align: right;\">\n      <th></th>\n      <th>user_id</th>\n      <th>product_id</th>\n      <th>total_bought</th>\n      <th>total_orders</th>\n      <th>reorder_ratio</th>\n      <th>avg_day_since_last_reorder</th>\n      <th>reorder_item_ratio_per_order</th>\n      <th>total_purchase</th>\n      <th>reorder_prob</th>\n      <th>eval_set</th>\n      <th>order_id</th>\n      <th>reordered</th>\n    </tr>\n  </thead>\n  <tbody>\n    <tr>\n      <th>0</th>\n      <td>17</td>\n      <td>812</td>\n      <td>1</td>\n      <td>40</td>\n      <td>0.717687</td>\n      <td>8.183673</td>\n      <td>0.722594</td>\n      <td>2110</td>\n      <td>0.616588</td>\n      <td>train</td>\n      <td>2180313</td>\n      <td>NaN</td>\n    </tr>\n    <tr>\n      <th>1</th>\n      <td>17</td>\n      <td>1073</td>\n      <td>2</td>\n      <td>40</td>\n      <td>0.717687</td>\n      <td>8.183673</td>\n      <td>0.722594</td>\n      <td>309</td>\n      <td>0.689320</td>\n      <td>train</td>\n      <td>2180313</td>\n      <td>NaN</td>\n    </tr>\n    <tr>\n      <th>2</th>\n      <td>17</td>\n      <td>1774</td>\n      <td>5</td>\n      <td>40</td>\n      <td>0.717687</td>\n      <td>8.183673</td>\n      <td>0.722594</td>\n      <td>639</td>\n      <td>0.627543</td>\n      <td>train</td>\n      <td>2180313</td>\n      <td>NaN</td>\n    </tr>\n    <tr>\n      <th>3</th>\n      <td>17</td>\n      <td>2927</td>\n      <td>3</td>\n      <td>40</td>\n      <td>0.717687</td>\n      <td>8.183673</td>\n      <td>0.722594</td>\n      <td>84</td>\n      <td>0.404762</td>\n      <td>train</td>\n      <td>2180313</td>\n      <td>NaN</td>\n    </tr>\n    <tr>\n      <th>4</th>\n      <td>17</td>\n      <td>4591</td>\n      <td>1</td>\n      <td>40</td>\n      <td>0.717687</td>\n      <td>8.183673</td>\n      <td>0.722594</td>\n      <td>989</td>\n      <td>0.534884</td>\n      <td>train</td>\n      <td>2180313</td>\n      <td>NaN</td>\n    </tr>\n  </tbody>\n</table>\n</div>"
     },
     "metadata": {},
     "execution_count": 18
    }
   ],
   "source": [
    "data_train = data_train.merge(order_products_train[['product_id','order_id', 'reordered']], on=['product_id','order_id'],how='left' )\n",
    "\n",
    "data_train.head()"
   ]
  },
  {
   "cell_type": "code",
   "execution_count": 19,
   "metadata": {},
   "outputs": [],
   "source": [
    "data_train['reordered'] = data_train['reordered'].fillna(0)\n",
    "data_train = data_train.set_index(['user_id', 'product_id'])"
   ]
  },
  {
   "cell_type": "code",
   "execution_count": 20,
   "metadata": {},
   "outputs": [
    {
     "output_type": "execute_result",
     "data": {
      "text/plain": [
       "                    total_bought  total_orders  reorder_ratio  \\\n",
       "user_id product_id                                              \n",
       "17      812                    1            40       0.717687   \n",
       "        1073                   2            40       0.717687   \n",
       "        1774                   5            40       0.717687   \n",
       "        2927                   3            40       0.717687   \n",
       "        4591                   1            40       0.717687   \n",
       "\n",
       "                    avg_day_since_last_reorder  reorder_item_ratio_per_order  \\\n",
       "user_id product_id                                                             \n",
       "17      812                           8.183673                      0.722594   \n",
       "        1073                          8.183673                      0.722594   \n",
       "        1774                          8.183673                      0.722594   \n",
       "        2927                          8.183673                      0.722594   \n",
       "        4591                          8.183673                      0.722594   \n",
       "\n",
       "                    total_purchase  reorder_prob  reordered  \n",
       "user_id product_id                                           \n",
       "17      812                   2110      0.616588        0.0  \n",
       "        1073                   309      0.689320        0.0  \n",
       "        1774                   639      0.627543        0.0  \n",
       "        2927                    84      0.404762        0.0  \n",
       "        4591                   989      0.534884        0.0  "
      ],
      "text/html": "<div>\n<style scoped>\n    .dataframe tbody tr th:only-of-type {\n        vertical-align: middle;\n    }\n\n    .dataframe tbody tr th {\n        vertical-align: top;\n    }\n\n    .dataframe thead th {\n        text-align: right;\n    }\n</style>\n<table border=\"1\" class=\"dataframe\">\n  <thead>\n    <tr style=\"text-align: right;\">\n      <th></th>\n      <th></th>\n      <th>total_bought</th>\n      <th>total_orders</th>\n      <th>reorder_ratio</th>\n      <th>avg_day_since_last_reorder</th>\n      <th>reorder_item_ratio_per_order</th>\n      <th>total_purchase</th>\n      <th>reorder_prob</th>\n      <th>reordered</th>\n    </tr>\n    <tr>\n      <th>user_id</th>\n      <th>product_id</th>\n      <th></th>\n      <th></th>\n      <th></th>\n      <th></th>\n      <th></th>\n      <th></th>\n      <th></th>\n      <th></th>\n    </tr>\n  </thead>\n  <tbody>\n    <tr>\n      <th rowspan=\"5\" valign=\"top\">17</th>\n      <th>812</th>\n      <td>1</td>\n      <td>40</td>\n      <td>0.717687</td>\n      <td>8.183673</td>\n      <td>0.722594</td>\n      <td>2110</td>\n      <td>0.616588</td>\n      <td>0.0</td>\n    </tr>\n    <tr>\n      <th>1073</th>\n      <td>2</td>\n      <td>40</td>\n      <td>0.717687</td>\n      <td>8.183673</td>\n      <td>0.722594</td>\n      <td>309</td>\n      <td>0.689320</td>\n      <td>0.0</td>\n    </tr>\n    <tr>\n      <th>1774</th>\n      <td>5</td>\n      <td>40</td>\n      <td>0.717687</td>\n      <td>8.183673</td>\n      <td>0.722594</td>\n      <td>639</td>\n      <td>0.627543</td>\n      <td>0.0</td>\n    </tr>\n    <tr>\n      <th>2927</th>\n      <td>3</td>\n      <td>40</td>\n      <td>0.717687</td>\n      <td>8.183673</td>\n      <td>0.722594</td>\n      <td>84</td>\n      <td>0.404762</td>\n      <td>0.0</td>\n    </tr>\n    <tr>\n      <th>4591</th>\n      <td>1</td>\n      <td>40</td>\n      <td>0.717687</td>\n      <td>8.183673</td>\n      <td>0.722594</td>\n      <td>989</td>\n      <td>0.534884</td>\n      <td>0.0</td>\n    </tr>\n  </tbody>\n</table>\n</div>"
     },
     "metadata": {},
     "execution_count": 20
    }
   ],
   "source": [
    "data_train = data_train.drop(['eval_set', 'order_id'], axis=1)\n",
    "data_train.head()"
   ]
  },
  {
   "source": [
    "### Create prediction model"
   ],
   "cell_type": "markdown",
   "metadata": {}
  },
  {
   "cell_type": "code",
   "execution_count": 21,
   "metadata": {},
   "outputs": [],
   "source": [
    "from sklearn.ensemble import RandomForestClassifier\n",
    "from sklearn.model_selection import train_test_split\n",
    "from sklearn.metrics import f1_score, classification_report, confusion_matrix\n",
    "\n",
    "X_train, X_test, y_train, y_test = train_test_split(data_train.drop('reordered', axis=1), data_train.reordered, test_size=0.8, random_state=42)"
   ]
  },
  {
   "cell_type": "code",
   "execution_count": 21,
   "metadata": {},
   "outputs": [],
   "source": [
    "clf = RandomForestClassifier(n_estimators=10 ,random_state=42)\n",
    "model = clf.fit(X_train, y_train)"
   ]
  },
  {
   "cell_type": "code",
   "execution_count": 22,
   "metadata": {},
   "outputs": [
    {
     "output_type": "stream",
     "name": "stdout",
     "text": [
      "RESULTS ON VALIDATION SET\n",
      "====================\n",
      "F1 Score:  0.30990535675972064 \n",
      "====================\n",
      "Classification Report\n",
      "                precision    recall  f1-score   support\n",
      "\n",
      "         0.0       0.95      0.93      0.94   2507866\n",
      "         1.0       0.27      0.36      0.31    181289\n",
      "\n",
      "    accuracy                           0.89   2689155\n",
      "   macro avg       0.61      0.64      0.63   2689155\n",
      "weighted avg       0.91      0.89      0.90   2689155\n",
      " \n",
      "====================\n",
      "Confusion Matrix\n",
      "  [[2334683  173183]\n",
      " [ 116291   64998]]\n"
     ]
    }
   ],
   "source": [
    "y_pred = (model.predict_proba(X_test)[:,1] >= 0.30).astype(int)\n",
    "\n",
    "### Get scores on validation set\n",
    "print(\"RESULTS ON VALIDATION SET\\n====================\")\n",
    "print(\"F1 Score: \",f1_score(y_test, y_pred, average='binary'), \"\\n====================\")\n",
    "print(\"Classification Report\\n \", classification_report(y_test, y_pred), \"\\n====================\")\n",
    "print(\"Confusion Matrix\\n \", confusion_matrix(y_test, y_pred))"
   ]
  },
  {
   "cell_type": "code",
   "execution_count": 23,
   "metadata": {},
   "outputs": [
    {
     "output_type": "stream",
     "name": "stdout",
     "text": [
      "                            importance\nreorder_ratio                 0.194378\navg_day_since_last_reorder    0.193318\nreorder_prob                  0.177038\ntotal_purchase                0.168589\ntotal_bought                  0.164626\ntotal_orders                  0.102050\n"
     ]
    }
   ],
   "source": [
    "feature_importances_df = pd.DataFrame(model.feature_importances_, index = X_train.columns, columns=['importance']).sort_values('importance',ascending=False)\n",
    "print(feature_importances_df)"
   ]
  },
  {
   "cell_type": "code",
   "execution_count": 22,
   "metadata": {},
   "outputs": [
    {
     "output_type": "stream",
     "name": "stdout",
     "text": [
      "Fitting 5 folds for each of 10 candidates, totalling 50 fits\n",
      "[CV] n_estimators=10, max_features=5, max_depth=8, criterion=gini, bootstrap=True \n",
      "[Parallel(n_jobs=1)]: Using backend SequentialBackend with 1 concurrent workers.\n",
      "[CV]  n_estimators=10, max_features=5, max_depth=8, criterion=gini, bootstrap=True, score=0.181, total=   7.0s\n",
      "[CV] n_estimators=10, max_features=5, max_depth=8, criterion=gini, bootstrap=True \n",
      "[Parallel(n_jobs=1)]: Done   1 out of   1 | elapsed:    6.9s remaining:    0.0s\n",
      "[CV]  n_estimators=10, max_features=5, max_depth=8, criterion=gini, bootstrap=True, score=0.184, total=   5.1s\n",
      "[CV] n_estimators=10, max_features=5, max_depth=8, criterion=gini, bootstrap=True \n",
      "[Parallel(n_jobs=1)]: Done   2 out of   2 | elapsed:   12.0s remaining:    0.0s\n",
      "[CV]  n_estimators=10, max_features=5, max_depth=8, criterion=gini, bootstrap=True, score=0.185, total=   4.3s\n",
      "[CV] n_estimators=10, max_features=5, max_depth=8, criterion=gini, bootstrap=True \n",
      "[Parallel(n_jobs=1)]: Done   3 out of   3 | elapsed:   16.3s remaining:    0.0s\n",
      "[CV]  n_estimators=10, max_features=5, max_depth=8, criterion=gini, bootstrap=True, score=0.173, total=   4.0s\n",
      "[CV] n_estimators=10, max_features=5, max_depth=8, criterion=gini, bootstrap=True \n",
      "[Parallel(n_jobs=1)]: Done   4 out of   4 | elapsed:   20.3s remaining:    0.0s\n",
      "[CV]  n_estimators=10, max_features=5, max_depth=8, criterion=gini, bootstrap=True, score=0.186, total=   4.0s\n",
      "[CV] n_estimators=100, max_features=8, max_depth=6, criterion=entropy, bootstrap=True \n",
      "[Parallel(n_jobs=1)]: Done   5 out of   5 | elapsed:   24.3s remaining:    0.0s\n",
      "[CV]  n_estimators=100, max_features=8, max_depth=6, criterion=entropy, bootstrap=True, score=nan, total=   1.0s\n",
      "[CV] n_estimators=100, max_features=8, max_depth=6, criterion=entropy, bootstrap=True \n",
      "[Parallel(n_jobs=1)]: Done   6 out of   6 | elapsed:   25.3s remaining:    0.0s\n",
      "[CV]  n_estimators=100, max_features=8, max_depth=6, criterion=entropy, bootstrap=True, score=nan, total=   3.5s\n",
      "[CV] n_estimators=100, max_features=8, max_depth=6, criterion=entropy, bootstrap=True \n",
      "[Parallel(n_jobs=1)]: Done   7 out of   7 | elapsed:   28.8s remaining:    0.0s\n",
      "[CV]  n_estimators=100, max_features=8, max_depth=6, criterion=entropy, bootstrap=True, score=nan, total=   3.3s\n",
      "[CV] n_estimators=100, max_features=8, max_depth=6, criterion=entropy, bootstrap=True \n",
      "[Parallel(n_jobs=1)]: Done   8 out of   8 | elapsed:   32.1s remaining:    0.0s\n",
      "[CV]  n_estimators=100, max_features=8, max_depth=6, criterion=entropy, bootstrap=True, score=nan, total=   3.7s\n",
      "[CV] n_estimators=100, max_features=8, max_depth=6, criterion=entropy, bootstrap=True \n",
      "[Parallel(n_jobs=1)]: Done   9 out of   9 | elapsed:   35.9s remaining:    0.0s\n",
      "[CV]  n_estimators=100, max_features=8, max_depth=6, criterion=entropy, bootstrap=True, score=nan, total=   3.8s\n",
      "[CV] n_estimators=100, max_features=4, max_depth=5, criterion=gini, bootstrap=True \n",
      "[CV]  n_estimators=100, max_features=4, max_depth=5, criterion=gini, bootstrap=True, score=0.143, total=  24.6s\n",
      "[CV] n_estimators=100, max_features=4, max_depth=5, criterion=gini, bootstrap=True \n",
      "[CV]  n_estimators=100, max_features=4, max_depth=5, criterion=gini, bootstrap=True, score=0.152, total=  22.0s\n",
      "[CV] n_estimators=100, max_features=4, max_depth=5, criterion=gini, bootstrap=True \n",
      "[CV]  n_estimators=100, max_features=4, max_depth=5, criterion=gini, bootstrap=True, score=0.147, total=  21.3s\n",
      "[CV] n_estimators=100, max_features=4, max_depth=5, criterion=gini, bootstrap=True \n",
      "[CV]  n_estimators=100, max_features=4, max_depth=5, criterion=gini, bootstrap=True, score=0.136, total=  22.3s\n",
      "[CV] n_estimators=100, max_features=4, max_depth=5, criterion=gini, bootstrap=True \n",
      "[CV]  n_estimators=100, max_features=4, max_depth=5, criterion=gini, bootstrap=True, score=0.137, total=  23.3s\n",
      "[CV] n_estimators=50, max_features=8, max_depth=4, criterion=entropy, bootstrap=True \n",
      "[CV]  n_estimators=50, max_features=8, max_depth=4, criterion=entropy, bootstrap=True, score=nan, total=   0.8s\n",
      "[CV] n_estimators=50, max_features=8, max_depth=4, criterion=entropy, bootstrap=True \n",
      "[CV]  n_estimators=50, max_features=8, max_depth=4, criterion=entropy, bootstrap=True, score=nan, total=   3.7s\n",
      "[CV] n_estimators=50, max_features=8, max_depth=4, criterion=entropy, bootstrap=True \n",
      "[CV]  n_estimators=50, max_features=8, max_depth=4, criterion=entropy, bootstrap=True, score=nan, total=   3.7s\n",
      "[CV] n_estimators=50, max_features=8, max_depth=4, criterion=entropy, bootstrap=True \n",
      "[CV]  n_estimators=50, max_features=8, max_depth=4, criterion=entropy, bootstrap=True, score=nan, total=   3.7s\n",
      "[CV] n_estimators=50, max_features=8, max_depth=4, criterion=entropy, bootstrap=True \n",
      "[CV]  n_estimators=50, max_features=8, max_depth=4, criterion=entropy, bootstrap=True, score=nan, total=   3.7s\n",
      "[CV] n_estimators=100, max_features=6, max_depth=6, criterion=entropy, bootstrap=True \n",
      "[CV]  n_estimators=100, max_features=6, max_depth=6, criterion=entropy, bootstrap=True, score=0.175, total=  39.6s\n",
      "[CV] n_estimators=100, max_features=6, max_depth=6, criterion=entropy, bootstrap=True \n",
      "[CV]  n_estimators=100, max_features=6, max_depth=6, criterion=entropy, bootstrap=True, score=0.175, total=  40.1s\n",
      "[CV] n_estimators=100, max_features=6, max_depth=6, criterion=entropy, bootstrap=True \n",
      "[CV]  n_estimators=100, max_features=6, max_depth=6, criterion=entropy, bootstrap=True, score=0.182, total=  32.7s\n",
      "[CV] n_estimators=100, max_features=6, max_depth=6, criterion=entropy, bootstrap=True \n",
      "[CV]  n_estimators=100, max_features=6, max_depth=6, criterion=entropy, bootstrap=True, score=0.167, total=  31.3s\n",
      "[CV] n_estimators=100, max_features=6, max_depth=6, criterion=entropy, bootstrap=True \n",
      "[CV]  n_estimators=100, max_features=6, max_depth=6, criterion=entropy, bootstrap=True, score=0.169, total=  31.1s\n",
      "[CV] n_estimators=50, max_features=2, max_depth=1, criterion=gini, bootstrap=True \n",
      "[CV]  n_estimators=50, max_features=2, max_depth=1, criterion=gini, bootstrap=True, score=0.000, total=   2.6s\n",
      "[CV] n_estimators=50, max_features=2, max_depth=1, criterion=gini, bootstrap=True \n",
      "[CV]  n_estimators=50, max_features=2, max_depth=1, criterion=gini, bootstrap=True, score=0.000, total=   2.8s\n",
      "[CV] n_estimators=50, max_features=2, max_depth=1, criterion=gini, bootstrap=True \n",
      "[CV]  n_estimators=50, max_features=2, max_depth=1, criterion=gini, bootstrap=True, score=0.000, total=   2.7s\n",
      "[CV] n_estimators=50, max_features=2, max_depth=1, criterion=gini, bootstrap=True \n",
      "[CV]  n_estimators=50, max_features=2, max_depth=1, criterion=gini, bootstrap=True, score=0.000, total=   2.5s\n",
      "[CV] n_estimators=50, max_features=2, max_depth=1, criterion=gini, bootstrap=True \n",
      "[CV]  n_estimators=50, max_features=2, max_depth=1, criterion=gini, bootstrap=True, score=0.000, total=   2.5s\n",
      "[CV] n_estimators=50, max_features=1, max_depth=8, criterion=gini, bootstrap=False \n",
      "[CV]  n_estimators=50, max_features=1, max_depth=8, criterion=gini, bootstrap=False, score=0.015, total=   6.6s\n",
      "[CV] n_estimators=50, max_features=1, max_depth=8, criterion=gini, bootstrap=False \n",
      "[CV]  n_estimators=50, max_features=1, max_depth=8, criterion=gini, bootstrap=False, score=0.015, total=   6.9s\n",
      "[CV] n_estimators=50, max_features=1, max_depth=8, criterion=gini, bootstrap=False \n",
      "[CV]  n_estimators=50, max_features=1, max_depth=8, criterion=gini, bootstrap=False, score=0.011, total=   6.9s\n",
      "[CV] n_estimators=50, max_features=1, max_depth=8, criterion=gini, bootstrap=False \n",
      "[CV]  n_estimators=50, max_features=1, max_depth=8, criterion=gini, bootstrap=False, score=0.010, total=   7.1s\n",
      "[CV] n_estimators=50, max_features=1, max_depth=8, criterion=gini, bootstrap=False \n",
      "[CV]  n_estimators=50, max_features=1, max_depth=8, criterion=gini, bootstrap=False, score=0.015, total=   6.6s\n",
      "[CV] n_estimators=500, max_features=5, max_depth=4, criterion=entropy, bootstrap=True \n",
      "[CV]  n_estimators=500, max_features=5, max_depth=4, criterion=entropy, bootstrap=True, score=0.093, total= 1.6min\n",
      "[CV] n_estimators=500, max_features=5, max_depth=4, criterion=entropy, bootstrap=True \n",
      "[CV]  n_estimators=500, max_features=5, max_depth=4, criterion=entropy, bootstrap=True, score=0.106, total= 1.5min\n",
      "[CV] n_estimators=500, max_features=5, max_depth=4, criterion=entropy, bootstrap=True \n",
      "[CV]  n_estimators=500, max_features=5, max_depth=4, criterion=entropy, bootstrap=True, score=0.094, total= 1.5min\n",
      "[CV] n_estimators=500, max_features=5, max_depth=4, criterion=entropy, bootstrap=True \n",
      "[CV]  n_estimators=500, max_features=5, max_depth=4, criterion=entropy, bootstrap=True, score=0.087, total= 1.5min\n",
      "[CV] n_estimators=500, max_features=5, max_depth=4, criterion=entropy, bootstrap=True \n",
      "[CV]  n_estimators=500, max_features=5, max_depth=4, criterion=entropy, bootstrap=True, score=0.094, total= 1.5min\n",
      "[CV] n_estimators=500, max_features=4, max_depth=7, criterion=gini, bootstrap=True \n",
      "[CV]  n_estimators=500, max_features=4, max_depth=7, criterion=gini, bootstrap=True, score=0.170, total= 2.0min\n",
      "[CV] n_estimators=500, max_features=4, max_depth=7, criterion=gini, bootstrap=True \n",
      "[CV]  n_estimators=500, max_features=4, max_depth=7, criterion=gini, bootstrap=True, score=0.170, total= 2.0min\n",
      "[CV] n_estimators=500, max_features=4, max_depth=7, criterion=gini, bootstrap=True \n",
      "[CV]  n_estimators=500, max_features=4, max_depth=7, criterion=gini, bootstrap=True, score=0.182, total= 2.0min\n",
      "[CV] n_estimators=500, max_features=4, max_depth=7, criterion=gini, bootstrap=True \n",
      "[CV]  n_estimators=500, max_features=4, max_depth=7, criterion=gini, bootstrap=True, score=0.167, total= 2.0min\n",
      "[CV] n_estimators=500, max_features=4, max_depth=7, criterion=gini, bootstrap=True \n",
      "[CV]  n_estimators=500, max_features=4, max_depth=7, criterion=gini, bootstrap=True, score=0.172, total= 2.0min\n",
      "[CV] n_estimators=500, max_features=2, max_depth=3, criterion=gini, bootstrap=False \n",
      "[CV]  n_estimators=500, max_features=2, max_depth=3, criterion=gini, bootstrap=False, score=0.000, total=  41.1s\n",
      "[CV] n_estimators=500, max_features=2, max_depth=3, criterion=gini, bootstrap=False \n",
      "[CV]  n_estimators=500, max_features=2, max_depth=3, criterion=gini, bootstrap=False, score=0.000, total=  40.8s\n",
      "[CV] n_estimators=500, max_features=2, max_depth=3, criterion=gini, bootstrap=False \n",
      "[CV]  n_estimators=500, max_features=2, max_depth=3, criterion=gini, bootstrap=False, score=0.000, total=  40.7s\n",
      "[CV] n_estimators=500, max_features=2, max_depth=3, criterion=gini, bootstrap=False \n",
      "[CV]  n_estimators=500, max_features=2, max_depth=3, criterion=gini, bootstrap=False, score=0.000, total=  40.7s\n",
      "[CV] n_estimators=500, max_features=2, max_depth=3, criterion=gini, bootstrap=False \n",
      "[CV]  n_estimators=500, max_features=2, max_depth=3, criterion=gini, bootstrap=False, score=0.000, total=  41.3s\n",
      "[Parallel(n_jobs=1)]: Done  50 out of  50 | elapsed: 27.2min finished\n",
      "{'n_estimators': 10, 'max_features': 5, 'max_depth': 8, 'criterion': 'gini', 'bootstrap': True}\n"
     ]
    }
   ],
   "source": [
    "from sklearn.model_selection import RandomizedSearchCV\n",
    "\n",
    "parameters = {'bootstrap': [True, False], 'max_depth': [1, 2, 3, 4, 5, 6, 7, 8], 'n_estimators': [10, 50, 100, 200, 500], 'max_features': [1, 2, 3, 4, 5, 6, 7, 8], 'criterion': ['gini', 'entropy']}\n",
    "\n",
    "clf = RandomForestClassifier(n_jobs=-1)\n",
    "\n",
    "gsc = RandomizedSearchCV(clf, parameters, scoring='f1', n_jobs=1, verbose=10)\n",
    "gsc.fit(X_train, y_train)\n",
    "print(gsc.best_params_)"
   ]
  },
  {
   "cell_type": "code",
   "execution_count": 23,
   "metadata": {},
   "outputs": [
    {
     "output_type": "stream",
     "name": "stdout",
     "text": [
      "RESULTS ON VALIDATION SET\n",
      "====================\n",
      "F1 Score:  0.32473639814424293 \n",
      "====================\n",
      "Classification Report\n",
      "                precision    recall  f1-score   support\n",
      "\n",
      "         0.0       0.95      0.98      0.96   2507866\n",
      "         1.0       0.45      0.25      0.32    181289\n",
      "\n",
      "    accuracy                           0.93   2689155\n",
      "   macro avg       0.70      0.62      0.64   2689155\n",
      "weighted avg       0.91      0.93      0.92   2689155\n",
      " \n",
      "====================\n",
      "Confusion Matrix\n",
      "  [[2450832   57034]\n",
      " [ 135092   46197]]\n"
     ]
    }
   ],
   "source": [
    "y_pred = (gsc.predict_proba(X_test)[:,1] >= 0.30).astype(int)\n",
    "\n",
    "### Get scores on validation set\n",
    "print(\"RESULTS ON VALIDATION SET\\n====================\")\n",
    "print(\"F1 Score: \",f1_score(y_test, y_pred, average='binary'), \"\\n====================\")\n",
    "print(\"Classification Report\\n \", classification_report(y_test, y_pred), \"\\n====================\")\n",
    "print(\"Confusion Matrix\\n \", confusion_matrix(y_test, y_pred))"
   ]
  },
  {
   "cell_type": "code",
   "execution_count": 27,
   "metadata": {},
   "outputs": [],
   "source": [
    "clf = RandomForestClassifier(n_estimators=10 ,max_features=5, max_depth=8, criterion='gini', bootstrap=True)\n",
    "model = clf.fit(X_train, y_train)\n",
    "y_pred = (model.predict_proba(X_test)[:,1] >= 0.30).astype(int)"
   ]
  },
  {
   "cell_type": "code",
   "execution_count": 28,
   "metadata": {},
   "outputs": [
    {
     "output_type": "stream",
     "name": "stdout",
     "text": [
      "RESULTS ON VALIDATION SET\n",
      "====================\n",
      "F1 Score:  0.32642274570556346 \n",
      "====================\n",
      "Classification Report\n",
      "                precision    recall  f1-score   support\n",
      "\n",
      "         0.0       0.95      0.98      0.96   2507866\n",
      "         1.0       0.45      0.26      0.33    181289\n",
      "\n",
      "    accuracy                           0.93   2689155\n",
      "   macro avg       0.70      0.62      0.64   2689155\n",
      "weighted avg       0.91      0.93      0.92   2689155\n",
      " \n",
      "====================\n",
      "Confusion Matrix\n",
      "  [[2450410   57456]\n",
      " [ 134723   46566]] \n",
      "====================\n",
      "                              importance\n",
      "total_bought                    0.788226\n",
      "total_orders                    0.088440\n",
      "reorder_prob                    0.057831\n",
      "avg_day_since_last_reorder      0.028254\n",
      "total_purchase                  0.013159\n",
      "reorder_ratio                   0.012538\n",
      "reorder_item_ratio_per_order    0.011553\n"
     ]
    }
   ],
   "source": [
    "### Get scores on validation set\n",
    "print(\"RESULTS ON VALIDATION SET\\n====================\")\n",
    "print(\"F1 Score: \",f1_score(y_test, y_pred, average='binary'), \"\\n====================\")\n",
    "print(\"Classification Report\\n \", classification_report(y_test, y_pred), \"\\n====================\")\n",
    "print(\"Confusion Matrix\\n \", confusion_matrix(y_test, y_pred), \"\\n====================\")\n",
    "feature_importances_df = pd.DataFrame(model.feature_importances_, index = X_train.columns, columns=['importance']).sort_values('importance',ascending=False)\n",
    "print(feature_importances_df)"
   ]
  },
  {
   "cell_type": "code",
   "execution_count": 31,
   "metadata": {},
   "outputs": [
    {
     "output_type": "execute_result",
     "data": {
      "text/plain": [
       "                              importance\n",
       "total_bought                    0.788226\n",
       "total_orders                    0.088440\n",
       "reorder_prob                    0.057831\n",
       "avg_day_since_last_reorder      0.028254\n",
       "total_purchase                  0.013159\n",
       "reorder_ratio                   0.012538\n",
       "reorder_item_ratio_per_order    0.011553"
      ],
      "text/html": "<div>\n<style scoped>\n    .dataframe tbody tr th:only-of-type {\n        vertical-align: middle;\n    }\n\n    .dataframe tbody tr th {\n        vertical-align: top;\n    }\n\n    .dataframe thead th {\n        text-align: right;\n    }\n</style>\n<table border=\"1\" class=\"dataframe\">\n  <thead>\n    <tr style=\"text-align: right;\">\n      <th></th>\n      <th>importance</th>\n    </tr>\n  </thead>\n  <tbody>\n    <tr>\n      <th>total_bought</th>\n      <td>0.788226</td>\n    </tr>\n    <tr>\n      <th>total_orders</th>\n      <td>0.088440</td>\n    </tr>\n    <tr>\n      <th>reorder_prob</th>\n      <td>0.057831</td>\n    </tr>\n    <tr>\n      <th>avg_day_since_last_reorder</th>\n      <td>0.028254</td>\n    </tr>\n    <tr>\n      <th>total_purchase</th>\n      <td>0.013159</td>\n    </tr>\n    <tr>\n      <th>reorder_ratio</th>\n      <td>0.012538</td>\n    </tr>\n    <tr>\n      <th>reorder_item_ratio_per_order</th>\n      <td>0.011553</td>\n    </tr>\n  </tbody>\n</table>\n</div>"
     },
     "metadata": {},
     "execution_count": 31
    }
   ],
   "source": [
    "feature_importances_df"
   ]
  },
  {
   "cell_type": "code",
   "execution_count": 33,
   "metadata": {},
   "outputs": [],
   "source": [
    "import pickle\n",
    "\n",
    "filename = 'rfc_model.sav'\n",
    "pickle.dump(model, open(filename, 'wb'))"
   ]
  },
  {
   "cell_type": "code",
   "execution_count": 37,
   "metadata": {},
   "outputs": [
    {
     "output_type": "execute_result",
     "data": {
      "text/plain": [
       "array([0, 1, 0, ..., 0, 0, 0])"
      ]
     },
     "metadata": {},
     "execution_count": 37
    }
   ],
   "source": [
    "y_pred"
   ]
  }
 ]
}