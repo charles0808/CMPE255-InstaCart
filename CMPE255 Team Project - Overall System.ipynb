{
 "cells": [
  {
   "cell_type": "markdown",
   "metadata": {},
   "source": [
    "# Customer Segmentation by Dongmei Yin"
   ]
  },
  {
   "cell_type": "code",
   "execution_count": 25,
   "metadata": {},
   "outputs": [],
   "source": [
    "import pandas as pd\n",
    "import numpy as np\n",
    "import pickle\n",
    "from sklearn.decomposition import PCA\n",
    "from sklearn.cluster import KMeans\n",
    "\n",
    "def customerSegmentation(filepath):\n",
    "    # Part1: read in raw data with provided filepah\n",
    "    aisle = pd.read_csv(filepath + '/aisles.csv')\n",
    "    department = pd.read_csv(filepath + '/departments.csv')\n",
    "    order_products = pd.read_csv(filepath + '/sample_order_products.csv')\n",
    "    orders = pd.read_csv(filepath + '/sample_order.csv')\n",
    "    products = pd.read_csv(filepath + '/products.csv')\n",
    "    aisle_match = pd.read_csv(filepath + '/final_aisle_match.csv');\n",
    "    \n",
    "    # Part 2: data preprocessing\n",
    "    \n",
    "    # Take out orderID and productID from both train and prior table and merge them into one order_products_id table\n",
    "    order_products_id = order_products[['order_id','product_id']]\n",
    "    # take out orderID and userID from orders table\n",
    "    order_user_id = orders[['order_id','user_id']]\n",
    "    # get total order count for each user\n",
    "    user_order_count = order_user_id[['user_id','order_id']]\n",
    "    user_order_count = user_order_count.groupby(['user_id']).agg({'order_id': 'count'}).reset_index()\n",
    "    user_order_count.rename(columns={\"order_id\": \"order_count\"}, inplace=True)\n",
    "    #combine order_products and products table to see what aisle each product belongs for each order\n",
    "    order_product_aisle = order_products_id.merge(products,on='product_id')\n",
    "    #from order_product_aisle table, only select orderID and aisleID to aggregate some data since we only deal with \n",
    "    #aisle level granularity\n",
    "    #In addition, count of products from each aisle for each order is kept\n",
    "    order_aisle_id = order_product_aisle[['order_id','aisle_id']]\n",
    "    order_aisle_id['aisle_id2'] = order_product_aisle['aisle_id']\n",
    "    order_aisle_count = order_aisle_id.groupby(['order_id','aisle_id']).agg({'aisle_id2': 'count'}).reset_index()\n",
    "    order_aisle_count.rename(columns={\"aisle_id2\": \"product_count\"}, inplace=True)\n",
    "    #join order_user_id table and order_aisle_count table to see which order belongs to which user\n",
    "    order_user_aisle = order_aisle_count.merge(order_user_id, on='order_id')\n",
    "    #from order_user_aisle table, take out orderID and group by user_id, aisle_id\n",
    "    user_aisle_id = order_user_aisle[['user_id','aisle_id','product_count']]\n",
    "    user_aisle_count = user_aisle_id.groupby(['user_id','aisle_id']).agg({'product_count': 'sum'}).reset_index()\n",
    "    # user_aisle_count right join user_order_count \n",
    "    user_aisle_order_count= user_aisle_count.merge(user_order_count, how='right',on='user_id')\n",
    "    # final aisle grouping along with filtration of essential aisles\n",
    "    new_user_aisle_order_count = user_aisle_order_count.merge(aisle_match, how='inner', on='aisle_id')\n",
    "    new_user_aisle_order_count = new_user_aisle_order_count[['user_id','new_aisle_ID','product_count','order_count']]\n",
    "    new_user_aisle_order_count = new_user_aisle_order_count.groupby(['user_id','new_aisle_ID']).agg({'product_count':'sum','order_count':'sum'}).reset_index()\n",
    "    # divide product count by order count to get for aisle, how many products on average each customer would buy per order\n",
    "    new_user_aisle_order_count['avg'] = new_user_aisle_order_count['product_count']/new_user_aisle_order_count['order_count']\n",
    "    user_aisle_avgCount_annual = new_user_aisle_order_count[['user_id','new_aisle_ID','avg']]\n",
    "    # get final data\n",
    "    data = pd.pivot_table(user_aisle_avgCount_annual, values='avg', index=['user_id'],columns=['new_aisle_ID'], aggfunc=np.sum, fill_value=0)\n",
    "    data.reset_index(inplace=True)\n",
    "                                                                                                    \n",
    "    # index match\n",
    "    index_match = data['user_id']\n",
    "    data.set_index('user_id', inplace=True)\n",
    "    \n",
    "    # Model prediction\n",
    "    # apply principal component analysis to reduce the dimension from 69 to 34 dimensions\n",
    "    pca = PCA(n_components=34)\n",
    "    pca_34 = pca.fit_transform(data)\n",
    "    pca_34_90percent = pd.DataFrame(pca_34)\n",
    "                                                                                                     \n",
    "    # load the model from disk and predict on the data\n",
    "    filename = 'customer_segmentation_model.sav'\n",
    "    loaded_model = pickle.load(open(filename, 'rb'))\n",
    "    y_kmean = loaded_model.predict(pca_34_90percent)\n",
    "    result = pca_34_90percent.copy(deep=True)\n",
    "    result.reset_index(inplace=True)\n",
    "    result.insert(1,'label',y_kmean)\n",
    "    result = result.rename(columns = {'index':'X'})\n",
    "    result = result[['X','label']]\n",
    "    index_match = pd.DataFrame(index_match)\n",
    "    index_match.reset_index(inplace=True)\n",
    "    index_match = index_match.rename(columns = {'index':'X'})\n",
    "    result = index_match.merge(result, on = 'X')\n",
    "    result = result[['user_id','label']]\n",
    "                                                                                                     \n",
    "    return result\n",
    "\n"
   ]
  },
  {
   "cell_type": "markdown",
   "metadata": {},
   "source": [
    "# basket analysis (Apriori version) by Yilin Zhou"
   ]
  },
  {
   "cell_type": "code",
   "execution_count": 71,
   "metadata": {},
   "outputs": [],
   "source": [
    "import time\n",
    "from mlxtend.preprocessing import TransactionEncoder\n",
    "from mlxtend.frequent_patterns import apriori, fpmax, fpgrowth\n",
    "from mlxtend.frequent_patterns import association_rules\n",
    "\n",
    "def basket_analysis(filepath):\n",
    "    aisle = pd.read_csv(filepath + '/aisles.csv')\n",
    "    department = pd.read_csv(filepath + '/departments.csv')\n",
    "    order_products = pd.read_csv(filepath + '/sample_order_products.csv')\n",
    "    orders = pd.read_csv(filepath + '/sample_order.csv')\n",
    "    products = pd.read_csv(filepath + '/products.csv')\n",
    "    \n",
    "    def transform_frequentItem_to_product(frequent_itemsets):\n",
    "        arr_relation=frequent_itemsets.values\n",
    "        final_arr = []\n",
    "        for item in arr_relation:\n",
    "            arr = []\n",
    "            for it in item[1]:\n",
    "                arr.append(products[products['product_id' ]== it]['product_name'].values[0])\n",
    "            final_arr.append(arr)\n",
    "        return final_arr\n",
    "    \n",
    "    # order,product and user table\n",
    "    order_user_id = orders[['order_id','user_id']]\n",
    "    user_product_id=order_user_id.merge(order_products,left_on='order_id', right_on='order_id')\n",
    "    # find top 3 aisle_id\n",
    "    aisle_ids = []\n",
    "    aisle_arr = aisle[aisle['aisle'].isin(['fresh fruits','fresh vegetables','packaged vegetables fruits'])].values\n",
    "    for item in aisle_arr:\n",
    "        aisle_ids.append(item[0])\n",
    "    # product in those 3 aisle\n",
    "    product_ids = []\n",
    "    product_arr = products[products['aisle_id'].isin(aisle_ids)].values\n",
    "    for item in product_arr:\n",
    "        product_ids.append(item[0])\n",
    "    # user,product and user table after removing those products\n",
    "    user_product_id = user_product_id[~user_product_id['product_id'].isin(product_ids)]\n",
    "    return user_product_id\n",
    "    \n",
    "def returnProduct(filepath,i,minSup,minCon):\n",
    "    aisle = pd.read_csv(filepath + '/aisles.csv')\n",
    "    department = pd.read_csv(filepath + '/departments.csv')\n",
    "    order_products = pd.read_csv(filepath + '/sample_order_products.csv')\n",
    "    orders = pd.read_csv(filepath + '/sample_order.csv')\n",
    "    products = pd.read_csv(filepath + '/products.csv')\n",
    "    def Apriori(user_product_part1):\n",
    "    \n",
    "        user_product_dic={}\n",
    "        for item in user_product_part1.itertuples():\n",
    "            if(user_product_dic.get(item[2])):\n",
    "                user_product_dic[item[2]].append(item[3])\n",
    "            else:\n",
    "                user_product_dic[item[2]] = [] \n",
    "                user_product_dic[item[2]].append(item[3])\n",
    "        transaction = []\n",
    "        for item in user_product_dic:\n",
    "            transaction.append(user_product_dic[item])\n",
    "    #     print('transaction',transaction)\n",
    "        te = TransactionEncoder()\n",
    "        te_ary = te.fit(transaction).transform(transaction)\n",
    "    #     print('te_ary',te_ary)\n",
    "        df = pd.DataFrame(te_ary, columns=te.columns_)\n",
    "        return df\n",
    "    \n",
    "    def transform_associationRule_to_product(association_rule):\n",
    "        relationship_rule = association_rule[['antecedents','consequents']]\n",
    "        arr_relation=relationship_rule.values\n",
    "        final_rules = []\n",
    "        for item in arr_relation:\n",
    "            pre_product_Arr = []\n",
    "            after_product_Arr = []\n",
    "            pre = item[0]\n",
    "            after = item[1]\n",
    "            for pre_item in pre:\n",
    "                pre_product_Arr.append(products[products['product_id' ]== pre_item]['product_name'].values[0])\n",
    "            for after_item in after:\n",
    "                after_product_Arr.append(products[products['product_id' ]== after_item]['product_name'].values[0])\n",
    "            tup = (pre_product_Arr,'----->',after_product_Arr)\n",
    "            final_rules.append(tup)\n",
    "        return final_rules\n",
    "    \n",
    "    customercluster = customerSegmentation(fp);\n",
    "    user_product_id = basket_analysis(fp);\n",
    "    ids = customercluster[customercluster['label']==i]['user_id'].values\n",
    "    user_product_part0 = user_product_id[user_product_id['user_id'].isin(ids)]\n",
    "    df = Apriori(user_product_part0)\n",
    "    frequent_itemsets0 = apriori(df, min_support=minSup, use_colnames=True)\n",
    "#     print('frequent_itemsets0',frequent_itemsets0)\n",
    "    association_rule0 = association_rules(frequent_itemsets0, metric=\"confidence\", min_threshold=minCon)\n",
    "#     print('association_rule0',association_rule0)\n",
    "    association_rule_trans = transform_associationRule_to_product(association_rule0)\n",
    "    for item in association_rule_trans:\n",
    "        print(item)\n",
    "#     print(association_rule_trans)"
   ]
  },
  {
   "cell_type": "code",
   "execution_count": 72,
   "metadata": {
    "scrolled": true
   },
   "outputs": [
    {
     "name": "stderr",
     "output_type": "stream",
     "text": [
      "/Users/zhouyilin/Library/Python/3.7/lib/python/site-packages/ipykernel_launcher.py:32: SettingWithCopyWarning: \n",
      "A value is trying to be set on a copy of a slice from a DataFrame.\n",
      "Try using .loc[row_indexer,col_indexer] = value instead\n",
      "\n",
      "See the caveats in the documentation: https://pandas.pydata.org/pandas-docs/stable/user_guide/indexing.html#returning-a-view-versus-a-copy\n"
     ]
    },
    {
     "name": "stdout",
     "output_type": "stream",
     "text": [
      "(['Broccoli & Apple Stage 2 Baby Food'], '----->', ['Spinach Peas & Pear Stage 2 Baby Food'])\n",
      "(['Spinach Peas & Pear Stage 2 Baby Food'], '----->', ['Broccoli & Apple Stage 2 Baby Food'])\n",
      "(['Baby Food Stage 2 Blueberry Pear & Purple Carrot'], '----->', ['Broccoli & Apple Stage 2 Baby Food'])\n",
      "(['Broccoli & Apple Stage 2 Baby Food'], '----->', ['Baby Food Stage 2 Blueberry Pear & Purple Carrot'])\n",
      "(['Peach,  Apricot & Banana Stage 2 Baby Food'], '----->', ['Spinach Peas & Pear Stage 2 Baby Food'])\n",
      "(['Spinach Peas & Pear Stage 2 Baby Food'], '----->', ['Peach,  Apricot & Banana Stage 2 Baby Food'])\n",
      "(['Peach,  Apricot & Banana Stage 2 Baby Food'], '----->', ['Baby Food Stage 2 Blueberry Pear & Purple Carrot'])\n",
      "(['Baby Food Stage 2 Blueberry Pear & Purple Carrot'], '----->', ['Peach,  Apricot & Banana Stage 2 Baby Food'])\n",
      "(['Stage 1 Apples Sweet Potatoes Pumpkin & Blueberries Organic Pureed Baby Food'], '----->', ['Squash & Sweet Peas Stage 2'])\n",
      "(['Squash & Sweet Peas Stage 2'], '----->', ['Stage 1 Apples Sweet Potatoes Pumpkin & Blueberries Organic Pureed Baby Food'])\n",
      "(['Stage 1 Apples Sweet Potatoes Pumpkin & Blueberries Organic Pureed Baby Food'], '----->', ['Organic Pears, Peas and Broccoli Puree Stage 1'])\n",
      "(['Organic Pears, Peas and Broccoli Puree Stage 1'], '----->', ['Stage 1 Apples Sweet Potatoes Pumpkin & Blueberries Organic Pureed Baby Food'])\n",
      "(['Baby Food Stage 2 Pumpkin Banana'], '----->', ['Spinach Peas & Pear Stage 2 Baby Food'])\n",
      "(['Spinach Peas & Pear Stage 2 Baby Food'], '----->', ['Baby Food Stage 2 Pumpkin Banana'])\n",
      "(['Sweeet Potato, Apple, Carrot & Cinnamon Organic Superfoods'], '----->', ['Organic Stage 4 Green Bean Pear & Pea Baby Food'])\n",
      "(['Organic Stage 4 Green Bean Pear & Pea Baby Food'], '----->', ['Sweeet Potato, Apple, Carrot & Cinnamon Organic Superfoods'])\n",
      "(['Organic Stage 4 Spinach Mango & Pear Baby Food'], '----->', ['Organic Stage 4 Green Bean Pear & Pea Baby Food'])\n",
      "(['Organic Stage 4 Green Bean Pear & Pea Baby Food'], '----->', ['Organic Stage 4 Spinach Mango & Pear Baby Food'])\n",
      "(['Organic Fiber & Protein Pear Blueberry & Spinach Baby Food'], '----->', ['Pear Kiwi & Kale Baby Food'])\n",
      "(['Pear Kiwi & Kale Baby Food'], '----->', ['Organic Fiber & Protein Pear Blueberry & Spinach Baby Food'])\n",
      "(['Baby Food Stage 2 Blueberry Pear & Purple Carrot'], '----->', ['Spinach Peas & Pear Stage 2 Baby Food'])\n",
      "(['Spinach Peas & Pear Stage 2 Baby Food'], '----->', ['Baby Food Stage 2 Blueberry Pear & Purple Carrot'])\n"
     ]
    }
   ],
   "source": [
    "fp = './Sample Data'\n",
    "returnProduct(fp,0,0.25,0.25)"
   ]
  },
  {
   "cell_type": "code",
   "execution_count": 73,
   "metadata": {},
   "outputs": [
    {
     "name": "stderr",
     "output_type": "stream",
     "text": [
      "/Users/zhouyilin/Library/Python/3.7/lib/python/site-packages/ipykernel_launcher.py:32: SettingWithCopyWarning: \n",
      "A value is trying to be set on a copy of a slice from a DataFrame.\n",
      "Try using .loc[row_indexer,col_indexer] = value instead\n",
      "\n",
      "See the caveats in the documentation: https://pandas.pydata.org/pandas-docs/stable/user_guide/indexing.html#returning-a-view-versus-a-copy\n"
     ]
    },
    {
     "name": "stdout",
     "output_type": "stream",
     "text": [
      "(['Clementines'], '----->', ['Raspberries'])\n",
      "(['Raspberries'], '----->', ['Clementines'])\n",
      "(['Packaged Grape Tomatoes'], '----->', ['Rainbow Bell Peppers'])\n",
      "(['Rainbow Bell Peppers'], '----->', ['Packaged Grape Tomatoes'])\n",
      "(['Raspberries'], '----->', ['Blueberries'])\n",
      "(['Blueberries'], '----->', ['Raspberries'])\n",
      "(['Raspberries'], '----->', ['Hass Avocados'])\n",
      "(['Hass Avocados'], '----->', ['Raspberries'])\n",
      "(['Sparkling Water Grapefruit'], '----->', ['Sparkling Water Berry'])\n",
      "(['Sparkling Water Berry'], '----->', ['Sparkling Water Grapefruit'])\n",
      "(['Sparkling Water Grapefruit'], '----->', ['Peach Pear Flavored Sparkling Water'])\n",
      "(['Peach Pear Flavored Sparkling Water'], '----->', ['Sparkling Water Grapefruit'])\n",
      "(['Sparkling Water Grapefruit'], '----->', ['Lime Sparkling Water'])\n",
      "(['Lime Sparkling Water'], '----->', ['Sparkling Water Grapefruit'])\n"
     ]
    }
   ],
   "source": [
    "returnProduct(fp,1,0.08,0.25)"
   ]
  },
  {
   "cell_type": "code",
   "execution_count": 74,
   "metadata": {},
   "outputs": [
    {
     "name": "stderr",
     "output_type": "stream",
     "text": [
      "/Users/zhouyilin/Library/Python/3.7/lib/python/site-packages/ipykernel_launcher.py:32: SettingWithCopyWarning: \n",
      "A value is trying to be set on a copy of a slice from a DataFrame.\n",
      "Try using .loc[row_indexer,col_indexer] = value instead\n",
      "\n",
      "See the caveats in the documentation: https://pandas.pydata.org/pandas-docs/stable/user_guide/indexing.html#returning-a-view-versus-a-copy\n"
     ]
    },
    {
     "name": "stdout",
     "output_type": "stream",
     "text": [
      "(['Trilogy Kombucha Drink'], '----->', ['Organic & Raw Strawberry Serenity Kombucha'])\n",
      "(['Organic & Raw Strawberry Serenity Kombucha'], '----->', ['Trilogy Kombucha Drink'])\n",
      "(['Synergy Organic & Raw Cosmic Cranberry'], '----->', ['Organic Raw Kombucha Gingerade'])\n",
      "(['Organic Raw Kombucha Gingerade'], '----->', ['Synergy Organic & Raw Cosmic Cranberry'])\n",
      "(['Synergy Organic & Raw Cosmic Cranberry'], '----->', ['Trilogy Kombucha Drink'])\n",
      "(['Trilogy Kombucha Drink'], '----->', ['Synergy Organic & Raw Cosmic Cranberry'])\n",
      "(['Organic Raw Kombucha Gingerade'], '----->', ['Trilogy Kombucha Drink'])\n",
      "(['Trilogy Kombucha Drink'], '----->', ['Organic Raw Kombucha Gingerade'])\n",
      "(['Trilogy Kombucha Drink'], '----->', ['Synergy Organic Kombucha Gingerberry'])\n",
      "(['Synergy Organic Kombucha Gingerberry'], '----->', ['Trilogy Kombucha Drink'])\n",
      "(['Synergy Organic & Raw Cosmic Cranberry', 'Organic Raw Kombucha Gingerade'], '----->', ['Trilogy Kombucha Drink'])\n",
      "(['Synergy Organic & Raw Cosmic Cranberry', 'Trilogy Kombucha Drink'], '----->', ['Organic Raw Kombucha Gingerade'])\n",
      "(['Organic Raw Kombucha Gingerade', 'Trilogy Kombucha Drink'], '----->', ['Synergy Organic & Raw Cosmic Cranberry'])\n",
      "(['Synergy Organic & Raw Cosmic Cranberry'], '----->', ['Organic Raw Kombucha Gingerade', 'Trilogy Kombucha Drink'])\n",
      "(['Organic Raw Kombucha Gingerade'], '----->', ['Synergy Organic & Raw Cosmic Cranberry', 'Trilogy Kombucha Drink'])\n",
      "(['Trilogy Kombucha Drink'], '----->', ['Synergy Organic & Raw Cosmic Cranberry', 'Organic Raw Kombucha Gingerade'])\n"
     ]
    }
   ],
   "source": [
    "returnProduct(fp,2,0.4,0.4)"
   ]
  },
  {
   "cell_type": "code",
   "execution_count": 75,
   "metadata": {},
   "outputs": [
    {
     "name": "stdout",
     "output_type": "stream",
     "text": [
      "(['Pomegranate Blueberry Pistachio Plus Antioxidants Fruit & Nut Bar'], '----->', ['Plus Cranberry Almond + Antioxidants with Macadamia Nuts Bar'])\n",
      "(['Plus Cranberry Almond + Antioxidants with Macadamia Nuts Bar'], '----->', ['Pomegranate Blueberry Pistachio Plus Antioxidants Fruit & Nut Bar'])\n",
      "(['Pomegranate Blueberry Pistachio Plus Antioxidants Fruit & Nut Bar'], '----->', ['Gluten Free Dark Chocolate Chunk Chewy with a Crunch Granola Bars'])\n",
      "(['Gluten Free Dark Chocolate Chunk Chewy with a Crunch Granola Bars'], '----->', ['Pomegranate Blueberry Pistachio Plus Antioxidants Fruit & Nut Bar'])\n",
      "(['Pomegranate Blueberry Pistachio Plus Antioxidants Fruit & Nut Bar'], '----->', ['Caramel Almond and Sea Salt Nut Bar'])\n",
      "(['Caramel Almond and Sea Salt Nut Bar'], '----->', ['Pomegranate Blueberry Pistachio Plus Antioxidants Fruit & Nut Bar'])\n",
      "(['Gluten Free Dark Chocolate Chunk Chewy with a Crunch Granola Bars'], '----->', ['Plus Cranberry Almond + Antioxidants with Macadamia Nuts Bar'])\n",
      "(['Plus Cranberry Almond + Antioxidants with Macadamia Nuts Bar'], '----->', ['Gluten Free Dark Chocolate Chunk Chewy with a Crunch Granola Bars'])\n",
      "(['Cool Mint Chocolate'], '----->', ['Chocolate Chip'])\n",
      "(['Chocolate Chip'], '----->', ['Cool Mint Chocolate'])\n",
      "(['Oats & Honey Gluten Free Granola'], '----->', ['Gluten Free Dark Chocolate Chunk Chewy with a Crunch Granola Bars'])\n",
      "(['Gluten Free Dark Chocolate Chunk Chewy with a Crunch Granola Bars'], '----->', ['Oats & Honey Gluten Free Granola'])\n",
      "(['Gluten Free Peanut Butter Dark Chocolate Chewy With a Crunch Granola Bars'], '----->', ['Gluten Free Dark Chocolate Chunk Chewy with a Crunch Granola Bars'])\n",
      "(['Gluten Free Dark Chocolate Chunk Chewy with a Crunch Granola Bars'], '----->', ['Gluten Free Peanut Butter Dark Chocolate Chewy With a Crunch Granola Bars'])\n",
      "(['Crunchy Peanut Butter Energy Bar'], '----->', ['Chocolate Chip'])\n",
      "(['Chocolate Chip'], '----->', ['Crunchy Peanut Butter Energy Bar'])\n"
     ]
    },
    {
     "name": "stderr",
     "output_type": "stream",
     "text": [
      "/Users/zhouyilin/Library/Python/3.7/lib/python/site-packages/ipykernel_launcher.py:32: SettingWithCopyWarning: \n",
      "A value is trying to be set on a copy of a slice from a DataFrame.\n",
      "Try using .loc[row_indexer,col_indexer] = value instead\n",
      "\n",
      "See the caveats in the documentation: https://pandas.pydata.org/pandas-docs/stable/user_guide/indexing.html#returning-a-view-versus-a-copy\n"
     ]
    }
   ],
   "source": [
    "returnProduct(fp,3,0.3,0.3)"
   ]
  },
  {
   "cell_type": "code",
   "execution_count": 76,
   "metadata": {},
   "outputs": [
    {
     "name": "stdout",
     "output_type": "stream",
     "text": [
      "(['Packaged Grape Tomatoes'], '----->', ['Clementines'])\n",
      "(['Clementines'], '----->', ['Packaged Grape Tomatoes'])\n",
      "(['Clementines'], '----->', ['Hass Avocados'])\n",
      "(['Hass Avocados'], '----->', ['Clementines'])\n",
      "(['Raspberries'], '----->', ['Clementines'])\n",
      "(['Clementines'], '----->', ['Raspberries'])\n",
      "(['Packaged Grape Tomatoes'], '----->', ['Hass Avocados'])\n",
      "(['Hass Avocados'], '----->', ['Packaged Grape Tomatoes'])\n",
      "(['Raspberries'], '----->', ['Hass Avocados'])\n",
      "(['Hass Avocados'], '----->', ['Raspberries'])\n"
     ]
    },
    {
     "name": "stderr",
     "output_type": "stream",
     "text": [
      "/Users/zhouyilin/Library/Python/3.7/lib/python/site-packages/ipykernel_launcher.py:32: SettingWithCopyWarning: \n",
      "A value is trying to be set on a copy of a slice from a DataFrame.\n",
      "Try using .loc[row_indexer,col_indexer] = value instead\n",
      "\n",
      "See the caveats in the documentation: https://pandas.pydata.org/pandas-docs/stable/user_guide/indexing.html#returning-a-view-versus-a-copy\n"
     ]
    }
   ],
   "source": [
    "returnProduct(fp,4,0.5,0.5)"
   ]
  },
  {
   "source": [
    "# Random forest Classifier"
   ],
   "cell_type": "markdown",
   "metadata": {}
  },
  {
   "cell_type": "code",
   "execution_count": 35,
   "metadata": {
    "tags": [
     "outputPrepend"
    ]
   },
   "outputs": [
    {
     "output_type": "stream",
     "name": "stdout",
     "text": [
      "Apples, Guavas & Beets Organic Baby Food', 'Apple Plum Kamut Stage 2 Baby Food', 'Sinfully Sweet Campari Tomatoes', 'Baby Food Meals', 'Blueberry Whole Milk Yogurt Pouch', 'Pizza Sauce', 'Milk and Cookies Ice Cream', 'Creamy Deluxe Macaroni Dinner Elbows & Four Cheese Sauce', 'Organic Whole Milk Strawberry Beet Berry Yogurt Pouch', 'Apples + Strawberries Organic Nibbly Fingers', 'Apples, Kale & Avocados Organic Baby Food', 'Organic Pear Mango Fruit Yogurt Smoothie', 'Honeycrisp Apple', \"S'mores Chocolate Ice Cream\", 'Banana Raspberry & Brown Rice Stage 2', 'Organic Avocado', 'Organic Beans & Rice Cheddar Cheese Burrito'], 129397: ['Carrot and Broccoli Baby Food Puree', 'Whole Milk Plain Yogurt', 'Organic Whole String Cheese', 'Organic Strawberry Banana Fruit Yogurt Smoothie', 'Stage 1 Organic Green Bean Baby Food', 'Electrolyte Enhanced Water', 'Organic Cucumber', 'Organic Pear Mango Fruit Yogurt Smoothie', 'Organic Avocado'], 132882: ['Peach-Pear Sparkling Water', 'Low-Fat Strawberry Banana on the Bottom Greek Yogurt', 'Cran-Raspberry Flavored Sparkling Water', 'Cheddar & Sour Cream Potato Chips', 'Coconut Sparkling Water', 'Low Fat Key Lime Blended Greek Yogurt', 'Blueberry on the Bottom Nonfat Greek Yogurt', 'Passionfruit Sparkling Water', 'Peach on the Bottom Nonfat Greek Yogurt', 'Raspberry on the Bottom Nonfat Greek Yogurt', 'Lemon Sparkling Water', '2% Reduced Fat Organic Milk', 'Natural Pure Sparkling Water', 'Strawberry on the Bottom Nonfat Greek Yogurt', 'Coconut Blended Greek Yogurt', 'Orange Sparkling Water'], 133540: ['Mozzarella String Cheese', 'Clementines', 'Packaged Grape Tomatoes', 'Organic Simply Naked Pita Chips', 'Strawberries', 'Organic Low Fat Milk', 'Blackberries', 'Raspberries'], 136288: ['Organic Whole Milk with DHA Omega-3', 'Sparkling Water Berry', 'Banana', 'Boomchickapop Sea Salt Popcorn', 'Half & Half', 'Organic Fuji Apple', 'of Hanover 100 Calorie Pretzels Mini', 'Lime Sparkling Water', 'Sparkling Water Grapefruit', 'Cereal Honey Bears'], 136302: ['Kiwi Sandia Sparkling Water', 'Pure Sparkling Water', 'Sparkling Water Berry', 'Sparkling Lemon Water', 'Peach Pear Flavored Sparkling Water', 'Organic White Cheddar Popcorn', 'Lime Sparkling Water', 'Blackberry Cucumber Sparkling Water', 'Sparkling Water Grapefruit', 'Curate Melon Pomelo Sparking Water'], 137789: ['Italian Sparkling Mineral Water', 'Organic Homestyle Mini Waffles', 'Ginger Ale Soda', 'Organic Whole Milk with DHA Omega-3', 'Organic Strawberries', 'Asparation/Broccolini/Baby Broccoli', 'Organic Red On the Vine Tomato'], 138285: ['Organic Sticks Low Moisture Part Skim Mozzarella String Cheese', 'Organic Eggs Large', 'Banana', 'Organic Baby Spinach Salad', 'Organic Whole Milk', 'Organic Gala Apples', \"Sesame Street Organic Original Cruchin' Cracker\", 'Organic Granny Smith Apple', 'Ebony Black 1N Permanent Hair Color', 'Harvest Squash Turkey Country Dinner For Children 6 Months & Up', 'Total 0% Nonfat Greek Yogurt', 'Large Lemon'], 139167: ['Hass Avocados', 'Strawberries', 'Organic Spring Mix'], 139486: ['Packaged Grape Tomatoes', 'Baby Cucumbers', 'Bag of Organic Bananas', 'Strawberries', 'Blackberries', 'USDA AA Extra Large Eggs', 'Organic Blueberries', 'Organic 2% Milk', 'Celery Sticks'], 140593: ['Cinnamon Raisin Bread', 'Natural Artesian Water', 'Banana', 'Sweet Potato Apple Stage 2 Baby Food', 'Michigan Organic Kale', 'Organic Garnet Sweet Potato (Yam)'], 141083: ['Smartwater', 'Beet Apple Carrot Lemon Ginger Organic Cold Pressed Juice Beverage', 'Apple Lemon Cayenne Ginger'], 141761: ['Seedless Red Grapes', 'Clementines', 'Baby Cucumbers', 'Strawberries', 'Green Seedless Grapes', 'Trail Mix', 'Raspberries'], 143031: ['100% Raw Coconut Water', 'Natural Artesian Bottled Water', 'Organic Raw Multigreen Kobmbucha'], 145121: ['Bag of Organic Bananas', 'Carrots', 'Organic  Whole Milk'], 145469: ['Gluten Free Peanut Butter Berry  Chewy With A Crunch Granola Bars', 'Gluten Free Dark Chocolate Chunk Chewy with a Crunch Granola Bars', 'Granny Smith Apples', 'Bag of Organic Bananas', 'Oats & Honey Gluten Free Granola', 'Pita Chips Simply Naked', 'Half & Half', 'Clementines, Bag', 'Original Hummus', 'Gluten Free Peanut Butter Dark Chocolate Chewy With a Crunch Granola Bars', 'Organic Granny Smith Apple', 'Total 2% All Natural Low Fat 2% Milkfat Greek Strained Yogurt', 'Red Delicious Apple', 'Dark Chocolate Mocha Granola Bars'], 147326: ['Fruit Naturals No Sugar Added Red Grapefruit in Artificially Sweetened Water Fruit', 'Skim Milk', 'Mocha Cappuccino', 'Banana', 'Strawberry Lowfat Yogurt', 'Black Cherry Lowfat Yogurt', 'Premium Calcium & Vitamin D No Pulp Orange Juice'], 147979: ['Blackberries', 'Sweet Kale Salad Mix', 'Raspberries'], 147980: ['1% Lowfat Milk', 'Rustic Baguette', 'Organic Hass Avocado'], 148611: [\"S'mores Luna Bar\", 'Sweet Potato Tortilla Chips', 'Chocolate Dipped Coconut', 'Organic Fuji Red Apple Chips', 'Coconut Chia Bar', 'Caramel Nut Brownie', 'Bare Fruit Banana Chips', 'Acai Berry Chia Bar', 'Chocolate Peanut Butter', 'Original Instant Oatmeal'], 148993: ['Carrot and Broccoli Baby Food Puree', 'Organic Apple Raisin & Quinoa Stage 2 Baby Food', 'Organic Original Almond Milk', 'Whole Wheat Bread', 'Baby Food Stage 2 Pumpkin Banana', 'Banana', 'Electrolyte Enhanced Water', 'Spinach Peas & Pear Stage 2 Baby Food', 'Organic Stage 3 Pear Carrot Apricot Baby Food', 'Baby Food Stage 2 Blueberry Pear & Purple Carrot'], 151100: ['Berries GoMega Smoothie Blend', 'Mango Tango Fruit Smoothie Blend', 'Synergy Organic & Raw Green Chia Kombucha', 'Arancita Rossa', 'Chai Vanilla Protein Protein Shake', 'Organic & Raw Strawberry Serenity Kombucha', 'New Orleans Iced Coffee', 'Strawberry Banana Flavored 4 Juice Smoothie Blend', 'Synergy Organic & Raw Cosmic Cranberry', 'Organic Raw Multigreen Kobmbucha', 'Cherry, Dark Chocolate & Almond Granola bar', 'Original Super Soy Protein Tropical Flavored Shake', 'Raspberries Dark Chocolate Bar', 'Apricot  Walnut & Coconut Granola Bar', 'Strawberry C Monster Smoothie', 'Guava Goddess Organic Kambucha', 'Organic Spring Jasmine Green Tea', 'Enlightened Organic Raw Kombucha', 'Chocolate Protein Soy & Dairy Protein Shake', 'Kombucha, Organic Raw, Citrus', 'Passionberry Bliss Kombucha Drink', 'Original Superfood Fruit Smoothie Blend', 'Millennium Organic Cherry Chia Synergy Kombucha', \"Mo' Beta Fruit Smoothie Blend\", 'Banana', 'Red Rhapsody  Fruit Smoothie Blend', 'Organic Raw Kombucha Gingerade', 'Strawberry Protein Shake', 'Citrus C Monster Smoothie', 'Orange Peel In Dark Chocolate Bar', 'Trilogy Kombucha Drink', 'Blueberry B Fruit Smoothie', 'Blueberry Protein Shake', 'Synergy Organic Kombucha Gingerberry'], 152269: ['Berries GoMega Smoothie Blend', 'Milk, Reduced Fat, 2% Milkfat', 'Unsweetened Coconut Water', 'Trilogy Kombucha Drink', 'Blueberry B Fruit Smoothie'], 153121: ['Asiago Cheese Sourdough Bread', 'Organic 1% Milk', \"Organic Lori's Lemon Tea\"], 154557: ['Pears, Kale & Spinach Organic Baby Food', 'Baby Food Pears Squash', 'Spring Water', 'Banana', 'Organic Whole Milk', 'Apples, Pumpkin & Carrots Organic Baby Food', 'Stage 2 Pear Pumpkin Baby Food', 'Apples, Guavas & Beets Organic Baby Food', 'Apples, Kale & Avocados Organic Baby Food', 'Bananas, Raspberries & Oats Organic Baby Food', 'Organic Avocado'], 154748: ['Packaged Grape Tomatoes', 'Baby Cucumbers', 'Hass Avocados', 'Strawberries', 'Roasted Pine Nut Hummus', 'Heavy Whip Cream', 'Sinfully Sweet Campari Tomatoes', 'Raspberries'], 157231: ['Organic Infant Formula With Iron', 'Sweet Orange Vanilla Honest Shampoo + Body Wash'], 158015: ['Passionfruit Sparkling Water', 'Lemon Sparkling Water', 'Grapefruit Sparkling Water', 'Orange Sparkling Water'], 158053: ['Organic Shredded Mild Cheddar', 'Gluten Free SpongeBob Spinach Littles', 'Peach,  Apricot & Banana Stage 2 Baby Food', 'YoBaby Peach Pear Yogurt', 'Soft Pretzel Burger Buns', 'Peter Rabbit Organics Mango, Banana and Orange Puree', 'Organic Grade A Free Range Large Brown Eggs', 'Organic All Natural Blueberry Mini Waffles', 'Organic Cheese Frozen Pizza', 'Banana', 'Sausage Buns', 'Fiber & Protein Organic Pears, Raspberries, Butternut Squash & Carrots Snack', 'Raspberry, Blueberry Banana Fruit Puree', 'Baby Food Stage 2 Blueberry Pear & Purple Carrot', 'Pear Kiwi & Kale Baby Food', 'Organic Sunny Days Apple Snack Bars', 'Banana, Peach and Mango Fruit Pouch'], 158937: ['Blueberries', 'Pineapple Spears', 'Strawberries', 'Blackberries', 'Red Seedless Grapes', 'Sinfully Sweet Campari Tomatoes', 'Organic Spring Mix', 'Raspberries'], 159853: ['Organic Whole Grassmilk Milk', 'Organic Super Berry Juice', 'Organic Greens & Pineapple Juice Blend', 'Banana', 'Organic Roots Juice', 'Organic Blueberry B Mega', 'Organic Cold Pressed Carrot Juice', 'Mango CoGo Smoothie'], 159925: ['Stage 1 Apples & Strawberries Organic Pureed Baby Food', 'Italian Sparkling Mineral Water', 'Organic Baby Food Banana Beet & Blueberry', 'Mighty 4 Kale, Strawberry, Amaranth & Greek Yogurt Tots Snack', 'Wholesome Breakfast Blueberry Banana', 'Spring Water', 'Organic Kiwi', 'Whole Organic Omega 3 Milk'], 161810: ['Mini Seedless Watermelon Pack', 'Clementines', 'Baby Cucumbers', 'Hass Avocados', 'Strawberries', 'Corn Tortillas', 'Romaine Hearts', 'Sweet Kale Salad Mix', 'Organic 2% Milk', 'Raspberries'], 161994: ['Red Bell Peppers', 'Clementines', 'Whole Bean French Roast Dark Roast Blend Extra Bold Coffee', 'Hass Avocados', 'Gourmet Tomato Medley', 'Raspberries'], 162352: ['Granny Smith Apples', 'Dairy Pure Whole Milk', 'Sparkling Lemon Water', 'Banana', 'Lime Sparkling Water', 'Gala Apples', 'Sparkling Water Grapefruit'], 162844: ['Bag of Organic Bananas'], 165020: ['Hass Avocados', 'Fresh Asparagus', 'Raspberries'], 165302: ['Antioxidant Infusions Brasilia Blueberry', \"S'mores Luna Bar\", '100% Raw Coconut Water', 'Black Tea Variety Pack', 'Gluten Free Dark Chocolate Chunk Chewy with a Crunch Granola Bars', \"Kit's Organic Cashew Fruit & Nut Bar\", 'Sparkling Natural Spring Water', 'Banana Nut Bread Energy Bar', 'Bag of Organic Bananas', 'Skim Milk', 'Organic Protein Bar Cocoa Almond', 'Protein Bar Mint Chocolate', 'Peanut Butter & Jelly Fruit & Nut Food Bar', '2% Reduced Fat Milk', 'Banana', 'Small Macintosh Apple', 'Chocolate Sea Salt', 'Lime Sparkling Water', 'Mojo Peanut Butter Bar', 'Mojo Chocolate Almond Coconut Bar', 'Gluten Free Peanut Butter Dark Chocolate Chewy With a Crunch Granola Bars', \"Crunchy Peanut Butter Builder's Bar\", 'Organic Protein Cocoa Coconut Bar', '1 Apple + 1 Mango Fruit Bar', 'Sparkling Water Grapefruit', 'Organic Dark Chocolate Peanut Butter Trail Mix Bar', 'Whole Wheat Blueberry Fig Bars'], 165960: ['All Natural Lemonade'], 167611: ['Plus Cranberry Almond + Antioxidants with Macadamia Nuts Bar', 'Nuts & Spices, Dark Chocolate Mocha Almond', 'Total 2% All Natural Greek Strained Yogurt with Honey', 'Fat Free Strawberry Yogurt', 'Fat Free Blueberry Yogurt', 'Fruit & Nut Bar Raspberry Cashew & Chia', 'Banana', 'Total 0% with Honey Nonfat Greek Strained Yogurt', 'Half & Half', 'Organic Fuji Apple', 'Dark Chocolate Almond & Coconut Fruit & Nut Bar', 'Almond & Apricot Bar', 'Organic Gala Apples', 'Gluten Free Peanut Butter Dark Chocolate Chewy With a Crunch Granola Bars', 'Organic Granny Smith Apple'], 168128: ['Plain Soymilk Creamer', 'Creamy Wildflower Honey', 'Sparkling Water Berry', 'Banana', 'Organic Fuji Apple', 'Chocolate Almond & Sea Salt with Chia Granola Bars', 'Lime Sparkling Water', 'Sparkling Water Grapefruit'], 168925: ['Peach Parfait Breakfast Smoothie', 'Bag of Organic Bananas'], 169731: ['The Red ONe: Squished Fruit Smoothies', 'Imported Mineral Water', 'Organic Sticks Low Moisture Part Skim Mozzarella String Cheese', 'Smoothie Fruits Squished The Purple One Over 6 Months', 'Large Alfresco Eggs', 'Bag of Organic Bananas', 'Vanilla Skyr Nonfat Yogurt', 'Organic Raspberries', 'Icelandic Style Skyr Blueberry Non-fat Yogurt', 'Organic Fiber & Protein Pear Blueberry & Spinach Baby Food', 'Goat Milk', 'Fiber & Protein Organic Pears, Raspberries, Butternut Squash & Carrots Snack', 'Yogurt, Strained Low-Fat, Coconut', 'Organic Pearfecto Level 1 Baby Food', 'Pear Kiwi & Kale Baby Food', 'Grape White/Green Seedless', 'Organic Hass Avocado'], 172483: ['Grilled Chicken Breast', 'Natural Spring Water', 'Organic Frozen Peas', 'Wholesome Breakfast Blueberry Banana', 'Organic Strawberries', 'Banana', 'Organic Whole Milk'], 174403: ['Red Bell Peppers', 'Baby Cucumbers', 'Hass Avocados', 'Bag of Organic Bananas', 'Strawberries', 'Seltzer Water', 'Seedless Cucumbers'], 175139: ['Sparkling Spring Water', 'Organic Lemon', 'Bag of Organic Bananas', 'Organic Granny Smith Apple'], 175260: ['Stage 1 Apples Sweet Potatoes Pumpkin & Blueberries Organic Pureed Baby Food', 'Natural Artesian Water, Mini & Mobile', 'Banana', 'Organic 4 Months Butternut Squash Carrots Apples + Prunes Baby Food', 'Organic Apples, Carrots and Parsnips Puree', 'Organic Pears, Peas and Broccoli Puree Stage 1'], 175707: ['Strawberries', 'Spring Water', 'Drinking Water'], 177004: ['Hearts Of Palm', 'Baby Cucumbers', 'Hass Avocados', 'Bag of Organic Bananas', 'Seedless Cucumbers'], 177361: ['Mini Seedless Watermelon Pack', 'Clementines', 'Packaged Grape Tomatoes', 'Baby Cucumbers', 'Hass Avocados', 'Strawberries', 'Spring Water', 'Organic Low Fat Milk', 'Mineral Water', 'Raspberries'], 178632: ['Organic Milk Reduced Fat, 2% Milkfat', 'Organic Spinach Bunch', 'Organic Strawberries', 'Banana'], 179214: ['2% Reduced Fat DHA Omega-3 Reduced Fat Milk', 'Peach,  Apricot & Banana Stage 2 Baby Food', 'Bag of Organic Bananas', 'Organic Hass Avocado', 'Organic Garnet Sweet Potato (Yam)'], 179558: ['Sparkling Water Berry', 'Sparkling Lemon Water', 'Banana', 'Lime Sparkling Water', 'Sparkling Water Grapefruit'], 180962: ['Baked Aged White Cheddar Rice and Corn Puffs', 'Organic Mushroom & Olive Pizza', 'YoBaby Peach Pear Yogurt', 'Bag of Organic Bananas', 'YoKids Squeezers Organic Low-Fat Yogurt, Strawberry', 'Organic Ezekiel 4:9 Sesame Bread', 'Organic Kiwi', 'Organic Tomato Cluster'], 181555: ['Yogurt, Organic, Lowfat, Plain', 'Bag of Organic Bananas', 'Reduced Fat Milk 100% Lactose Free', 'Orange Juice', 'Apples, Kale & Avocados Organic Baby Food', 'Organic 21 Grain Thin Sliced Bread'], 182221: ['Tangerine', 'All Natural Apricot Sparkling Water', 'Peach Pear Flavored Sparkling Water', 'Passionfruit Sparkling Water', 'Sparkling Mineral Water', 'Cran Raspberry Sparkling Water', 'Orange Sparkling Water'], 185056: ['Half & Half', 'Organic Whole Milk', 'Spinach Peas & Pear Stage 2 Baby Food', 'Pear & Mango Stage 2 Baby Food'], 185562: ['Greek Whole Milk Blended Blueberry Yogurt', 'Seedless Red Grapes', 'Gluten Free Dark Chocolate Chunk Chewy with a Crunch Granola Bars', 'Organic Blue Corn Tortilla Chips', 'Oats & Honey Gluten Free Granola', 'Organic Strawberries', 'White Cheddar Semisoft Cheese', 'Banana', 'Boomchickapop Sea Salt Popcorn', 'Half & Half', 'Organic Whole Milk', 'Organic Gala Apples', 'Organic Blended Raspberry Whole Milk Greek Yogurt', 'Organic Blueberries', 'Organic Greek Whole Milk Blended Strawberry Yogurt', 'Gluten Free Dark Chocolate High Protein Bar', 'Whole Milk Greek Blended Vanilla Bean Yogurt', 'Organic Greek Plain Lowfat Yogurt', 'Organic Half & Half'], 187511: ['Organic Fuji Apples', 'Seedless Cucumbers'], 187723: ['Mini Original Babybel Cheese', 'Mascarpone'], 187956: ['Baby Cucumbers', 'Organic Strawberries', 'Seedless Small Watermelon', 'Organic Egg Whites', 'Sweet Kale Salad Mix'], 188129: ['Unsweet Blackberry Sparkling Water', 'Unsweetened Blackberry Water', 'Water, Unsweet, Blood Orange', 'Unsweetened Pomegranate Essence Water', 'Grapefruit Fizz Water', 'Lemon Ginger Sparkling Probiotic Drink', 'Raspberry Essence Water'], 188855: ['Blackberries', 'Raspberries'], 189220: ['Superfood Slam Bar', 'Truffle Popcorn', 'Honey Greek Yogurt', 'Pecan Pie Fruit & Nut Food Bar', 'Organic Brown Rice Snaps Unsalted Plain', 'Mediterranean Vegetable Chips', 'Banana', 'Original Hummus', 'Pumpkin Bar Sprouted Bar', 'Apple Pie Fruit & Nut Food Bar', 'Red Delicious Apple', 'Organic Small Bunch Celery'], 190517: ['Natural Spring Water', 'Bag of Organic Bananas', 'Natural Artesian Water', 'Organic Large Extra Fancy Fuji Apple', 'Spring Water', 'Organic Gala Apples', 'Organic Hass Avocado'], 192021: ['Distilled Water'], 193698: ['Organic Whole Grassmilk Milk', 'Smoothie Fruits Squished The Purple One Over 6 Months', 'Banana'], 193995: ['Pomegranate Blueberry Sparkling Water', 'Classic Lemonade', 'Pink Grapefruit', 'Banana'], 194964: ['Organic Low Fat Milk', 'Blackberries', 'Organic Blueberries'], 196932: ['Unsweet Peach Water', 'Unsweetened Strawberry Kiwi Water', 'Sparkling Mineral Water, Natural Lemon Flavor', 'Natural Lime Flavor Sparkling Mineral Water', 'Mango Grapefruit Water', 'Unsweetened Blackberry Water', 'Humboldt Fog', 'Unsweetened Pear Essence Water', 'Unsweet Pineapple Water', 'Midnight Moon', 'Jalapeno Hummus', 'Unsweetened Watermelon Water', 'Dark Chocolate Pretzels with Sea Salt', 'Water, Unsweet, Blood Orange', 'Unsweetened Pomegranate Essence Water', 'Peach Pear Flavored Sparkling Water', 'Double Chocolate Chip Cookies', 'Unsweetened Honeydew Essence Water', 'Water, Unsweet, Crisp Apple', 'Unsweetened Premium Iced Tea', 'Raspberry Essence Water', 'Very Berry Flavor Sparking Mineral Water'], 197502: ['Organic Original Hommus', 'Organic Fruit Yogurt Smoothie Mixed Berry', 'Bag of Organic Bananas', 'Love My Veg Banana, Beet, Squash, Blueberry', 'Blueberry Oats and Quinoa Whole Grain Snack', 'Organic Stage 4 Green Bean Pear & Pea Baby Food', 'Organic Pears, Apples, Peaches, Pumpkin + Cinnamon Fiber & Protein Snack', 'Organic Mashups Mixed Berry', 'Organic Whole Milk', 'Organic Fiber & Protein Pear Blueberry & Spinach Baby Food', 'Fiber & Protein Organic Pears, Raspberries, Butternut Squash & Carrots Snack', 'Guacamole', 'Pear Kiwi & Kale Baby Food'], 198729: ['Watermelon Chunks', 'Red Machine Juice Smoothie', 'Organic Raspberries', 'Organic Raw Kombucha Gingerade', 'Umcka Cold+Flu Chewable Tablets Berry Flavor - 20 CT', 'Cold-pressed, Deliciously Hydrating Watermelon Water', 'Apple Lemon Cayenne Ginger', 'Natural Pure Sparkling Water', 'Trilogy Kombucha Drink'], 199735: [], 201315: ['Bag of Organic Bananas'], 202401: ['Broccoli Florettes', 'Strawberries', 'Blackberries', 'Rainbow Bell Peppers', 'Grilled Chicken Strips', 'Raspberries'], 202915: ['Total 2% Lowfat Greek Strained Yogurt With Blueberry', 'Organic Reduced Fat 2% Milk', 'Organic & Raw Strawberry Serenity Kombucha', 'Synergy Organic & Raw Cosmic Cranberry', 'Organic Raw Multigreen Kobmbucha', 'Dark Chocolate Mint Snacking Chocolate', 'Kombucha, Organic Raw, Citrus', 'Organic String Cheese', 'Icelandic Style Skyr Blueberry Non-fat Yogurt', 'Organic Peeled Whole Baby Carrots', 'Trilogy Kombucha Drink'], 202993: ['Synergy Organic & Raw Green Chia Kombucha', '100% Raw Coconut Water', 'Italian Sparkling Mineral Water', 'Organic & Raw Strawberry Serenity Kombucha', 'Brown Eggs', 'Synergy Organic & Raw Cosmic Cranberry', 'Bing Cherries', 'Strawberries', 'Kombucha, Organic Raw, Lavender No. 3', 'Organic Strawberries', 'Millennium Organic Cherry Chia Synergy Kombucha', 'Banana', 'Red Mango', 'Organic Granny Smith Apple', 'Vine Ripe Tomatoes', 'Chocolate Eclair', 'Egg Salad', 'Grape White/Green Seedless', 'Organic Hass Avocado', 'Synergy Organic Kombucha Gingerberry'], 203305: ['Spring Water', 'Organic Fuji Apple', 'Sparkling Mineral Water'], 203750: ['Packaged Grape Tomatoes', 'Organic Spring Mix'], 204090: ['Seedless Red Grapes', 'Clementines', 'Packaged Grape Tomatoes', 'Hass Avocados', 'Bag of Organic Bananas', 'Sliced Muenster Cheese', 'Golden Pineapple'], 204236: ['Clementines'], 205273: ['Hass Avocados', 'Bag of Organic Bananas', 'Seedless Cucumbers'], 205374: ['Gluten Free SpongeBob Spinach Littles', 'Sesame Street Organic Homestyle Mini Pancakes', 'Banana', 'Cheddar Snack Crackers Cheddar Bunnies', 'Apples, Kale & Avocados Organic Baby Food', 'Organic Avocado']}\n"
     ]
    }
   ],
   "source": [
    "import gc\n",
    "import pandas as pd\n",
    "import statistics\n",
    "import pickle\n",
    "gc.enable()\n",
    "def rfc(filepath):\n",
    "    orders = pd.read_csv(filepath + '/sample_order.csv')\n",
    "    order_products = pd.read_csv(filepath + '/sample_order_products.csv')\n",
    "    products = pd.read_csv(filepath + '/products.csv')\n",
    "    orders['eval_set'] = orders['eval_set'].astype('category')\n",
    "\n",
    "    def average_perc(x):\n",
    "            order_reorder_prob = x.groupby('order_id')['reordered'].mean().to_frame('reorder_prob')\n",
    "            return pd.Series({'reorder_item_ratio_per_order': statistics.mean(order_reorder_prob['reorder_prob'])}) \n",
    "        \n",
    "\n",
    "    def preprocess():\n",
    "        order_product = orders.merge(order_products, on='order_id', how='inner')\n",
    "\n",
    "        user_total_orders = order_product.groupby('user_id').apply(lambda x: pd.Series({'total_orders': max(x['order_number'])})).reset_index()\n",
    "\n",
    "        user_reorder = order_product.groupby('user_id').apply(lambda x: pd.Series({'reorder_ratio' : statistics.mean(x['reordered'])})).reset_index()\n",
    "\n",
    "        order_product['days_since_prior_order'] = order_product['days_since_prior_order'].fillna(0)\n",
    "\n",
    "        user_last_order = order_product.groupby('user_id').apply(lambda x: pd.Series({'avg_day_since_last_reorder' : statistics.mean(x['days_since_prior_order'])})).reset_index()\n",
    "        \n",
    "        average_reorder = order_product.groupby(['user_id']).apply(average_perc).reset_index()\n",
    "\n",
    "        user = user_total_orders.merge(user_reorder, on='user_id', how='left')\n",
    "        user = user.merge(user_last_order, on='user_id', how='left')\n",
    "        user = user.merge(average_reorder, on='user_id', how='left')\n",
    "\n",
    "        del user_reorder\n",
    "        del user_last_order\n",
    "        del average_reorder\n",
    "        gc.collect()\n",
    "\n",
    "        product_total_purchase = order_product.groupby('product_id').apply(lambda x: pd.Series({'total_purchase': len(x['order_id'])})).reset_index()\n",
    "        product_reorder_ratio = order_product.groupby('product_id').apply(lambda x: pd.Series({'reorder_prob': statistics.mean(x['reordered'])})).reset_index()\n",
    "        product = product_total_purchase.merge(product_reorder_ratio, on='product_id', how='left')\n",
    "        del product_reorder_ratio\n",
    "        del product_total_purchase\n",
    "\n",
    "        gc.collect()\n",
    "\n",
    "        total_bought = order_product.groupby(['user_id', 'product_id'])['order_id'].count().to_frame('total_bought').reset_index()\n",
    "\n",
    "        data = total_bought.merge(user, on='user_id', how='left')\n",
    "        data = data.merge(product, on='product_id', how='left')\n",
    "        data['reorder_prob'] = data['reorder_prob'].fillna(0)\n",
    "\n",
    "        del user\n",
    "        del product\n",
    "        del total_bought\n",
    "\n",
    "        data = data.set_index(['user_id', 'product_id'])\n",
    "\n",
    "        \n",
    "\n",
    "        return data\n",
    "\n",
    "    rfc_model = pickle.load(open('rfc_model.sav', 'rb'))\n",
    "    data = preprocess()\n",
    "    pred = (rfc_model.predict_proba(data)[:,1] >= 0.30).astype(int)\n",
    "    data['pred_reorder'] = pred\n",
    "    data = data.reset_index()\n",
    "    pred_user = data.groupby('user_id').apply(lambda x: pd.Series({'product_list': [x[x['pred_reorder'] == 1]['product_id']]})).reset_index()\n",
    "    products = products[['product_id', 'product_name']]\n",
    "    result = {}\n",
    "    for index, row in pred_user.iterrows():\n",
    "        temp = []\n",
    "        for i in row['product_list'][0]:\n",
    "            temp.append(products[products['product_id'] == i]['product_name'].array[0])\n",
    "        result[row['user_id']] = temp\n",
    "\n",
    "    return result\n",
    "\n",
    "fp = './Sample Data'\n",
    "pred = rfc(fp)"
   ]
  },
  {
   "cell_type": "code",
   "execution_count": 32,
   "metadata": {
    "tags": []
   },
   "outputs": [
    {
     "output_type": "stream",
     "name": "stdout",
     "text": [
      "Organic Turkey Burgers\n"
     ]
    }
   ],
   "source": [
    "products = pd.read_csv('./Sample Data/products.csv')\n",
    "products = products[['product_id', 'product_name']]\n",
    "print(products[products['product_id'] == 23]['product_name'])\n",
    "result = {}\n",
    "# for index, row in pred.iterrows():\n",
    "#     # temp = []\n",
    "#     for i in row[0]:\n",
    "#         print(products[products['product_id'] == i]['product_name'])\n",
    "#     # result[row['user_id']] = temp"
   ]
  },
  {
   "cell_type": "markdown",
   "metadata": {},
   "source": [
    "# Code to run whole system"
   ]
  },
  {
   "cell_type": "code",
   "execution_count": 3,
   "metadata": {
    "scrolled": true
   },
   "outputs": [
    {
     "output_type": "error",
     "ename": "NameError",
     "evalue": "name 'customerSegmentation' is not defined",
     "traceback": [
      "\u001b[1;31m---------------------------------------------------------------------------\u001b[0m",
      "\u001b[1;31mNameError\u001b[0m                                 Traceback (most recent call last)",
      "\u001b[1;32m<ipython-input-3-c47c5f6c8f85>\u001b[0m in \u001b[0;36m<module>\u001b[1;34m\u001b[0m\n\u001b[0;32m      3\u001b[0m \u001b[0mfp\u001b[0m \u001b[1;33m=\u001b[0m \u001b[1;34m'./Sample Data'\u001b[0m\u001b[1;33m\u001b[0m\u001b[1;33m\u001b[0m\u001b[0m\n\u001b[0;32m      4\u001b[0m \u001b[1;31m# getting customer clusters with two columns (user_id, label)\u001b[0m\u001b[1;33m\u001b[0m\u001b[1;33m\u001b[0m\u001b[1;33m\u001b[0m\u001b[0m\n\u001b[1;32m----> 5\u001b[1;33m \u001b[0mcustomercluster\u001b[0m \u001b[1;33m=\u001b[0m \u001b[0mcustomerSegmentation\u001b[0m\u001b[1;33m(\u001b[0m\u001b[0mfp\u001b[0m\u001b[1;33m)\u001b[0m\u001b[1;33m;\u001b[0m\u001b[1;33m\u001b[0m\u001b[1;33m\u001b[0m\u001b[0m\n\u001b[0m",
      "\u001b[1;31mNameError\u001b[0m: name 'customerSegmentation' is not defined"
     ]
    }
   ],
   "source": [
    "# file path for the sample data folder\n",
    "# fp = 'C:/Users/lyn02/Desktop/CMPE255 Project/Sample Data';\n",
    "fp = './Sample Data'\n",
    "# getting customer clusters with two columns (user_id, label)\n",
    "customercluster = customerSegmentation(fp);"
   ]
  },
  {
   "cell_type": "code",
   "execution_count": 23,
   "metadata": {},
   "outputs": [
    {
     "data": {
      "text/html": [
       "<div>\n",
       "<style scoped>\n",
       "    .dataframe tbody tr th:only-of-type {\n",
       "        vertical-align: middle;\n",
       "    }\n",
       "\n",
       "    .dataframe tbody tr th {\n",
       "        vertical-align: top;\n",
       "    }\n",
       "\n",
       "    .dataframe thead th {\n",
       "        text-align: right;\n",
       "    }\n",
       "</style>\n",
       "<table border=\"1\" class=\"dataframe\">\n",
       "  <thead>\n",
       "    <tr style=\"text-align: right;\">\n",
       "      <th></th>\n",
       "      <th>user_id</th>\n",
       "      <th>label</th>\n",
       "    </tr>\n",
       "  </thead>\n",
       "  <tbody>\n",
       "    <tr>\n",
       "      <th>0</th>\n",
       "      <td>21</td>\n",
       "      <td>1</td>\n",
       "    </tr>\n",
       "    <tr>\n",
       "      <th>1</th>\n",
       "      <td>28</td>\n",
       "      <td>1</td>\n",
       "    </tr>\n",
       "    <tr>\n",
       "      <th>2</th>\n",
       "      <td>36</td>\n",
       "      <td>1</td>\n",
       "    </tr>\n",
       "    <tr>\n",
       "      <th>3</th>\n",
       "      <td>54</td>\n",
       "      <td>1</td>\n",
       "    </tr>\n",
       "    <tr>\n",
       "      <th>4</th>\n",
       "      <td>63</td>\n",
       "      <td>1</td>\n",
       "    </tr>\n",
       "    <tr>\n",
       "      <th>...</th>\n",
       "      <td>...</td>\n",
       "      <td>...</td>\n",
       "    </tr>\n",
       "    <tr>\n",
       "      <th>245</th>\n",
       "      <td>203750</td>\n",
       "      <td>1</td>\n",
       "    </tr>\n",
       "    <tr>\n",
       "      <th>246</th>\n",
       "      <td>204090</td>\n",
       "      <td>1</td>\n",
       "    </tr>\n",
       "    <tr>\n",
       "      <th>247</th>\n",
       "      <td>204236</td>\n",
       "      <td>1</td>\n",
       "    </tr>\n",
       "    <tr>\n",
       "      <th>248</th>\n",
       "      <td>205273</td>\n",
       "      <td>1</td>\n",
       "    </tr>\n",
       "    <tr>\n",
       "      <th>249</th>\n",
       "      <td>205374</td>\n",
       "      <td>0</td>\n",
       "    </tr>\n",
       "  </tbody>\n",
       "</table>\n",
       "<p>250 rows × 2 columns</p>\n",
       "</div>"
      ],
      "text/plain": [
       "     user_id  label\n",
       "0         21      1\n",
       "1         28      1\n",
       "2         36      1\n",
       "3         54      1\n",
       "4         63      1\n",
       "..       ...    ...\n",
       "245   203750      1\n",
       "246   204090      1\n",
       "247   204236      1\n",
       "248   205273      1\n",
       "249   205374      0\n",
       "\n",
       "[250 rows x 2 columns]"
      ]
     },
     "execution_count": 23,
     "metadata": {},
     "output_type": "execute_result"
    }
   ],
   "source": [
    "customercluster"
   ]
  },
  {
   "cell_type": "code",
   "execution_count": 3,
   "metadata": {},
   "outputs": [
    {
     "output_type": "stream",
     "name": "stdout",
     "text": [
      "[[0.97424746 0.02575254]\n [0.9909503  0.0090497 ]\n [0.9909503  0.0090497 ]\n ...\n [0.92096491 0.07903509]\n [0.86570483 0.13429517]\n [0.96997973 0.03002027]]\n"
     ]
    }
   ],
   "source": [
    "fp = './Sample Data'\n",
    "rfc(fp)"
   ]
  }
 ],
 "metadata": {
  "kernelspec": {
   "display_name": "Python 3",
   "language": "python",
   "name": "python3"
  },
  "language_info": {
   "codemirror_mode": {
    "name": "ipython",
    "version": 3
   },
   "file_extension": ".py",
   "mimetype": "text/x-python",
   "name": "python",
   "nbconvert_exporter": "python",
   "pygments_lexer": "ipython3",
   "version": "3.8.3-final"
  }
 },
 "nbformat": 4,
 "nbformat_minor": 4
}