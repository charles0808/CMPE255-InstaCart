{
 "cells": [
  {
   "cell_type": "markdown",
   "metadata": {},
   "source": [
    "# Customer Segmentation by Dongmei Yin"
   ]
  },
  {
   "cell_type": "code",
   "execution_count": 25,
   "metadata": {},
   "outputs": [],
   "source": [
    "import pandas as pd\n",
    "import numpy as np\n",
    "import pickle\n",
    "from sklearn.decomposition import PCA\n",
    "from sklearn.cluster import KMeans\n",
    "\n",
    "def customerSegmentation(filepath):\n",
    "    # Part1: read in raw data with provided filepah\n",
    "    aisle = pd.read_csv(filepath + '/aisles.csv')\n",
    "    department = pd.read_csv(filepath + '/departments.csv')\n",
    "    order_products = pd.read_csv(filepath + '/sample_order_products.csv')\n",
    "    orders = pd.read_csv(filepath + '/sample_order.csv')\n",
    "    products = pd.read_csv(filepath + '/products.csv')\n",
    "    aisle_match = pd.read_csv(filepath + '/final_aisle_match.csv');\n",
    "    \n",
    "    # Part 2: data preprocessing\n",
    "    \n",
    "    # Take out orderID and productID from both train and prior table and merge them into one order_products_id table\n",
    "    order_products_id = order_products[['order_id','product_id']]\n",
    "    # take out orderID and userID from orders table\n",
    "    order_user_id = orders[['order_id','user_id']]\n",
    "    # get total order count for each user\n",
    "    user_order_count = order_user_id[['user_id','order_id']]\n",
    "    user_order_count = user_order_count.groupby(['user_id']).agg({'order_id': 'count'}).reset_index()\n",
    "    user_order_count.rename(columns={\"order_id\": \"order_count\"}, inplace=True)\n",
    "    #combine order_products and products table to see what aisle each product belongs for each order\n",
    "    order_product_aisle = order_products_id.merge(products,on='product_id')\n",
    "    #from order_product_aisle table, only select orderID and aisleID to aggregate some data since we only deal with \n",
    "    #aisle level granularity\n",
    "    #In addition, count of products from each aisle for each order is kept\n",
    "    order_aisle_id = order_product_aisle[['order_id','aisle_id']]\n",
    "    order_aisle_id['aisle_id2'] = order_product_aisle['aisle_id']\n",
    "    order_aisle_count = order_aisle_id.groupby(['order_id','aisle_id']).agg({'aisle_id2': 'count'}).reset_index()\n",
    "    order_aisle_count.rename(columns={\"aisle_id2\": \"product_count\"}, inplace=True)\n",
    "    #join order_user_id table and order_aisle_count table to see which order belongs to which user\n",
    "    order_user_aisle = order_aisle_count.merge(order_user_id, on='order_id')\n",
    "    #from order_user_aisle table, take out orderID and group by user_id, aisle_id\n",
    "    user_aisle_id = order_user_aisle[['user_id','aisle_id','product_count']]\n",
    "    user_aisle_count = user_aisle_id.groupby(['user_id','aisle_id']).agg({'product_count': 'sum'}).reset_index()\n",
    "    # user_aisle_count right join user_order_count \n",
    "    user_aisle_order_count= user_aisle_count.merge(user_order_count, how='right',on='user_id')\n",
    "    # final aisle grouping along with filtration of essential aisles\n",
    "    new_user_aisle_order_count = user_aisle_order_count.merge(aisle_match, how='inner', on='aisle_id')\n",
    "    new_user_aisle_order_count = new_user_aisle_order_count[['user_id','new_aisle_ID','product_count','order_count']]\n",
    "    new_user_aisle_order_count = new_user_aisle_order_count.groupby(['user_id','new_aisle_ID']).agg({'product_count':'sum','order_count':'sum'}).reset_index()\n",
    "    # divide product count by order count to get for aisle, how many products on average each customer would buy per order\n",
    "    new_user_aisle_order_count['avg'] = new_user_aisle_order_count['product_count']/new_user_aisle_order_count['order_count']\n",
    "    user_aisle_avgCount_annual = new_user_aisle_order_count[['user_id','new_aisle_ID','avg']]\n",
    "    # get final data\n",
    "    data = pd.pivot_table(user_aisle_avgCount_annual, values='avg', index=['user_id'],columns=['new_aisle_ID'], aggfunc=np.sum, fill_value=0)\n",
    "    data.reset_index(inplace=True)\n",
    "                                                                                                    \n",
    "    # index match\n",
    "    index_match = data['user_id']\n",
    "    data.set_index('user_id', inplace=True)\n",
    "    \n",
    "    # Model prediction\n",
    "    # apply principal component analysis to reduce the dimension from 69 to 34 dimensions\n",
    "    pca = PCA(n_components=34)\n",
    "    pca_34 = pca.fit_transform(data)\n",
    "    pca_34_90percent = pd.DataFrame(pca_34)\n",
    "                                                                                                     \n",
    "    # load the model from disk and predict on the data\n",
    "    filename = 'customer_segmentation_model.sav'\n",
    "    loaded_model = pickle.load(open(filename, 'rb'))\n",
    "    y_kmean = loaded_model.predict(pca_34_90percent)\n",
    "    result = pca_34_90percent.copy(deep=True)\n",
    "    result.reset_index(inplace=True)\n",
    "    result.insert(1,'label',y_kmean)\n",
    "    result = result.rename(columns = {'index':'X'})\n",
    "    result = result[['X','label']]\n",
    "    index_match = pd.DataFrame(index_match)\n",
    "    index_match.reset_index(inplace=True)\n",
    "    index_match = index_match.rename(columns = {'index':'X'})\n",
    "    result = index_match.merge(result, on = 'X')\n",
    "    result = result[['user_id','label']]\n",
    "                                                                                                     \n",
    "    return result\n",
    "\n"
   ]
  },
  {
   "cell_type": "markdown",
   "metadata": {},
   "source": [
    "# basket analysis (Apriori version) by Yilin Zhou"
   ]
  },
  {
   "cell_type": "code",
   "execution_count": 71,
   "metadata": {},
   "outputs": [],
   "source": [
    "import time\n",
    "from mlxtend.preprocessing import TransactionEncoder\n",
    "from mlxtend.frequent_patterns import apriori, fpmax, fpgrowth\n",
    "from mlxtend.frequent_patterns import association_rules\n",
    "\n",
    "def basket_analysis(filepath):\n",
    "    aisle = pd.read_csv(filepath + '/aisles.csv')\n",
    "    department = pd.read_csv(filepath + '/departments.csv')\n",
    "    order_products = pd.read_csv(filepath + '/sample_order_products.csv')\n",
    "    orders = pd.read_csv(filepath + '/sample_order.csv')\n",
    "    products = pd.read_csv(filepath + '/products.csv')\n",
    "    \n",
    "    def transform_frequentItem_to_product(frequent_itemsets):\n",
    "        arr_relation=frequent_itemsets.values\n",
    "        final_arr = []\n",
    "        for item in arr_relation:\n",
    "            arr = []\n",
    "            for it in item[1]:\n",
    "                arr.append(products[products['product_id' ]== it]['product_name'].values[0])\n",
    "            final_arr.append(arr)\n",
    "        return final_arr\n",
    "    \n",
    "    # order,product and user table\n",
    "    order_user_id = orders[['order_id','user_id']]\n",
    "    user_product_id=order_user_id.merge(order_products,left_on='order_id', right_on='order_id')\n",
    "    # find top 3 aisle_id\n",
    "    aisle_ids = []\n",
    "    aisle_arr = aisle[aisle['aisle'].isin(['fresh fruits','fresh vegetables','packaged vegetables fruits'])].values\n",
    "    for item in aisle_arr:\n",
    "        aisle_ids.append(item[0])\n",
    "    # product in those 3 aisle\n",
    "    product_ids = []\n",
    "    product_arr = products[products['aisle_id'].isin(aisle_ids)].values\n",
    "    for item in product_arr:\n",
    "        product_ids.append(item[0])\n",
    "    # user,product and user table after removing those products\n",
    "    user_product_id = user_product_id[~user_product_id['product_id'].isin(product_ids)]\n",
    "    return user_product_id\n",
    "    \n",
    "def returnProduct(filepath,i,minSup,minCon):\n",
    "    aisle = pd.read_csv(filepath + '/aisles.csv')\n",
    "    department = pd.read_csv(filepath + '/departments.csv')\n",
    "    order_products = pd.read_csv(filepath + '/sample_order_products.csv')\n",
    "    orders = pd.read_csv(filepath + '/sample_order.csv')\n",
    "    products = pd.read_csv(filepath + '/products.csv')\n",
    "    def Apriori(user_product_part1):\n",
    "    \n",
    "        user_product_dic={}\n",
    "        for item in user_product_part1.itertuples():\n",
    "            if(user_product_dic.get(item[2])):\n",
    "                user_product_dic[item[2]].append(item[3])\n",
    "            else:\n",
    "                user_product_dic[item[2]] = [] \n",
    "                user_product_dic[item[2]].append(item[3])\n",
    "        transaction = []\n",
    "        for item in user_product_dic:\n",
    "            transaction.append(user_product_dic[item])\n",
    "    #     print('transaction',transaction)\n",
    "        te = TransactionEncoder()\n",
    "        te_ary = te.fit(transaction).transform(transaction)\n",
    "    #     print('te_ary',te_ary)\n",
    "        df = pd.DataFrame(te_ary, columns=te.columns_)\n",
    "        return df\n",
    "    \n",
    "    def transform_associationRule_to_product(association_rule):\n",
    "        relationship_rule = association_rule[['antecedents','consequents']]\n",
    "        arr_relation=relationship_rule.values\n",
    "        final_rules = []\n",
    "        for item in arr_relation:\n",
    "            pre_product_Arr = []\n",
    "            after_product_Arr = []\n",
    "            pre = item[0]\n",
    "            after = item[1]\n",
    "            for pre_item in pre:\n",
    "                pre_product_Arr.append(products[products['product_id' ]== pre_item]['product_name'].values[0])\n",
    "            for after_item in after:\n",
    "                after_product_Arr.append(products[products['product_id' ]== after_item]['product_name'].values[0])\n",
    "            tup = (pre_product_Arr,'----->',after_product_Arr)\n",
    "            final_rules.append(tup)\n",
    "        return final_rules\n",
    "    \n",
    "    customercluster = customerSegmentation(fp);\n",
    "    user_product_id = basket_analysis(fp);\n",
    "    ids = customercluster[customercluster['label']==i]['user_id'].values\n",
    "    user_product_part0 = user_product_id[user_product_id['user_id'].isin(ids)]\n",
    "    df = Apriori(user_product_part0)\n",
    "    frequent_itemsets0 = apriori(df, min_support=minSup, use_colnames=True)\n",
    "#     print('frequent_itemsets0',frequent_itemsets0)\n",
    "    association_rule0 = association_rules(frequent_itemsets0, metric=\"confidence\", min_threshold=minCon)\n",
    "#     print('association_rule0',association_rule0)\n",
    "    association_rule_trans = transform_associationRule_to_product(association_rule0)\n",
    "    for item in association_rule_trans:\n",
    "        print(item)\n",
    "#     print(association_rule_trans)"
   ]
  },
  {
   "cell_type": "code",
   "execution_count": 72,
   "metadata": {
    "scrolled": true
   },
   "outputs": [
    {
     "name": "stderr",
     "output_type": "stream",
     "text": [
      "/Users/zhouyilin/Library/Python/3.7/lib/python/site-packages/ipykernel_launcher.py:32: SettingWithCopyWarning: \n",
      "A value is trying to be set on a copy of a slice from a DataFrame.\n",
      "Try using .loc[row_indexer,col_indexer] = value instead\n",
      "\n",
      "See the caveats in the documentation: https://pandas.pydata.org/pandas-docs/stable/user_guide/indexing.html#returning-a-view-versus-a-copy\n"
     ]
    },
    {
     "name": "stdout",
     "output_type": "stream",
     "text": [
      "(['Broccoli & Apple Stage 2 Baby Food'], '----->', ['Spinach Peas & Pear Stage 2 Baby Food'])\n",
      "(['Spinach Peas & Pear Stage 2 Baby Food'], '----->', ['Broccoli & Apple Stage 2 Baby Food'])\n",
      "(['Baby Food Stage 2 Blueberry Pear & Purple Carrot'], '----->', ['Broccoli & Apple Stage 2 Baby Food'])\n",
      "(['Broccoli & Apple Stage 2 Baby Food'], '----->', ['Baby Food Stage 2 Blueberry Pear & Purple Carrot'])\n",
      "(['Peach,  Apricot & Banana Stage 2 Baby Food'], '----->', ['Spinach Peas & Pear Stage 2 Baby Food'])\n",
      "(['Spinach Peas & Pear Stage 2 Baby Food'], '----->', ['Peach,  Apricot & Banana Stage 2 Baby Food'])\n",
      "(['Peach,  Apricot & Banana Stage 2 Baby Food'], '----->', ['Baby Food Stage 2 Blueberry Pear & Purple Carrot'])\n",
      "(['Baby Food Stage 2 Blueberry Pear & Purple Carrot'], '----->', ['Peach,  Apricot & Banana Stage 2 Baby Food'])\n",
      "(['Stage 1 Apples Sweet Potatoes Pumpkin & Blueberries Organic Pureed Baby Food'], '----->', ['Squash & Sweet Peas Stage 2'])\n",
      "(['Squash & Sweet Peas Stage 2'], '----->', ['Stage 1 Apples Sweet Potatoes Pumpkin & Blueberries Organic Pureed Baby Food'])\n",
      "(['Stage 1 Apples Sweet Potatoes Pumpkin & Blueberries Organic Pureed Baby Food'], '----->', ['Organic Pears, Peas and Broccoli Puree Stage 1'])\n",
      "(['Organic Pears, Peas and Broccoli Puree Stage 1'], '----->', ['Stage 1 Apples Sweet Potatoes Pumpkin & Blueberries Organic Pureed Baby Food'])\n",
      "(['Baby Food Stage 2 Pumpkin Banana'], '----->', ['Spinach Peas & Pear Stage 2 Baby Food'])\n",
      "(['Spinach Peas & Pear Stage 2 Baby Food'], '----->', ['Baby Food Stage 2 Pumpkin Banana'])\n",
      "(['Sweeet Potato, Apple, Carrot & Cinnamon Organic Superfoods'], '----->', ['Organic Stage 4 Green Bean Pear & Pea Baby Food'])\n",
      "(['Organic Stage 4 Green Bean Pear & Pea Baby Food'], '----->', ['Sweeet Potato, Apple, Carrot & Cinnamon Organic Superfoods'])\n",
      "(['Organic Stage 4 Spinach Mango & Pear Baby Food'], '----->', ['Organic Stage 4 Green Bean Pear & Pea Baby Food'])\n",
      "(['Organic Stage 4 Green Bean Pear & Pea Baby Food'], '----->', ['Organic Stage 4 Spinach Mango & Pear Baby Food'])\n",
      "(['Organic Fiber & Protein Pear Blueberry & Spinach Baby Food'], '----->', ['Pear Kiwi & Kale Baby Food'])\n",
      "(['Pear Kiwi & Kale Baby Food'], '----->', ['Organic Fiber & Protein Pear Blueberry & Spinach Baby Food'])\n",
      "(['Baby Food Stage 2 Blueberry Pear & Purple Carrot'], '----->', ['Spinach Peas & Pear Stage 2 Baby Food'])\n",
      "(['Spinach Peas & Pear Stage 2 Baby Food'], '----->', ['Baby Food Stage 2 Blueberry Pear & Purple Carrot'])\n"
     ]
    }
   ],
   "source": [
    "fp = './Sample Data'\n",
    "returnProduct(fp,0,0.25,0.25)"
   ]
  },
  {
   "cell_type": "code",
   "execution_count": 73,
   "metadata": {},
   "outputs": [
    {
     "name": "stderr",
     "output_type": "stream",
     "text": [
      "/Users/zhouyilin/Library/Python/3.7/lib/python/site-packages/ipykernel_launcher.py:32: SettingWithCopyWarning: \n",
      "A value is trying to be set on a copy of a slice from a DataFrame.\n",
      "Try using .loc[row_indexer,col_indexer] = value instead\n",
      "\n",
      "See the caveats in the documentation: https://pandas.pydata.org/pandas-docs/stable/user_guide/indexing.html#returning-a-view-versus-a-copy\n"
     ]
    },
    {
     "name": "stdout",
     "output_type": "stream",
     "text": [
      "(['Clementines'], '----->', ['Raspberries'])\n",
      "(['Raspberries'], '----->', ['Clementines'])\n",
      "(['Packaged Grape Tomatoes'], '----->', ['Rainbow Bell Peppers'])\n",
      "(['Rainbow Bell Peppers'], '----->', ['Packaged Grape Tomatoes'])\n",
      "(['Raspberries'], '----->', ['Blueberries'])\n",
      "(['Blueberries'], '----->', ['Raspberries'])\n",
      "(['Raspberries'], '----->', ['Hass Avocados'])\n",
      "(['Hass Avocados'], '----->', ['Raspberries'])\n",
      "(['Sparkling Water Grapefruit'], '----->', ['Sparkling Water Berry'])\n",
      "(['Sparkling Water Berry'], '----->', ['Sparkling Water Grapefruit'])\n",
      "(['Sparkling Water Grapefruit'], '----->', ['Peach Pear Flavored Sparkling Water'])\n",
      "(['Peach Pear Flavored Sparkling Water'], '----->', ['Sparkling Water Grapefruit'])\n",
      "(['Sparkling Water Grapefruit'], '----->', ['Lime Sparkling Water'])\n",
      "(['Lime Sparkling Water'], '----->', ['Sparkling Water Grapefruit'])\n"
     ]
    }
   ],
   "source": [
    "returnProduct(fp,1,0.08,0.25)"
   ]
  },
  {
   "cell_type": "code",
   "execution_count": 74,
   "metadata": {},
   "outputs": [
    {
     "name": "stderr",
     "output_type": "stream",
     "text": [
      "/Users/zhouyilin/Library/Python/3.7/lib/python/site-packages/ipykernel_launcher.py:32: SettingWithCopyWarning: \n",
      "A value is trying to be set on a copy of a slice from a DataFrame.\n",
      "Try using .loc[row_indexer,col_indexer] = value instead\n",
      "\n",
      "See the caveats in the documentation: https://pandas.pydata.org/pandas-docs/stable/user_guide/indexing.html#returning-a-view-versus-a-copy\n"
     ]
    },
    {
     "name": "stdout",
     "output_type": "stream",
     "text": [
      "(['Trilogy Kombucha Drink'], '----->', ['Organic & Raw Strawberry Serenity Kombucha'])\n",
      "(['Organic & Raw Strawberry Serenity Kombucha'], '----->', ['Trilogy Kombucha Drink'])\n",
      "(['Synergy Organic & Raw Cosmic Cranberry'], '----->', ['Organic Raw Kombucha Gingerade'])\n",
      "(['Organic Raw Kombucha Gingerade'], '----->', ['Synergy Organic & Raw Cosmic Cranberry'])\n",
      "(['Synergy Organic & Raw Cosmic Cranberry'], '----->', ['Trilogy Kombucha Drink'])\n",
      "(['Trilogy Kombucha Drink'], '----->', ['Synergy Organic & Raw Cosmic Cranberry'])\n",
      "(['Organic Raw Kombucha Gingerade'], '----->', ['Trilogy Kombucha Drink'])\n",
      "(['Trilogy Kombucha Drink'], '----->', ['Organic Raw Kombucha Gingerade'])\n",
      "(['Trilogy Kombucha Drink'], '----->', ['Synergy Organic Kombucha Gingerberry'])\n",
      "(['Synergy Organic Kombucha Gingerberry'], '----->', ['Trilogy Kombucha Drink'])\n",
      "(['Synergy Organic & Raw Cosmic Cranberry', 'Organic Raw Kombucha Gingerade'], '----->', ['Trilogy Kombucha Drink'])\n",
      "(['Synergy Organic & Raw Cosmic Cranberry', 'Trilogy Kombucha Drink'], '----->', ['Organic Raw Kombucha Gingerade'])\n",
      "(['Organic Raw Kombucha Gingerade', 'Trilogy Kombucha Drink'], '----->', ['Synergy Organic & Raw Cosmic Cranberry'])\n",
      "(['Synergy Organic & Raw Cosmic Cranberry'], '----->', ['Organic Raw Kombucha Gingerade', 'Trilogy Kombucha Drink'])\n",
      "(['Organic Raw Kombucha Gingerade'], '----->', ['Synergy Organic & Raw Cosmic Cranberry', 'Trilogy Kombucha Drink'])\n",
      "(['Trilogy Kombucha Drink'], '----->', ['Synergy Organic & Raw Cosmic Cranberry', 'Organic Raw Kombucha Gingerade'])\n"
     ]
    }
   ],
   "source": [
    "returnProduct(fp,2,0.4,0.4)"
   ]
  },
  {
   "cell_type": "code",
   "execution_count": 75,
   "metadata": {},
   "outputs": [
    {
     "name": "stdout",
     "output_type": "stream",
     "text": [
      "(['Pomegranate Blueberry Pistachio Plus Antioxidants Fruit & Nut Bar'], '----->', ['Plus Cranberry Almond + Antioxidants with Macadamia Nuts Bar'])\n",
      "(['Plus Cranberry Almond + Antioxidants with Macadamia Nuts Bar'], '----->', ['Pomegranate Blueberry Pistachio Plus Antioxidants Fruit & Nut Bar'])\n",
      "(['Pomegranate Blueberry Pistachio Plus Antioxidants Fruit & Nut Bar'], '----->', ['Gluten Free Dark Chocolate Chunk Chewy with a Crunch Granola Bars'])\n",
      "(['Gluten Free Dark Chocolate Chunk Chewy with a Crunch Granola Bars'], '----->', ['Pomegranate Blueberry Pistachio Plus Antioxidants Fruit & Nut Bar'])\n",
      "(['Pomegranate Blueberry Pistachio Plus Antioxidants Fruit & Nut Bar'], '----->', ['Caramel Almond and Sea Salt Nut Bar'])\n",
      "(['Caramel Almond and Sea Salt Nut Bar'], '----->', ['Pomegranate Blueberry Pistachio Plus Antioxidants Fruit & Nut Bar'])\n",
      "(['Gluten Free Dark Chocolate Chunk Chewy with a Crunch Granola Bars'], '----->', ['Plus Cranberry Almond + Antioxidants with Macadamia Nuts Bar'])\n",
      "(['Plus Cranberry Almond + Antioxidants with Macadamia Nuts Bar'], '----->', ['Gluten Free Dark Chocolate Chunk Chewy with a Crunch Granola Bars'])\n",
      "(['Cool Mint Chocolate'], '----->', ['Chocolate Chip'])\n",
      "(['Chocolate Chip'], '----->', ['Cool Mint Chocolate'])\n",
      "(['Oats & Honey Gluten Free Granola'], '----->', ['Gluten Free Dark Chocolate Chunk Chewy with a Crunch Granola Bars'])\n",
      "(['Gluten Free Dark Chocolate Chunk Chewy with a Crunch Granola Bars'], '----->', ['Oats & Honey Gluten Free Granola'])\n",
      "(['Gluten Free Peanut Butter Dark Chocolate Chewy With a Crunch Granola Bars'], '----->', ['Gluten Free Dark Chocolate Chunk Chewy with a Crunch Granola Bars'])\n",
      "(['Gluten Free Dark Chocolate Chunk Chewy with a Crunch Granola Bars'], '----->', ['Gluten Free Peanut Butter Dark Chocolate Chewy With a Crunch Granola Bars'])\n",
      "(['Crunchy Peanut Butter Energy Bar'], '----->', ['Chocolate Chip'])\n",
      "(['Chocolate Chip'], '----->', ['Crunchy Peanut Butter Energy Bar'])\n"
     ]
    },
    {
     "name": "stderr",
     "output_type": "stream",
     "text": [
      "/Users/zhouyilin/Library/Python/3.7/lib/python/site-packages/ipykernel_launcher.py:32: SettingWithCopyWarning: \n",
      "A value is trying to be set on a copy of a slice from a DataFrame.\n",
      "Try using .loc[row_indexer,col_indexer] = value instead\n",
      "\n",
      "See the caveats in the documentation: https://pandas.pydata.org/pandas-docs/stable/user_guide/indexing.html#returning-a-view-versus-a-copy\n"
     ]
    }
   ],
   "source": [
    "returnProduct(fp,3,0.3,0.3)"
   ]
  },
  {
   "cell_type": "code",
   "execution_count": 76,
   "metadata": {},
   "outputs": [
    {
     "name": "stdout",
     "output_type": "stream",
     "text": [
      "(['Packaged Grape Tomatoes'], '----->', ['Clementines'])\n",
      "(['Clementines'], '----->', ['Packaged Grape Tomatoes'])\n",
      "(['Clementines'], '----->', ['Hass Avocados'])\n",
      "(['Hass Avocados'], '----->', ['Clementines'])\n",
      "(['Raspberries'], '----->', ['Clementines'])\n",
      "(['Clementines'], '----->', ['Raspberries'])\n",
      "(['Packaged Grape Tomatoes'], '----->', ['Hass Avocados'])\n",
      "(['Hass Avocados'], '----->', ['Packaged Grape Tomatoes'])\n",
      "(['Raspberries'], '----->', ['Hass Avocados'])\n",
      "(['Hass Avocados'], '----->', ['Raspberries'])\n"
     ]
    },
    {
     "name": "stderr",
     "output_type": "stream",
     "text": [
      "/Users/zhouyilin/Library/Python/3.7/lib/python/site-packages/ipykernel_launcher.py:32: SettingWithCopyWarning: \n",
      "A value is trying to be set on a copy of a slice from a DataFrame.\n",
      "Try using .loc[row_indexer,col_indexer] = value instead\n",
      "\n",
      "See the caveats in the documentation: https://pandas.pydata.org/pandas-docs/stable/user_guide/indexing.html#returning-a-view-versus-a-copy\n"
     ]
    }
   ],
   "source": [
    "returnProduct(fp,4,0.5,0.5)"
   ]
  },
  {
   "cell_type": "markdown",
   "metadata": {},
   "source": [
    "# Code to run whole system"
   ]
  },
  {
   "cell_type": "code",
   "execution_count": 22,
   "metadata": {
    "scrolled": true
   },
   "outputs": [
    {
     "name": "stderr",
     "output_type": "stream",
     "text": [
      "/Users/zhouyilin/Library/Python/3.7/lib/python/site-packages/ipykernel_launcher.py:32: SettingWithCopyWarning: \n",
      "A value is trying to be set on a copy of a slice from a DataFrame.\n",
      "Try using .loc[row_indexer,col_indexer] = value instead\n",
      "\n",
      "See the caveats in the documentation: https://pandas.pydata.org/pandas-docs/stable/user_guide/indexing.html#returning-a-view-versus-a-copy\n"
     ]
    }
   ],
   "source": [
    "# file path for the sample data folder\n",
    "# fp = 'C:/Users/lyn02/Desktop/CMPE255 Project/Sample Data';\n",
    "fp = './Sample Data'\n",
    "# getting customer clusters with two columns (user_id, label)\n",
    "customercluster = customerSegmentation(fp);"
   ]
  },
  {
   "cell_type": "code",
   "execution_count": 23,
   "metadata": {},
   "outputs": [
    {
     "data": {
      "text/html": [
       "<div>\n",
       "<style scoped>\n",
       "    .dataframe tbody tr th:only-of-type {\n",
       "        vertical-align: middle;\n",
       "    }\n",
       "\n",
       "    .dataframe tbody tr th {\n",
       "        vertical-align: top;\n",
       "    }\n",
       "\n",
       "    .dataframe thead th {\n",
       "        text-align: right;\n",
       "    }\n",
       "</style>\n",
       "<table border=\"1\" class=\"dataframe\">\n",
       "  <thead>\n",
       "    <tr style=\"text-align: right;\">\n",
       "      <th></th>\n",
       "      <th>user_id</th>\n",
       "      <th>label</th>\n",
       "    </tr>\n",
       "  </thead>\n",
       "  <tbody>\n",
       "    <tr>\n",
       "      <th>0</th>\n",
       "      <td>21</td>\n",
       "      <td>1</td>\n",
       "    </tr>\n",
       "    <tr>\n",
       "      <th>1</th>\n",
       "      <td>28</td>\n",
       "      <td>1</td>\n",
       "    </tr>\n",
       "    <tr>\n",
       "      <th>2</th>\n",
       "      <td>36</td>\n",
       "      <td>1</td>\n",
       "    </tr>\n",
       "    <tr>\n",
       "      <th>3</th>\n",
       "      <td>54</td>\n",
       "      <td>1</td>\n",
       "    </tr>\n",
       "    <tr>\n",
       "      <th>4</th>\n",
       "      <td>63</td>\n",
       "      <td>1</td>\n",
       "    </tr>\n",
       "    <tr>\n",
       "      <th>...</th>\n",
       "      <td>...</td>\n",
       "      <td>...</td>\n",
       "    </tr>\n",
       "    <tr>\n",
       "      <th>245</th>\n",
       "      <td>203750</td>\n",
       "      <td>1</td>\n",
       "    </tr>\n",
       "    <tr>\n",
       "      <th>246</th>\n",
       "      <td>204090</td>\n",
       "      <td>1</td>\n",
       "    </tr>\n",
       "    <tr>\n",
       "      <th>247</th>\n",
       "      <td>204236</td>\n",
       "      <td>1</td>\n",
       "    </tr>\n",
       "    <tr>\n",
       "      <th>248</th>\n",
       "      <td>205273</td>\n",
       "      <td>1</td>\n",
       "    </tr>\n",
       "    <tr>\n",
       "      <th>249</th>\n",
       "      <td>205374</td>\n",
       "      <td>0</td>\n",
       "    </tr>\n",
       "  </tbody>\n",
       "</table>\n",
       "<p>250 rows × 2 columns</p>\n",
       "</div>"
      ],
      "text/plain": [
       "     user_id  label\n",
       "0         21      1\n",
       "1         28      1\n",
       "2         36      1\n",
       "3         54      1\n",
       "4         63      1\n",
       "..       ...    ...\n",
       "245   203750      1\n",
       "246   204090      1\n",
       "247   204236      1\n",
       "248   205273      1\n",
       "249   205374      0\n",
       "\n",
       "[250 rows x 2 columns]"
      ]
     },
     "execution_count": 23,
     "metadata": {},
     "output_type": "execute_result"
    }
   ],
   "source": [
    "customercluster"
   ]
  },
  {
   "cell_type": "code",
   "execution_count": null,
   "metadata": {},
   "outputs": [],
   "source": []
  }
 ],
 "metadata": {
  "kernelspec": {
   "display_name": "Python 3",
   "language": "python",
   "name": "python3"
  },
  "language_info": {
   "codemirror_mode": {
    "name": "ipython",
    "version": 3
   },
   "file_extension": ".py",
   "mimetype": "text/x-python",
   "name": "python",
   "nbconvert_exporter": "python",
   "pygments_lexer": "ipython3",
   "version": "3.7.7"
  }
 },
 "nbformat": 4,
 "nbformat_minor": 4
}
