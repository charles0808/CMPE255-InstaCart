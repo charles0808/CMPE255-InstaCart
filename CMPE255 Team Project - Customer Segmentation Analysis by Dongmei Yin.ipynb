{
 "cells": [
  {
   "cell_type": "code",
   "execution_count": 1,
   "metadata": {},
   "outputs": [],
   "source": [
    "import pandas as pd\n",
    "import numpy as np\n",
    "import pickle\n",
    "\n",
    "aisle = pd.read_csv('C:/Users/lyn02/Desktop/CMPE255 Project/Raw Data/aisles.csv')\n",
    "department = pd.read_csv('C:/Users/lyn02/Desktop/CMPE255 Project/Raw Data/departments.csv')\n",
    "order_products_prior = pd.read_csv('C:/Users/lyn02/Desktop/CMPE255 Project/Raw Data/order_products__prior.csv')\n",
    "order_products_train = pd.read_csv('C:/Users/lyn02/Desktop/CMPE255 Project/Raw Data/order_products__train.csv')\n",
    "orders = pd.read_csv('C:/Users/lyn02/Desktop/CMPE255 Project/Raw Data/orders.csv')\n",
    "products = pd.read_csv('C:/Users/lyn02/Desktop/CMPE255 Project/Raw Data/products.csv')\n",
    "new_aisle_match = pd.read_csv('C:/Users/lyn02/Desktop/CMPE255 Project/Raw Data/new_aisle_matchV2.csv');"
   ]
  },
  {
   "cell_type": "code",
   "execution_count": 2,
   "metadata": {},
   "outputs": [],
   "source": [
    "# Take out orderID and productID from both train and prior table and merge them into one order_products_id table\n",
    "order_products_id1 = order_products_train[['order_id','product_id']]\n",
    "order_products_id2 = order_products_prior[['order_id','product_id']]\n",
    "order_products_id = order_products_id1.append(order_products_id2, ignore_index=True)\n",
    "#order_products_id"
   ]
  },
  {
   "cell_type": "code",
   "execution_count": 3,
   "metadata": {},
   "outputs": [],
   "source": [
    "# take out orderID and userID from orders table\n",
    "order_user_id = orders[['order_id','user_id']]\n",
    "#order_user_id"
   ]
  },
  {
   "cell_type": "code",
   "execution_count": 4,
   "metadata": {},
   "outputs": [],
   "source": [
    "# to see how many orders each user has altogether\n",
    "user_order_count = order_user_id[['user_id','order_id']]\n",
    "user_order_count = user_order_count.groupby(['user_id']).agg({'order_id': 'count'}).reset_index()\n",
    "user_order_count.rename(columns={\"order_id\": \"order_count\"}, inplace=True)\n",
    "#user_order_count"
   ]
  },
  {
   "cell_type": "markdown",
   "metadata": {},
   "source": [
    "# CUSTOMER SELECTION"
   ]
  },
  {
   "cell_type": "code",
   "execution_count": 5,
   "metadata": {},
   "outputs": [],
   "source": [
    "# If we assume a customer does grocery shopping at least once every other week\n",
    "# Among 206K customers, only 40K customers have transaction count more than 24\n",
    "# It would be better to use customers who has been shopping for a year for customer segregation since users with less\n",
    "# than this tx count might only introduce unnecessary noise to the data\n",
    "user_order_count_annual = user_order_count[user_order_count['order_count'] > 24]\n",
    "#user_order_count_annual"
   ]
  },
  {
   "cell_type": "code",
   "execution_count": 6,
   "metadata": {},
   "outputs": [],
   "source": [
    "#combine order_products and products table to see what aisle each product belongs for each order\n",
    "order_product_aisle = order_products_id.merge(products,on='product_id')\n",
    "#order_product_aisle"
   ]
  },
  {
   "cell_type": "code",
   "execution_count": 7,
   "metadata": {},
   "outputs": [],
   "source": [
    "# to see which aisle is most popular\n",
    "pd.set_option('display.max_rows', 134)\n",
    "aisle_product_count = order_product_aisle.groupby('aisle_id').agg({'product_id': 'count'})\n",
    "aisle_product_count = aisle_product_count.reset_index()\n",
    "aisle_product_count = aisle_product_count.sort_values('product_id', ascending=False)\n",
    "aisle_product_count = aisle_product_count.merge(aisle,on='aisle_id')\n",
    "aisle_product_count.rename(columns={\"product_id\": \"product_purchase_count\"}, inplace=True)\n",
    "total_product_count = sum(aisle_product_count['product_purchase_count'])\n",
    "aisle_product_count['percentage'] = aisle_product_count['product_purchase_count']/total_product_count\n",
    "#aisle_product_count\n",
    "#aisle_product_count.to_csv(r'C:\\Users\\lyn02\\Desktop\\CMPE255 Project\\aisle_product_count.csv', index = True)"
   ]
  },
  {
   "cell_type": "code",
   "execution_count": 8,
   "metadata": {},
   "outputs": [
    {
     "name": "stderr",
     "output_type": "stream",
     "text": [
      "<ipython-input-8-79b968723b9d>:5: SettingWithCopyWarning: \n",
      "A value is trying to be set on a copy of a slice from a DataFrame.\n",
      "Try using .loc[row_indexer,col_indexer] = value instead\n",
      "\n",
      "See the caveats in the documentation: https://pandas.pydata.org/pandas-docs/stable/user_guide/indexing.html#returning-a-view-versus-a-copy\n",
      "  order_aisle_id['aisle_id2'] = order_product_aisle['aisle_id']\n"
     ]
    }
   ],
   "source": [
    "#from order_product_aisle table, only select orderID and aisleID to aggregate some data since we only deal with \n",
    "#aisle level granularity\n",
    "#In addition, count of products from each aisle for each order is kept\n",
    "order_aisle_id = order_product_aisle[['order_id','aisle_id']]\n",
    "order_aisle_id['aisle_id2'] = order_product_aisle['aisle_id']\n",
    "#order_aisle_id\n",
    "order_aisle_count = order_aisle_id.groupby(['order_id','aisle_id']).agg({'aisle_id2': 'count'}).reset_index()\n",
    "order_aisle_count.rename(columns={\"aisle_id2\": \"product_count\"}, inplace=True)\n",
    "#order_aisle_count\n",
    "#print(sum(order_aisle_count['count']))"
   ]
  },
  {
   "cell_type": "code",
   "execution_count": 9,
   "metadata": {},
   "outputs": [],
   "source": [
    "#join order_user_id table and order_aisle_count table to see which order belongs to which user\n",
    "order_user_aisle = order_aisle_count.merge(order_user_id, on='order_id')\n",
    "#order_user_aisle"
   ]
  },
  {
   "cell_type": "code",
   "execution_count": 10,
   "metadata": {},
   "outputs": [],
   "source": [
    "#from order_user_aisle table, take out orderID and group by user_id, aisle_id\n",
    "user_aisle_id = order_user_aisle[['user_id','aisle_id','product_count']]\n",
    "user_aisle_count = user_aisle_id.groupby(['user_id','aisle_id']).agg({'product_count': 'sum'}).reset_index()\n",
    "#user_aisle_count"
   ]
  },
  {
   "cell_type": "code",
   "execution_count": 11,
   "metadata": {},
   "outputs": [],
   "source": [
    "# user_aisle_count right join user_order_count_annual \n",
    "user_aisle_order_count_annual = user_aisle_count.merge(user_order_count_annual, how='right',on='user_id')\n",
    "#user_aisle_order_count_annual"
   ]
  },
  {
   "cell_type": "code",
   "execution_count": 12,
   "metadata": {},
   "outputs": [],
   "source": [
    "\n",
    "# get total product count for each user each aisle\n",
    "user_aisle_order_count_annual['total_prod_count'] = user_aisle_order_count_annual['product_count']*user_aisle_order_count_annual['order_count']\n",
    "user_aisle_order_count_annual\n",
    "# look at what percentage of users would buy products from each aisle\n",
    "aisle_user = user_aisle_order_count_annual[['aisle_id','user_id','total_prod_count']]\n",
    "aisle_user = aisle_user.groupby(['aisle_id']).agg({'user_id':'count','total_prod_count': 'sum'}).reset_index()\n",
    "aisle_user.rename(columns={\"user_id\": 'user_count'}, inplace=True)\n",
    "aisle_user = aisle_user.sort_values('user_count', ascending=False)\n",
    "aisle_user = aisle_user.merge(aisle, how='left', on='aisle_id')\n",
    "total_user_count = 40211 # from previous step, total count of customers with more than 25 tx\n",
    "aisle_user['user_percent'] = aisle_user['user_count'] / total_user_count\n",
    "total_prod_count = sum(aisle_user['total_prod_count'])\n",
    "aisle_user['prod_percent'] = aisle_user['total_prod_count'] / total_prod_count\n",
    "#aisle_user"
   ]
  },
  {
   "cell_type": "code",
   "execution_count": 13,
   "metadata": {},
   "outputs": [],
   "source": [
    "#aisle_user[['aisle','user_percent']]"
   ]
  },
  {
   "cell_type": "markdown",
   "metadata": {},
   "source": [
    "# Aisle Grouping"
   ]
  },
  {
   "cell_type": "code",
   "execution_count": 14,
   "metadata": {},
   "outputs": [],
   "source": [
    "#aisle grouping\n",
    "new_user_aisle_order_count_annual = user_aisle_order_count_annual.merge(new_aisle_match, how='inner', on='aisle_id')\n",
    "#new_user_aisle_order_count_annual"
   ]
  },
  {
   "cell_type": "code",
   "execution_count": 15,
   "metadata": {},
   "outputs": [],
   "source": [
    "new_user_aisle_order_count_annual = new_user_aisle_order_count_annual[['user_id','new_aisle_ID','product_count','order_count','total_prod_count']]\n",
    "new_user_aisle_order_count_annual = new_user_aisle_order_count_annual.groupby(['user_id','new_aisle_ID']).agg({'product_count':'sum','order_count':'sum','total_prod_count': 'sum'}).reset_index()\n",
    "#new_user_aisle_order_count_annual.rename(columns={\"new_aisle_ID\": 'aisle_id'}, inplace=True)\n",
    "#new_user_aisle_order_count_annual"
   ]
  },
  {
   "cell_type": "code",
   "execution_count": 16,
   "metadata": {},
   "outputs": [],
   "source": [
    "#print(sum(new_user_aisle_order_count_annual['total_prod_count']))\n",
    "#print(sum(user_aisle_order_count_annual['total_prod_count']))"
   ]
  },
  {
   "cell_type": "code",
   "execution_count": 17,
   "metadata": {},
   "outputs": [],
   "source": [
    "# new_aisle_match = pd.read_csv('C:/Users/lyn02/Desktop/CMPE255 Project/Raw Data/new_aisle_match.csv');\n",
    "# look at what percentage of users would buy products from each aisle\n",
    "aisle_user = new_user_aisle_order_count_annual[['new_aisle_ID','user_id','total_prod_count']]\n",
    "aisle_user = aisle_user.groupby(['new_aisle_ID']).agg({'user_id':'count','total_prod_count': 'sum'}).reset_index()\n",
    "aisle_user.rename(columns={\"user_id\": 'user_count'}, inplace=True)\n",
    "aisle_user = aisle_user.sort_values('user_count', ascending=False)\n",
    "aisle_user = aisle_user.merge(new_aisle_match, how='left', on='new_aisle_ID')\n",
    "total_user_count = 40211 # from previous step, total count of customers with more than 24 tx\n",
    "aisle_user['user_percent'] = aisle_user['user_count'] / total_user_count\n",
    "total_prod_count = sum(aisle_user['total_prod_count'])\n",
    "aisle_user['prod_percent'] = aisle_user['total_prod_count'] / total_prod_count\n",
    "aisle_user = aisle_user[['new_aisle_ID', 'user_count', 'total_prod_count','aisle','user_percent','prod_percent']]\n",
    "aisle_user.drop_duplicates(inplace=True)\n",
    "#aisle_user"
   ]
  },
  {
   "cell_type": "code",
   "execution_count": 18,
   "metadata": {},
   "outputs": [],
   "source": [
    "#aisle_user[['aisle','user_percent']]"
   ]
  },
  {
   "cell_type": "code",
   "execution_count": 19,
   "metadata": {},
   "outputs": [],
   "source": [
    "#print(sum(aisle_user['total_prod_count']))"
   ]
  },
  {
   "cell_type": "markdown",
   "metadata": {},
   "source": [
    "# aisle filtering"
   ]
  },
  {
   "cell_type": "code",
   "execution_count": 20,
   "metadata": {},
   "outputs": [],
   "source": [
    "# if we assume that if more than 70% of the users buy from an aisle, it is an essential product aisle\n",
    "# we can exclude those aisles from the data since they wouldn't help much in differentiating customers into \n",
    "# different groups\n",
    "\n",
    "non_essential_aisle = aisle_user.loc[(aisle_user['user_percent'] < 0.7) & (aisle_user['new_aisle_ID'] != 55), 'new_aisle_ID']\n",
    "#non_essential_aisle = aisle_user.loc[(aisle_user['new_aisle_ID'] < 0.7), 'aisle_id']\n",
    "non_essential_aisle\n",
    "user_aisle_order_count_annual_nesse = new_user_aisle_order_count_annual.merge(non_essential_aisle, how='inner', on='new_aisle_ID')\n",
    "#user_aisle_order_count_annual_nesse"
   ]
  },
  {
   "cell_type": "code",
   "execution_count": 21,
   "metadata": {},
   "outputs": [],
   "source": [
    "# divide product count by order count to get for aisle, how many products on average each customer would buy per order\n",
    "user_aisle_order_count_annual_nesse['avg'] = user_aisle_order_count_annual_nesse['product_count']/user_aisle_order_count_annual_nesse['order_count']\n",
    "user_aisle_avgCount_annual = user_aisle_order_count_annual_nesse[['user_id','new_aisle_ID','avg']]\n",
    "#user_aisle_avgCount_annual"
   ]
  },
  {
   "cell_type": "code",
   "execution_count": 22,
   "metadata": {},
   "outputs": [
    {
     "data": {
      "text/html": [
       "<div>\n",
       "<style scoped>\n",
       "    .dataframe tbody tr th:only-of-type {\n",
       "        vertical-align: middle;\n",
       "    }\n",
       "\n",
       "    .dataframe tbody tr th {\n",
       "        vertical-align: top;\n",
       "    }\n",
       "\n",
       "    .dataframe thead th {\n",
       "        text-align: right;\n",
       "    }\n",
       "</style>\n",
       "<table border=\"1\" class=\"dataframe\">\n",
       "  <thead>\n",
       "    <tr style=\"text-align: right;\">\n",
       "      <th>new_aisle_ID</th>\n",
       "      <th>8</th>\n",
       "      <th>9</th>\n",
       "      <th>10</th>\n",
       "      <th>11</th>\n",
       "      <th>12</th>\n",
       "      <th>15</th>\n",
       "      <th>16</th>\n",
       "      <th>17</th>\n",
       "      <th>18</th>\n",
       "      <th>19</th>\n",
       "      <th>...</th>\n",
       "      <th>71</th>\n",
       "      <th>72</th>\n",
       "      <th>73</th>\n",
       "      <th>74</th>\n",
       "      <th>75</th>\n",
       "      <th>76</th>\n",
       "      <th>77</th>\n",
       "      <th>78</th>\n",
       "      <th>79</th>\n",
       "      <th>80</th>\n",
       "    </tr>\n",
       "    <tr>\n",
       "      <th>user_id</th>\n",
       "      <th></th>\n",
       "      <th></th>\n",
       "      <th></th>\n",
       "      <th></th>\n",
       "      <th></th>\n",
       "      <th></th>\n",
       "      <th></th>\n",
       "      <th></th>\n",
       "      <th></th>\n",
       "      <th></th>\n",
       "      <th></th>\n",
       "      <th></th>\n",
       "      <th></th>\n",
       "      <th></th>\n",
       "      <th></th>\n",
       "      <th></th>\n",
       "      <th></th>\n",
       "      <th></th>\n",
       "      <th></th>\n",
       "      <th></th>\n",
       "      <th></th>\n",
       "    </tr>\n",
       "  </thead>\n",
       "  <tbody>\n",
       "    <tr>\n",
       "      <th>17</th>\n",
       "      <td>0.878049</td>\n",
       "      <td>0.000000</td>\n",
       "      <td>0.756098</td>\n",
       "      <td>0.000000</td>\n",
       "      <td>0.341463</td>\n",
       "      <td>0.292683</td>\n",
       "      <td>0.000000</td>\n",
       "      <td>0.073171</td>\n",
       "      <td>0.000000</td>\n",
       "      <td>0.048780</td>\n",
       "      <td>...</td>\n",
       "      <td>0.0</td>\n",
       "      <td>0.0</td>\n",
       "      <td>0.000000</td>\n",
       "      <td>0.000000</td>\n",
       "      <td>0.780488</td>\n",
       "      <td>0.000000</td>\n",
       "      <td>0.000000</td>\n",
       "      <td>0.073171</td>\n",
       "      <td>0.0</td>\n",
       "      <td>0.0</td>\n",
       "    </tr>\n",
       "    <tr>\n",
       "      <th>21</th>\n",
       "      <td>0.382353</td>\n",
       "      <td>0.029412</td>\n",
       "      <td>0.764706</td>\n",
       "      <td>0.382353</td>\n",
       "      <td>0.073529</td>\n",
       "      <td>0.000000</td>\n",
       "      <td>0.147059</td>\n",
       "      <td>0.117647</td>\n",
       "      <td>0.029412</td>\n",
       "      <td>0.000000</td>\n",
       "      <td>...</td>\n",
       "      <td>0.0</td>\n",
       "      <td>0.0</td>\n",
       "      <td>0.117647</td>\n",
       "      <td>0.000000</td>\n",
       "      <td>0.088235</td>\n",
       "      <td>0.000000</td>\n",
       "      <td>0.000000</td>\n",
       "      <td>0.029412</td>\n",
       "      <td>0.0</td>\n",
       "      <td>0.0</td>\n",
       "    </tr>\n",
       "    <tr>\n",
       "      <th>27</th>\n",
       "      <td>1.134146</td>\n",
       "      <td>0.378049</td>\n",
       "      <td>0.000000</td>\n",
       "      <td>0.036585</td>\n",
       "      <td>0.000000</td>\n",
       "      <td>0.000000</td>\n",
       "      <td>1.707317</td>\n",
       "      <td>0.097561</td>\n",
       "      <td>0.000000</td>\n",
       "      <td>0.012195</td>\n",
       "      <td>...</td>\n",
       "      <td>0.0</td>\n",
       "      <td>0.0</td>\n",
       "      <td>0.000000</td>\n",
       "      <td>0.000000</td>\n",
       "      <td>0.000000</td>\n",
       "      <td>0.012195</td>\n",
       "      <td>0.000000</td>\n",
       "      <td>0.000000</td>\n",
       "      <td>0.0</td>\n",
       "      <td>0.0</td>\n",
       "    </tr>\n",
       "    <tr>\n",
       "      <th>28</th>\n",
       "      <td>0.040000</td>\n",
       "      <td>0.160000</td>\n",
       "      <td>0.120000</td>\n",
       "      <td>0.120000</td>\n",
       "      <td>0.120000</td>\n",
       "      <td>0.000000</td>\n",
       "      <td>0.000000</td>\n",
       "      <td>0.120000</td>\n",
       "      <td>0.040000</td>\n",
       "      <td>0.000000</td>\n",
       "      <td>...</td>\n",
       "      <td>0.0</td>\n",
       "      <td>0.0</td>\n",
       "      <td>0.000000</td>\n",
       "      <td>0.080000</td>\n",
       "      <td>0.000000</td>\n",
       "      <td>0.000000</td>\n",
       "      <td>0.000000</td>\n",
       "      <td>0.000000</td>\n",
       "      <td>0.0</td>\n",
       "      <td>0.0</td>\n",
       "    </tr>\n",
       "    <tr>\n",
       "      <th>36</th>\n",
       "      <td>0.421053</td>\n",
       "      <td>0.000000</td>\n",
       "      <td>0.000000</td>\n",
       "      <td>0.105263</td>\n",
       "      <td>0.000000</td>\n",
       "      <td>0.000000</td>\n",
       "      <td>0.000000</td>\n",
       "      <td>0.026316</td>\n",
       "      <td>0.052632</td>\n",
       "      <td>0.000000</td>\n",
       "      <td>...</td>\n",
       "      <td>0.0</td>\n",
       "      <td>0.0</td>\n",
       "      <td>0.763158</td>\n",
       "      <td>0.000000</td>\n",
       "      <td>0.000000</td>\n",
       "      <td>0.000000</td>\n",
       "      <td>0.763158</td>\n",
       "      <td>0.000000</td>\n",
       "      <td>0.0</td>\n",
       "      <td>0.0</td>\n",
       "    </tr>\n",
       "    <tr>\n",
       "      <th>...</th>\n",
       "      <td>...</td>\n",
       "      <td>...</td>\n",
       "      <td>...</td>\n",
       "      <td>...</td>\n",
       "      <td>...</td>\n",
       "      <td>...</td>\n",
       "      <td>...</td>\n",
       "      <td>...</td>\n",
       "      <td>...</td>\n",
       "      <td>...</td>\n",
       "      <td>...</td>\n",
       "      <td>...</td>\n",
       "      <td>...</td>\n",
       "      <td>...</td>\n",
       "      <td>...</td>\n",
       "      <td>...</td>\n",
       "      <td>...</td>\n",
       "      <td>...</td>\n",
       "      <td>...</td>\n",
       "      <td>...</td>\n",
       "      <td>...</td>\n",
       "    </tr>\n",
       "    <tr>\n",
       "      <th>206187</th>\n",
       "      <td>0.114286</td>\n",
       "      <td>0.057143</td>\n",
       "      <td>0.000000</td>\n",
       "      <td>0.028571</td>\n",
       "      <td>0.000000</td>\n",
       "      <td>0.000000</td>\n",
       "      <td>0.000000</td>\n",
       "      <td>0.057143</td>\n",
       "      <td>0.000000</td>\n",
       "      <td>0.028571</td>\n",
       "      <td>...</td>\n",
       "      <td>0.0</td>\n",
       "      <td>0.0</td>\n",
       "      <td>0.000000</td>\n",
       "      <td>0.000000</td>\n",
       "      <td>0.000000</td>\n",
       "      <td>0.000000</td>\n",
       "      <td>0.000000</td>\n",
       "      <td>0.000000</td>\n",
       "      <td>0.0</td>\n",
       "      <td>0.0</td>\n",
       "    </tr>\n",
       "    <tr>\n",
       "      <th>206193</th>\n",
       "      <td>0.023810</td>\n",
       "      <td>0.309524</td>\n",
       "      <td>0.238095</td>\n",
       "      <td>0.095238</td>\n",
       "      <td>0.119048</td>\n",
       "      <td>0.023810</td>\n",
       "      <td>0.000000</td>\n",
       "      <td>0.047619</td>\n",
       "      <td>0.023810</td>\n",
       "      <td>0.047619</td>\n",
       "      <td>...</td>\n",
       "      <td>0.0</td>\n",
       "      <td>0.0</td>\n",
       "      <td>0.000000</td>\n",
       "      <td>0.000000</td>\n",
       "      <td>0.000000</td>\n",
       "      <td>0.000000</td>\n",
       "      <td>0.000000</td>\n",
       "      <td>0.000000</td>\n",
       "      <td>0.0</td>\n",
       "      <td>0.0</td>\n",
       "    </tr>\n",
       "    <tr>\n",
       "      <th>206201</th>\n",
       "      <td>0.212121</td>\n",
       "      <td>0.000000</td>\n",
       "      <td>0.454545</td>\n",
       "      <td>0.242424</td>\n",
       "      <td>0.106061</td>\n",
       "      <td>0.212121</td>\n",
       "      <td>0.030303</td>\n",
       "      <td>0.030303</td>\n",
       "      <td>0.000000</td>\n",
       "      <td>0.090909</td>\n",
       "      <td>...</td>\n",
       "      <td>0.0</td>\n",
       "      <td>0.0</td>\n",
       "      <td>0.000000</td>\n",
       "      <td>0.181818</td>\n",
       "      <td>0.000000</td>\n",
       "      <td>0.000000</td>\n",
       "      <td>0.000000</td>\n",
       "      <td>0.000000</td>\n",
       "      <td>0.0</td>\n",
       "      <td>0.0</td>\n",
       "    </tr>\n",
       "    <tr>\n",
       "      <th>206206</th>\n",
       "      <td>0.014706</td>\n",
       "      <td>0.014706</td>\n",
       "      <td>0.191176</td>\n",
       "      <td>0.014706</td>\n",
       "      <td>0.808824</td>\n",
       "      <td>0.102941</td>\n",
       "      <td>0.279412</td>\n",
       "      <td>0.014706</td>\n",
       "      <td>0.000000</td>\n",
       "      <td>0.014706</td>\n",
       "      <td>...</td>\n",
       "      <td>0.0</td>\n",
       "      <td>0.0</td>\n",
       "      <td>0.000000</td>\n",
       "      <td>0.000000</td>\n",
       "      <td>0.000000</td>\n",
       "      <td>0.000000</td>\n",
       "      <td>0.000000</td>\n",
       "      <td>0.000000</td>\n",
       "      <td>0.0</td>\n",
       "      <td>0.0</td>\n",
       "    </tr>\n",
       "    <tr>\n",
       "      <th>206208</th>\n",
       "      <td>0.000000</td>\n",
       "      <td>0.480000</td>\n",
       "      <td>0.460000</td>\n",
       "      <td>0.040000</td>\n",
       "      <td>0.040000</td>\n",
       "      <td>0.040000</td>\n",
       "      <td>0.200000</td>\n",
       "      <td>0.100000</td>\n",
       "      <td>0.020000</td>\n",
       "      <td>0.440000</td>\n",
       "      <td>...</td>\n",
       "      <td>0.0</td>\n",
       "      <td>0.0</td>\n",
       "      <td>0.000000</td>\n",
       "      <td>0.000000</td>\n",
       "      <td>0.000000</td>\n",
       "      <td>0.000000</td>\n",
       "      <td>0.000000</td>\n",
       "      <td>0.000000</td>\n",
       "      <td>0.0</td>\n",
       "      <td>0.0</td>\n",
       "    </tr>\n",
       "  </tbody>\n",
       "</table>\n",
       "<p>40160 rows × 69 columns</p>\n",
       "</div>"
      ],
      "text/plain": [
       "new_aisle_ID        8         9         10        11        12        15  \\\n",
       "user_id                                                                    \n",
       "17            0.878049  0.000000  0.756098  0.000000  0.341463  0.292683   \n",
       "21            0.382353  0.029412  0.764706  0.382353  0.073529  0.000000   \n",
       "27            1.134146  0.378049  0.000000  0.036585  0.000000  0.000000   \n",
       "28            0.040000  0.160000  0.120000  0.120000  0.120000  0.000000   \n",
       "36            0.421053  0.000000  0.000000  0.105263  0.000000  0.000000   \n",
       "...                ...       ...       ...       ...       ...       ...   \n",
       "206187        0.114286  0.057143  0.000000  0.028571  0.000000  0.000000   \n",
       "206193        0.023810  0.309524  0.238095  0.095238  0.119048  0.023810   \n",
       "206201        0.212121  0.000000  0.454545  0.242424  0.106061  0.212121   \n",
       "206206        0.014706  0.014706  0.191176  0.014706  0.808824  0.102941   \n",
       "206208        0.000000  0.480000  0.460000  0.040000  0.040000  0.040000   \n",
       "\n",
       "new_aisle_ID        16        17        18        19  ...   71   72        73  \\\n",
       "user_id                                               ...                       \n",
       "17            0.000000  0.073171  0.000000  0.048780  ...  0.0  0.0  0.000000   \n",
       "21            0.147059  0.117647  0.029412  0.000000  ...  0.0  0.0  0.117647   \n",
       "27            1.707317  0.097561  0.000000  0.012195  ...  0.0  0.0  0.000000   \n",
       "28            0.000000  0.120000  0.040000  0.000000  ...  0.0  0.0  0.000000   \n",
       "36            0.000000  0.026316  0.052632  0.000000  ...  0.0  0.0  0.763158   \n",
       "...                ...       ...       ...       ...  ...  ...  ...       ...   \n",
       "206187        0.000000  0.057143  0.000000  0.028571  ...  0.0  0.0  0.000000   \n",
       "206193        0.000000  0.047619  0.023810  0.047619  ...  0.0  0.0  0.000000   \n",
       "206201        0.030303  0.030303  0.000000  0.090909  ...  0.0  0.0  0.000000   \n",
       "206206        0.279412  0.014706  0.000000  0.014706  ...  0.0  0.0  0.000000   \n",
       "206208        0.200000  0.100000  0.020000  0.440000  ...  0.0  0.0  0.000000   \n",
       "\n",
       "new_aisle_ID        74        75        76        77        78   79   80  \n",
       "user_id                                                                   \n",
       "17            0.000000  0.780488  0.000000  0.000000  0.073171  0.0  0.0  \n",
       "21            0.000000  0.088235  0.000000  0.000000  0.029412  0.0  0.0  \n",
       "27            0.000000  0.000000  0.012195  0.000000  0.000000  0.0  0.0  \n",
       "28            0.080000  0.000000  0.000000  0.000000  0.000000  0.0  0.0  \n",
       "36            0.000000  0.000000  0.000000  0.763158  0.000000  0.0  0.0  \n",
       "...                ...       ...       ...       ...       ...  ...  ...  \n",
       "206187        0.000000  0.000000  0.000000  0.000000  0.000000  0.0  0.0  \n",
       "206193        0.000000  0.000000  0.000000  0.000000  0.000000  0.0  0.0  \n",
       "206201        0.181818  0.000000  0.000000  0.000000  0.000000  0.0  0.0  \n",
       "206206        0.000000  0.000000  0.000000  0.000000  0.000000  0.0  0.0  \n",
       "206208        0.000000  0.000000  0.000000  0.000000  0.000000  0.0  0.0  \n",
       "\n",
       "[40160 rows x 69 columns]"
      ]
     },
     "execution_count": 22,
     "metadata": {},
     "output_type": "execute_result"
    }
   ],
   "source": [
    "data = pd.pivot_table(user_aisle_avgCount_annual, values='avg', index=['user_id'],columns=['new_aisle_ID'], aggfunc=np.sum, fill_value=0)\n",
    "data.reset_index(inplace=True)\n",
    "# index match\n",
    "index_match = data['user_id']\n",
    "#index_match\n",
    "data.set_index('user_id', inplace=True)\n",
    "\n",
    "data"
   ]
  },
  {
   "cell_type": "markdown",
   "metadata": {},
   "source": [
    "# Principal component analysis for dimension reduction"
   ]
  },
  {
   "cell_type": "code",
   "execution_count": 23,
   "metadata": {},
   "outputs": [
    {
     "data": {
      "text/plain": [
       "0.9382742693582159"
      ]
     },
     "execution_count": 23,
     "metadata": {},
     "output_type": "execute_result"
    }
   ],
   "source": [
    "# principal component analysis for dimension reduction\n",
    "from sklearn.decomposition import PCA\n",
    "pca = PCA(n_components=40)\n",
    "pca_50 = pca.fit_transform(data)\n",
    "np.sum(pca.explained_variance_ratio_)"
   ]
  },
  {
   "cell_type": "code",
   "execution_count": 24,
   "metadata": {},
   "outputs": [
    {
     "data": {
      "text/plain": [
       "0.9047129866332769"
      ]
     },
     "execution_count": 24,
     "metadata": {},
     "output_type": "execute_result"
    }
   ],
   "source": [
    "pca = PCA(n_components=34)\n",
    "pca_34 = pca.fit_transform(data)\n",
    "np.sum(pca.explained_variance_ratio_)"
   ]
  },
  {
   "cell_type": "code",
   "execution_count": 25,
   "metadata": {},
   "outputs": [],
   "source": [
    "pca_34_90percent = pd.DataFrame(pca_34)\n",
    "#pca_34_90percent"
   ]
  },
  {
   "cell_type": "markdown",
   "metadata": {},
   "source": [
    "# k-Means Clustering"
   ]
  },
  {
   "cell_type": "code",
   "execution_count": 26,
   "metadata": {},
   "outputs": [],
   "source": [
    "# k means clustering on pca_data\n",
    "from sklearn.cluster import KMeans\n",
    "from sklearn.model_selection import train_test_split\n",
    "import matplotlib.pyplot as plt\n",
    "#X_train, x_test = train_test_split(pca_34_90percent, test_size = 0.3, random_state=42)"
   ]
  },
  {
   "cell_type": "code",
   "execution_count": 53,
   "metadata": {},
   "outputs": [
    {
     "data": {
      "text/plain": [
       "Text(0, 0.5, 'inertia')"
      ]
     },
     "execution_count": 53,
     "metadata": {},
     "output_type": "execute_result"
    },
    {
     "data": {
      "image/png": "[encoded data removed]",
      "text/plain": [
       "<Figure size 432x288 with 1 Axes>"
      ]
     },
     "metadata": {
      "needs_background": "light"
     },
     "output_type": "display_data"
    }
   ],
   "source": [
    "# elbow analysis\n",
    "df = pd.DataFrame(columns = ['cluster','inertia'])\n",
    "for n in range(1, 56, 4):\n",
    "    kmeans = KMeans(n_clusters=n, random_state=42).fit(pca_34_90percent)\n",
    "    df = df.append({'cluster':n, 'inertia': kmeans.inertia_}, ignore_index=True)\n",
    "\n",
    "plt.plot(df['cluster'],df['inertia'])\n",
    "plt.xticks(np.arange(1, 56, 4.0))\n",
    "plt.xlabel('cluster count')\n",
    "plt.ylabel('inertia')"
   ]
  },
  {
   "cell_type": "code",
   "execution_count": 28,
   "metadata": {},
   "outputs": [
    {
     "name": "stderr",
     "output_type": "stream",
     "text": [
      "C:\\Users\\lyn02\\anaconda3\\lib\\site-packages\\sklearn\\utils\\deprecation.py:143: FutureWarning: The sklearn.metrics.classification module is  deprecated in version 0.22 and will be removed in version 0.24. The corresponding classes / functions should instead be imported from sklearn.metrics. Anything that cannot be imported from sklearn.metrics is now part of the private API.\n",
      "  warnings.warn(message, FutureWarning)\n"
     ]
    },
    {
     "data": {
      "image/png": "[encoded data removed]",
      "text/plain": [
       "<Figure size 576x396 with 2 Axes>"
      ]
     },
     "metadata": {},
     "output_type": "display_data"
    },
    {
     "data": {
      "text/plain": [
       "<AxesSubplot:title={'center':'KMeans Intercluster Distance Map (via MDS)'}, xlabel='PC2', ylabel='PC1'>"
      ]
     },
     "execution_count": 28,
     "metadata": {},
     "output_type": "execute_result"
    }
   ],
   "source": [
    "from yellowbrick.cluster import InterclusterDistance\n",
    "#Intercluster distance analysis\n",
    "# the closer to centers are in the visualization, the closer they are in the original feature space\n",
    "# cluster size depends on number of instances belongs to them --> gives a sense of relative importance of clusters\n",
    "# overlapping clusters do not mean they overlap in the original feature space\n",
    "modelKmean = KMeans(n_clusters=5, random_state=42)\n",
    "visualizer = InterclusterDistance(modelKmean)\n",
    "visualizer.fit(pca_34_90percent)\n",
    "visualizer.show()"
   ]
  },
  {
   "cell_type": "code",
   "execution_count": 31,
   "metadata": {},
   "outputs": [],
   "source": [
    "# save the model to disk\n",
    "modelKmean.fit(pca_34_90percent)\n",
    "filename = 'customer_segmentation_model.sav'\n",
    "pickle.dump(modelKmean, open(filename, 'wb'))"
   ]
  },
  {
   "cell_type": "code",
   "execution_count": 32,
   "metadata": {},
   "outputs": [],
   "source": [
    "# from result above, it looks like 5 clusters is a good separation of the data\n",
    "y_kmean = pd.DataFrame(modelKmean.predict(pca_34_90percent))\n",
    "result = pca_34_90percent.copy(deep=True)\n",
    "result.reset_index(inplace=True)\n",
    "result.insert(1,'label',y_kmean)\n",
    "result = result.rename(columns = {'index':'X'})\n",
    "result = result[['X','label']]\n",
    "index_match = pd.DataFrame(index_match)\n",
    "index_match.reset_index(inplace=True)\n",
    "index_match = index_match.rename(columns = {'index':'X'})\n",
    "\n",
    "result = index_match.merge(result, on = 'X')\n",
    "result = result[['user_id','label']]\n",
    "# export customer classification labels\n",
    "result.to_csv(r'C:\\Users\\lyn02\\Desktop\\CMPE255 Project\\customer_classificationV3kmean.csv', index = True)\n",
    "# export to excel for further analysis\n",
    "kmeanResult = user_aisle_avgCount_annual.merge(result, how='inner', on='user_id')\n",
    "kmeanResult1 = kmeanResult[kmeanResult['label']==0]\n",
    "kmeanResult2 = kmeanResult[kmeanResult['label']>0]\n",
    "kmeanResult1.to_csv(r'C:\\Users\\lyn02\\Desktop\\CMPE255 Project\\kmean1.csv', index = True)\n",
    "kmeanResult2.to_csv(r'C:\\Users\\lyn02\\Desktop\\CMPE255 Project\\kmean2.csv', index = True)"
   ]
  },
  {
   "cell_type": "markdown",
   "metadata": {},
   "source": [
    "# Agglomeartive Clustering"
   ]
  },
  {
   "cell_type": "code",
   "execution_count": 33,
   "metadata": {},
   "outputs": [],
   "source": [
    "# Agglomerative Clustering\n",
    "from scipy.cluster.hierarchy import dendrogram\n",
    "from sklearn.cluster import AgglomerativeClustering\n",
    "\n",
    "np.set_printoptions(threshold=np.inf)\n",
    "def plot_dendrogram(model, **kwargs):\n",
    "    # Create linkage matrix and then plot the dendrogram\n",
    "\n",
    "    # create the counts of samples under each node\n",
    "    counts = np.zeros(model.children_.shape[0]) # n_samples - 1 = 1500-1=1499\n",
    "    n_samples = len(model.labels_) # 1500\n",
    "    for i, merge in enumerate(model.children_):\n",
    "        current_count = 0\n",
    "        \n",
    "        for child_idx in merge:\n",
    "            if child_idx < n_samples:\n",
    "                current_count += 1  # leaf node\n",
    "            else:\n",
    "                current_count += counts[child_idx - n_samples]\n",
    "        counts[i] = current_count\n",
    "\n",
    "    linkage_matrix = np.column_stack([model.children_, model.distances_,\n",
    "                                      counts]).astype(float)\n",
    "\n",
    "    # Plot the corresponding dendrogram\n",
    "    dendrogram(linkage_matrix, **kwargs)\n",
    "    "
   ]
  },
  {
   "cell_type": "code",
   "execution_count": 46,
   "metadata": {},
   "outputs": [
    {
     "data": {
      "image/png": "[encoded data removed]",
      "text/plain": [
       "<Figure size 1440x720 with 1 Axes>"
      ]
     },
     "metadata": {
      "needs_background": "light"
     },
     "output_type": "display_data"
    }
   ],
   "source": [
    "# setting distance_threshold=0 ensures we compute the full tree.\n",
    "model = AgglomerativeClustering(distance_threshold=0, n_clusters=None)\n",
    "\n",
    "model = model.fit(pca_34_90percent)\n",
    "\n",
    "# plot the top three levels of the dendrogram\n",
    "plt.figure(figsize=(20,10))\n",
    "plot_dendrogram(model, truncate_mode='level', p=6)\n",
    "plt.title('Hierarchical Clustering Dendrogram')\n",
    "plt.xlabel(\"Number of points in node (or index of point if no parenthesis).\")\n",
    "plt.ylabel(\"Dissimilarity\")\n",
    "\n",
    "plt.show()"
   ]
  },
  {
   "cell_type": "code",
   "execution_count": 67,
   "metadata": {},
   "outputs": [
    {
     "data": {
      "text/html": [
       "<div>\n",
       "<style scoped>\n",
       "    .dataframe tbody tr th:only-of-type {\n",
       "        vertical-align: middle;\n",
       "    }\n",
       "\n",
       "    .dataframe tbody tr th {\n",
       "        vertical-align: top;\n",
       "    }\n",
       "\n",
       "    .dataframe thead th {\n",
       "        text-align: right;\n",
       "    }\n",
       "</style>\n",
       "<table border=\"1\" class=\"dataframe\">\n",
       "  <thead>\n",
       "    <tr style=\"text-align: right;\">\n",
       "      <th></th>\n",
       "      <th>X</th>\n",
       "      <th>label</th>\n",
       "    </tr>\n",
       "  </thead>\n",
       "  <tbody>\n",
       "    <tr>\n",
       "      <th>0</th>\n",
       "      <td>0</td>\n",
       "      <td>0</td>\n",
       "    </tr>\n",
       "    <tr>\n",
       "      <th>1</th>\n",
       "      <td>1</td>\n",
       "      <td>0</td>\n",
       "    </tr>\n",
       "    <tr>\n",
       "      <th>2</th>\n",
       "      <td>2</td>\n",
       "      <td>1</td>\n",
       "    </tr>\n",
       "    <tr>\n",
       "      <th>3</th>\n",
       "      <td>3</td>\n",
       "      <td>0</td>\n",
       "    </tr>\n",
       "    <tr>\n",
       "      <th>4</th>\n",
       "      <td>4</td>\n",
       "      <td>0</td>\n",
       "    </tr>\n",
       "    <tr>\n",
       "      <th>...</th>\n",
       "      <td>...</td>\n",
       "      <td>...</td>\n",
       "    </tr>\n",
       "    <tr>\n",
       "      <th>40155</th>\n",
       "      <td>40155</td>\n",
       "      <td>0</td>\n",
       "    </tr>\n",
       "    <tr>\n",
       "      <th>40156</th>\n",
       "      <td>40156</td>\n",
       "      <td>0</td>\n",
       "    </tr>\n",
       "    <tr>\n",
       "      <th>40157</th>\n",
       "      <td>40157</td>\n",
       "      <td>0</td>\n",
       "    </tr>\n",
       "    <tr>\n",
       "      <th>40158</th>\n",
       "      <td>40158</td>\n",
       "      <td>0</td>\n",
       "    </tr>\n",
       "    <tr>\n",
       "      <th>40159</th>\n",
       "      <td>40159</td>\n",
       "      <td>0</td>\n",
       "    </tr>\n",
       "  </tbody>\n",
       "</table>\n",
       "<p>40160 rows × 2 columns</p>\n",
       "</div>"
      ],
      "text/plain": [
       "           X  label\n",
       "0          0      0\n",
       "1          1      0\n",
       "2          2      1\n",
       "3          3      0\n",
       "4          4      0\n",
       "...      ...    ...\n",
       "40155  40155      0\n",
       "40156  40156      0\n",
       "40157  40157      0\n",
       "40158  40158      0\n",
       "40159  40159      0\n",
       "\n",
       "[40160 rows x 2 columns]"
      ]
     },
     "execution_count": 67,
     "metadata": {},
     "output_type": "execute_result"
    }
   ],
   "source": [
    "# clustering result from agglomerative clustering\n",
    "model2 = AgglomerativeClustering(n_clusters=5)\n",
    "model2.fit(pca_34_90percent)\n",
    "y_agg = pd.DataFrame(model2.labels_)\n",
    "result_agg = pca_34_90percent.copy(deep=True)\n",
    "result_agg.reset_index(inplace=True)\n",
    "result_agg.insert(1,'label',y_agg)\n",
    "result_agg = result_agg.rename(columns = {'index':'X'})\n",
    "result_agg = result_agg[['X','label']]\n",
    "result_agg = index_match.merge(result_agg, on = 'X')\n",
    "result_agg = result_agg[['user_id','label']]\n",
    "result_agg.to_csv(r'C:\\Users\\lyn02\\Desktop\\CMPE255 Project\\customer_classificationAGG.csv', index = True)\n",
    "#result_agg\n",
    "\n",
    "agg_result = user_aisle_avgCount_annual.merge(result_agg, how='inner', on='user_id')\n",
    "agg_result.to_csv(r'C:\\Users\\lyn02\\Desktop\\CMPE255 Project\\agg.csv', index = True)\n",
    "\n",
    "agg_result1 = agg_result[agg_result['label']==0]\n",
    "agg_result2 = agg_result[agg_result['label']>0]\n",
    "agg_result1.to_csv(r'C:\\Users\\lyn02\\Desktop\\CMPE255 Project\\agg1.csv', index = True)\n",
    "agg_result2.to_csv(r'C:\\Users\\lyn02\\Desktop\\CMPE255 Project\\agg2.csv', index = True)"
   ]
  }
 ],
 "metadata": {
  "kernelspec": {
   "display_name": "Python 3",
   "language": "python",
   "name": "python3"
  },
  "language_info": {
   "codemirror_mode": {
    "name": "ipython",
    "version": 3
   },
   "file_extension": ".py",
   "mimetype": "text/x-python",
   "name": "python",
   "nbconvert_exporter": "python",
   "pygments_lexer": "ipython3",
   "version": "3.8.5"
  }
 },
 "nbformat": 4,
 "nbformat_minor": 4
}
