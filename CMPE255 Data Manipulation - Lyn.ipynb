{
 "cells": [
  {
   "cell_type": "code",
   "execution_count": null,
   "metadata": {},
   "outputs": [],
   "source": [
    "import pandas as pd\n",
    "import numpy as np\n",
    "\n",
    "aisle = pd.read_csv('C:/Users/lyn02/Desktop/CMPE255 Project/Raw Data/aisles.csv')\n",
    "department = pd.read_csv('C:/Users/lyn02/Desktop/CMPE255 Project/Raw Data/departments.csv')\n",
    "order_products_prior = pd.read_csv('C:/Users/lyn02/Desktop/CMPE255 Project/Raw Data/order_products__prior.csv')\n",
    "order_products_train = pd.read_csv('C:/Users/lyn02/Desktop/CMPE255 Project/Raw Data/order_products__train.csv')\n",
    "orders = pd.read_csv('C:/Users/lyn02/Desktop/CMPE255 Project/Raw Data/orders.csv')\n",
    "products = pd.read_csv('C:/Users/lyn02/Desktop/CMPE255 Project/Raw Data/products.csv')\n"
   ]
  },
  {
   "cell_type": "code",
   "execution_count": null,
   "metadata": {},
   "outputs": [],
   "source": [
    "# Take out orderID and productID from both train and prior table and merge them into one order_products_id table\n",
    "order_products_id1 = order_products_train[['order_id','product_id']]\n",
    "order_products_id2 = order_products_prior[['order_id','product_id']]\n",
    "order_products_id = order_products_id1.append(order_products_id2, ignore_index=True)\n",
    "order_products_id"
   ]
  },
  {
   "cell_type": "code",
   "execution_count": null,
   "metadata": {},
   "outputs": [],
   "source": [
    "# take out orderID and userID from orders table\n",
    "order_user_id = orders[['order_id','user_id']]\n",
    "order_user_id"
   ]
  },
  {
   "cell_type": "code",
   "execution_count": null,
   "metadata": {},
   "outputs": [],
   "source": [
    "# to see how many orders each user has altogether\n",
    "user_order_count = order_user_id[['user_id','order_id']]\n",
    "user_order_count['order_id'] = order_user_id['user_id']\n",
    "user_order_count = user_order_count.groupby(user_order_count.columns.tolist()).size().reset_index().rename(columns={0:'count'})\n",
    "user_order_count = user_order_count[['user_id','count']]\n",
    "user_order_count"
   ]
  },
  {
   "cell_type": "code",
   "execution_count": null,
   "metadata": {},
   "outputs": [],
   "source": [
    "#combine order_products and products table to see what aisle each product belongs for each order\n",
    "order_product_aisle = order_products_id.merge(products,on='product_id')\n",
    "order_product_aisle"
   ]
  },
  {
   "cell_type": "code",
   "execution_count": null,
   "metadata": {},
   "outputs": [],
   "source": [
    "#from order_product_aisle table, only select orderID and aisleID to aggregate some data since we only deal with \n",
    "#aisle level granularity\n",
    "#In addition, count of products from each aisle for each order is kept\n",
    "order_aisle_id = order_product_aisle[['order_id','aisle_id']]\n",
    "order_aisle_id\n",
    "order_aisle_count = order_aisle_id.groupby(order_aisle_id.columns.tolist()).size().reset_index().rename(columns={0:'count'})\n",
    "order_aisle_count"
   ]
  },
  {
   "cell_type": "code",
   "execution_count": null,
   "metadata": {},
   "outputs": [],
   "source": [
    "#join order_user_id table and order_aisle_count table to see which order belongs to which user\n",
    "order_user_aisle = order_aisle_count.merge(order_user_id, on='order_id')\n",
    "order_user_aisle"
   ]
  },
  {
   "cell_type": "code",
   "execution_count": null,
   "metadata": {},
   "outputs": [],
   "source": [
    "#from order_user_aisle table, take out orderID\n",
    "user_aisle_id = order_user_aisle[['user_id','aisle_id','count']]\n",
    "user_aisle_id"
   ]
  },
  {
   "cell_type": "code",
   "execution_count": null,
   "metadata": {},
   "outputs": [],
   "source": [
    "# continue from previos step, we maintain count of orders for each aisle belonging to each user\n",
    "user_aisle_count = user_aisle_id.groupby(user_aisle_id.columns.tolist()).size().reset_index().rename(columns={0:'rcount'})\n",
    "user_aisle_count"
   ]
  },
  {
   "cell_type": "code",
   "execution_count": null,
   "metadata": {},
   "outputs": [],
   "source": [
    "#continue from previous step, we multiple two count column to get how many products each user bought from each aisle altogether\n",
    "user_aisle_count['count'] = user_aisle_count['count']*user_aisle_count['rcount']"
   ]
  },
  {
   "cell_type": "code",
   "execution_count": null,
   "metadata": {},
   "outputs": [],
   "source": [
    "user_aisle_count = user_aisle_count[['user_id','aisle_id','count']]\n",
    "user_aisle_count"
   ]
  },
  {
   "cell_type": "code",
   "execution_count": null,
   "metadata": {},
   "outputs": [],
   "source": [
    "# user_order_count left join user_aisle_count\n",
    "#count_x = product count\n",
    "#count_y = order count\n",
    "user_aisle_order_count = user_aisle_count.merge(user_order_count, how='left',on='user_id')\n",
    "user_aisle_order_count\n"
   ]
  },
  {
   "cell_type": "code",
   "execution_count": null,
   "metadata": {},
   "outputs": [],
   "source": [
    "# divide product count by order count to get for aisle, how many products on average each customer would buy per order\n",
    "user_aisle_order_count['avg'] = user_aisle_order_count['count_x']/user_aisle_order_count['count_y']\n",
    "user_aisle_avgCount = user_aisle_order_count[['user_id','aisle_id','avg']]\n",
    "user_aisle_avgCount"
   ]
  },
  {
   "cell_type": "code",
   "execution_count": null,
   "metadata": {},
   "outputs": [],
   "source": [
    "#pivot table\n",
    "table = pd.pivot_table(user_aisle_avgCount, values='avg', index=['user_id'],columns=['aisle_id'], aggfunc=np.sum, fill_value=0)"
   ]
  },
  {
   "cell_type": "code",
   "execution_count": null,
   "metadata": {},
   "outputs": [],
   "source": [
    "table"
   ]
  },
  {
   "cell_type": "code",
   "execution_count": null,
   "metadata": {},
   "outputs": [],
   "source": []
  },
  {
   "cell_type": "code",
   "execution_count": null,
   "metadata": {},
   "outputs": [],
   "source": []
  }
 ],
 "metadata": {
  "kernelspec": {
   "display_name": "Python 3",
   "language": "python",
   "name": "python3"
  },
  "language_info": {
   "codemirror_mode": {
    "name": "ipython",
    "version": 3
   },
   "file_extension": ".py",
   "mimetype": "text/x-python",
   "name": "python",
   "nbconvert_exporter": "python",
   "pygments_lexer": "ipython3",
   "version": "3.8.5"
  }
 },
 "nbformat": 4,
 "nbformat_minor": 4
}
