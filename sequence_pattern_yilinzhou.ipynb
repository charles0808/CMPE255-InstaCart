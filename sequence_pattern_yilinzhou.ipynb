{
 "cells": [
  {
   "cell_type": "code",
   "execution_count": 76,
   "metadata": {},
   "outputs": [],
   "source": [
    "def createC1(D, minSup):\n",
    "    C1 = []\n",
    "    postfixDic={}  \n",
    "    lenD = len(D)\n",
    "\n",
    "    for i in range(lenD):\n",
    "        for idx, item in enumerate(D[i]):\n",
    "            if tuple([item]) not in C1:\n",
    "                postfixDic[tuple([item])]={}\n",
    "                \n",
    "                C1.append(tuple([item]))\n",
    "            if i not in postfixDic[tuple([item])].keys():\n",
    "                postfixDic[tuple([item])][i]=idx\n",
    "\n",
    "    L1, postfixDic = rmLowSup(D, C1, postfixDic, minSup)              \n",
    "    \n",
    "    return L1, postfixDic"
   ]
  },
  {
   "cell_type": "code",
   "execution_count": 77,
   "metadata": {},
   "outputs": [],
   "source": [
    "def rmLowSup(D,Cx, postfixDic,minSup):\n",
    "    Lx = Cx\n",
    "    for iset in Cx:\n",
    "        if len(postfixDic[iset])/len(D) < minSup:\n",
    "            Lx.remove(iset)\n",
    "            postfixDic.pop(iset)\n",
    "        \n",
    "    return Lx, postfixDic"
   ]
  },
  {
   "cell_type": "code",
   "execution_count": 78,
   "metadata": {},
   "outputs": [],
   "source": [
    "def psGen(D, Lk, postfixDic, minSup, minConf): \n",
    "\n",
    "    retList = []\n",
    "    lenD = len(D) \n",
    "    for Ck in Lk:\n",
    "        item_count = {} \n",
    "        for i in postfixDic[Ck].keys(): \n",
    "            item_exsit={}\n",
    "            for j in range(postfixDic[Ck][i]+1, len(D[i])):\n",
    "                if D[i][j] not in item_count.keys():\n",
    "                    item_count[D[i][j]]=0\n",
    "                if D[i][j] not in item_exsit:\n",
    "                    item_count[D[i][j]]+=1\n",
    "                    item_exsit[D[i][j]]=True\n",
    "\n",
    "        c_items = []\n",
    " \n",
    "        for item in item_count.keys():\n",
    "            if item_count[item]/lenD >= minSup and item_count[item]/len(postfixDic[Ck])>=minConf:\n",
    "                c_items.append(item)\n",
    "         \n",
    "        for c_item in c_items:\n",
    "            retList.append(Ck+tuple([c_item]))\n",
    "    \n",
    "    return retList"
   ]
  },
  {
   "cell_type": "code",
   "execution_count": 79,
   "metadata": {},
   "outputs": [],
   "source": [
    "def genNewPostfixDic(D,Lk, prePost):\n",
    "    \n",
    "    postfixDic = {}\n",
    "\n",
    "    for Ck in Lk:\n",
    "        # (1,2)的后缀只能出现在 (1,)的后缀列表里\n",
    "        postfixDic[Ck]={}\n",
    "        tgt = Ck[-1]\n",
    "        prePostList = prePost[Ck[:-1]]\n",
    "        for r_i in prePostList.keys():\n",
    "            for c_i in range(prePostList[r_i]+1, len(D[r_i])):\n",
    "                if D[r_i][c_i]==tgt:\n",
    "                    postfixDic[Ck][r_i] = c_i\n",
    "                    break\n",
    "    \n",
    "    return postfixDic"
   ]
  },
  {
   "cell_type": "code",
   "execution_count": 80,
   "metadata": {},
   "outputs": [],
   "source": [
    "def PrefixSpan(D, minSup=0.5, minConf=0.5, sptNum=False):\n",
    "    L1, postfixDic = createC1(D, minSup)\n",
    "    L = []\n",
    "    k = 2\n",
    "\n",
    "    Dic_L1 = [{x:len(postfixDic[x])} for x in L1]\n",
    "    Dic_L = [Dic_L1]\n",
    "    L = [L1]\n",
    "    \n",
    "    while len(L[k-2]) > 0:\n",
    "        \n",
    "        Lk = psGen(D, L[k-2], postfixDic, minSup, minConf)\n",
    "        \n",
    "\n",
    "        postfixDic = genNewPostfixDic(D,Lk, postfixDic)\n",
    "        Dic_Lk = [{x:len(postfixDic[x])} for x in Lk]\n",
    "\n",
    "        Dic_L1.append(Dic_Lk)\n",
    "        \n",
    "        L.append(Lk)\n",
    "        k+=1\n",
    "    return Dic_L"
   ]
  },
  {
   "cell_type": "code",
   "execution_count": 81,
   "metadata": {},
   "outputs": [
    {
     "name": "stdout",
     "output_type": "stream",
     "text": [
      "{(1,): 5}\n",
      "{(4,): 3}\n",
      "{(2,): 5}\n",
      "{(3,): 4}\n",
      "[{(1, 4): 3}, {(1, 2): 5}, {(1, 3): 4}, {(1, 1): 2}, {(2, 3): 4}, {(2, 1): 2}, {(2, 4): 2}]\n",
      "[{(1, 2, 3): 4}, {(1, 2, 4): 2}, {(1, 1, 3): 2}, {(2, 1, 4): 2}]\n",
      "[]\n"
     ]
    }
   ],
   "source": [
    "D = [\n",
    "    [1,4,2,3],\n",
    "    [0, 1, 2, 3],\n",
    "    [1, 2, 1, 3, 4],\n",
    "    [2, 1, 2, 4, 4],\n",
    "    [1, 1, 1, 2, 3],\n",
    "]\n",
    "L = PrefixSpan(D,minSup=0.3,minConf=0.3, sptNum=True)\n",
    "for i in range(len(L)-1,-1,-1):\n",
    "    for Cx in L[i]:\n",
    "        print(Cx)"
   ]
  },
  {
   "cell_type": "code",
   "execution_count": 82,
   "metadata": {},
   "outputs": [
    {
     "data": {
      "text/plain": [
       "[[{(1,): 5},\n",
       "  {(4,): 3},\n",
       "  {(2,): 5},\n",
       "  {(3,): 4},\n",
       "  [{(1, 4): 3},\n",
       "   {(1, 2): 5},\n",
       "   {(1, 3): 4},\n",
       "   {(1, 1): 2},\n",
       "   {(2, 3): 4},\n",
       "   {(2, 1): 2},\n",
       "   {(2, 4): 2}],\n",
       "  [{(1, 2, 3): 4}, {(1, 2, 4): 2}, {(1, 1, 3): 2}, {(2, 1, 4): 2}],\n",
       "  []]]"
      ]
     },
     "execution_count": 82,
     "metadata": {},
     "output_type": "execute_result"
    }
   ],
   "source": [
    "L"
   ]
  },
  {
   "cell_type": "code",
   "execution_count": null,
   "metadata": {},
   "outputs": [],
   "source": []
  }
 ],
 "metadata": {
  "kernelspec": {
   "display_name": "Python 3",
   "language": "python",
   "name": "python3"
  },
  "language_info": {
   "codemirror_mode": {
    "name": "ipython",
    "version": 3
   },
   "file_extension": ".py",
   "mimetype": "text/x-python",
   "name": "python",
   "nbconvert_exporter": "python",
   "pygments_lexer": "ipython3",
   "version": "3.7.7"
  }
 },
 "nbformat": 4,
 "nbformat_minor": 4
}
